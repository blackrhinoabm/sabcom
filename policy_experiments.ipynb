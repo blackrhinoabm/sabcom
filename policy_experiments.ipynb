{
 "cells": [
  {
   "cell_type": "code",
   "execution_count": 3,
   "metadata": {},
   "outputs": [],
   "source": [
    "import numpy as np\n",
    "import pandas as pd\n",
    "import matplotlib.pyplot as plt\n",
    "from matplotlib import style\n",
    "import time\n",
    "import ipywidgets as wg\n",
    "from ipywidgets import interact\n",
    "from IPython.display import display\n",
    "import networkx as nx\n",
    "from src.environment import Environment, EnvironmentMeanField\n",
    "from src.runner import runner, runner_mean_field\n",
    "from src.helpers import confidence_interval\n",
    "from sklearn import preprocessing\n",
    "import random\n",
    "import json\n",
    "import geopy.distance\n",
    "import os"
   ]
  },
  {
   "cell_type": "code",
   "execution_count": 4,
   "metadata": {},
   "outputs": [],
   "source": [
    "style.use('seaborn-white')"
   ]
  },
  {
   "cell_type": "markdown",
   "metadata": {},
   "source": [
    "# Policy experiments\n",
    "\n",
    "There are **five policy instruments:**\n",
    "\n",
    "1. Physical distancing measures such as increased hygiëne & face mask adoption \n",
    "2. Travel restriction multiplier\n",
    "3. Reducing close / family contacts \n",
    "4. Testing and general awareness\n",
    "5. limiting mass contact e.g. forbidding large events\n",
    "\n",
    "Effect of the policy instruments on **3 outcomes:**\n",
    "\n",
    "1. total infected = end of simulation recovered + dead\n",
    "\n",
    "2. total casualties = end of simulation dead\n",
    "\n",
    "3. peak critical = max(critical) \n",
    "\n",
    "### Setting up the experiments\n",
    "\n",
    "First, load the parameters"
   ]
  },
  {
   "cell_type": "code",
   "execution_count": 5,
   "metadata": {},
   "outputs": [],
   "source": [
    "with open('parameters/parameters.json') as json_file:\n",
    "    parameters = json.load(json_file)"
   ]
  },
  {
   "cell_type": "code",
   "execution_count": 6,
   "metadata": {},
   "outputs": [
    {
     "data": {
      "text/plain": [
       "{'time': 120,\n",
       " 'number_of_agents': 1000,\n",
       " 'monte_carlo_runs': 1,\n",
       " 'data_output': 'csv',\n",
       " 'share_inital_agents_infected': 0.01,\n",
       " 'exposed_days': 4,\n",
       " 'asymptom_days': 10,\n",
       " 'symptom_days': 10,\n",
       " 'critical_days': 8,\n",
       " 'health_system_capacity': 0.0021,\n",
       " 'no_hospital_multiplier': 1.79,\n",
       " 'travel_sample_size': 0.01,\n",
       " 'foreign_infection_days': [0,\n",
       "  1,\n",
       "  2,\n",
       "  3,\n",
       "  4,\n",
       "  5,\n",
       "  6,\n",
       "  7,\n",
       "  8,\n",
       "  9,\n",
       "  10,\n",
       "  11,\n",
       "  12,\n",
       "  13,\n",
       "  14,\n",
       "  15,\n",
       "  16,\n",
       "  17,\n",
       "  18],\n",
       " 'probability_transmission': 0.3,\n",
       " 'probability_to_travel': 0.1,\n",
       " 'probability_symptomatic': 0.75,\n",
       " 'probability_critical': {'age_0_10': 0.001,\n",
       "  'age_10_20': 0.003,\n",
       "  'age_20_30': 0.012,\n",
       "  'age_30_40': 0.032,\n",
       "  'age_40_50': 0.049,\n",
       "  'age_50_60': 0.102,\n",
       "  'age_60_70': 0.166,\n",
       "  'age_70_80': 0.244,\n",
       "  'age_80_plus': 0.273},\n",
       " 'probability_to_die': {'age_0_10': 0.005,\n",
       "  'age_10_20': 0.021,\n",
       "  'age_20_30': 0.053,\n",
       "  'age_30_40': 0.126,\n",
       "  'age_40_50': 0.221,\n",
       "  'age_50_60': 0.303,\n",
       "  'age_60_70': 0.565,\n",
       "  'age_70_80': 0.653,\n",
       "  'age_80_plus': 0.765},\n",
       " 'probability_susceptible': 0.0,\n",
       " 'lockdown_days': [0,\n",
       "  0,\n",
       "  0,\n",
       "  0,\n",
       "  0,\n",
       "  0,\n",
       "  0,\n",
       "  0,\n",
       "  0,\n",
       "  0,\n",
       "  0,\n",
       "  0,\n",
       "  0,\n",
       "  0,\n",
       "  0,\n",
       "  0,\n",
       "  0,\n",
       "  0,\n",
       "  0,\n",
       "  0,\n",
       "  0,\n",
       "  0,\n",
       "  0,\n",
       "  0,\n",
       "  0,\n",
       "  0,\n",
       "  0,\n",
       "  0,\n",
       "  0,\n",
       "  0,\n",
       "  0,\n",
       "  0,\n",
       "  0,\n",
       "  0,\n",
       "  0,\n",
       "  0,\n",
       "  0,\n",
       "  0,\n",
       "  0,\n",
       "  0,\n",
       "  0,\n",
       "  0,\n",
       "  0,\n",
       "  0,\n",
       "  0,\n",
       "  0,\n",
       "  0,\n",
       "  0,\n",
       "  0,\n",
       "  0,\n",
       "  0,\n",
       "  0,\n",
       "  0,\n",
       "  0,\n",
       "  0,\n",
       "  0,\n",
       "  0,\n",
       "  0,\n",
       "  0,\n",
       "  0,\n",
       "  0,\n",
       "  0,\n",
       "  0,\n",
       "  0,\n",
       "  0,\n",
       "  0,\n",
       "  0,\n",
       "  0,\n",
       "  0,\n",
       "  0,\n",
       "  0,\n",
       "  0,\n",
       "  0,\n",
       "  0,\n",
       "  0,\n",
       "  0,\n",
       "  0,\n",
       "  0,\n",
       "  0,\n",
       "  0,\n",
       "  0,\n",
       "  0,\n",
       "  0,\n",
       "  0,\n",
       "  0,\n",
       "  0,\n",
       "  0,\n",
       "  0,\n",
       "  0,\n",
       "  0,\n",
       "  0,\n",
       "  0,\n",
       "  0,\n",
       "  0,\n",
       "  0,\n",
       "  0,\n",
       "  0,\n",
       "  0,\n",
       "  0,\n",
       "  0,\n",
       "  0,\n",
       "  0,\n",
       "  0,\n",
       "  0,\n",
       "  0,\n",
       "  0,\n",
       "  0,\n",
       "  0,\n",
       "  0,\n",
       "  0,\n",
       "  0,\n",
       "  0,\n",
       "  0,\n",
       "  0,\n",
       "  0,\n",
       "  0,\n",
       "  0,\n",
       "  0,\n",
       "  0,\n",
       "  0],\n",
       " 'physical_distancing_multiplier': 0.27,\n",
       " 'travel_restrictions_multiplier': {'age_0_10': 1.0,\n",
       "  'age_10_20': 1.0,\n",
       "  'age_20_30': 1.0,\n",
       "  'age_30_40': 1.0,\n",
       "  'age_40_50': 1.0,\n",
       "  'age_50_60': 1.0,\n",
       "  'age_60_70': 1.0,\n",
       "  'age_70_80': 1.0,\n",
       "  'age_80_plus': 1.0},\n",
       " 'visiting_close_contacts_multiplier': 0.8,\n",
       " 'likelihood_awareness': 0.2,\n",
       " 'self_isolation_multiplier': 0.4,\n",
       " 'aware_status': ['i2'],\n",
       " 'gathering_max_contacts': 4,\n",
       " 'informality_dummy': 0.0}"
      ]
     },
     "execution_count": 6,
     "metadata": {},
     "output_type": "execute_result"
    }
   ],
   "source": [
    "parameters"
   ]
  },
  {
   "cell_type": "markdown",
   "metadata": {},
   "source": [
    "Change the data output to csv light."
   ]
  },
  {
   "cell_type": "code",
   "execution_count": 11,
   "metadata": {},
   "outputs": [],
   "source": [
    "parameters['data_output'] = 'network'"
   ]
  },
  {
   "cell_type": "markdown",
   "metadata": {},
   "source": [
    "Make sure there is no lockdown in the baseline."
   ]
  },
  {
   "cell_type": "code",
   "execution_count": 8,
   "metadata": {},
   "outputs": [],
   "source": [
    "parameters[\"lockdown_days\"] = [None for x in range(0, parameters['time'])]"
   ]
  },
  {
   "cell_type": "markdown",
   "metadata": {},
   "source": [
    "Load the neighbourhood data"
   ]
  },
  {
   "cell_type": "code",
   "execution_count": 9,
   "metadata": {},
   "outputs": [],
   "source": [
    "with open('parameters/district_data.json') as json_file:\n",
    "    neighbourhood_data = json.load(json_file)"
   ]
  },
  {
   "cell_type": "markdown",
   "metadata": {},
   "source": [
    "Load the travel matrix, age_distribution, and distance matrix."
   ]
  },
  {
   "cell_type": "code",
   "execution_count": 10,
   "metadata": {},
   "outputs": [],
   "source": [
    "travel_matrix = pd.read_csv('input_data/Travel_Probability_Matrix.csv', index_col=0)\n",
    "\n",
    "age_distribution = pd.read_csv('input_data/age_dist.csv', sep=';', index_col=0)\n",
    "age_distribution_per_ward = dict(age_distribution.transpose())\n",
    "\n",
    "distance_matrix = pd.read_csv('parameters/distance_matrix.csv', index_col=0)"
   ]
  },
  {
   "cell_type": "markdown",
   "metadata": {},
   "source": [
    "## 0 Baseline"
   ]
  },
  {
   "cell_type": "code",
   "execution_count": 13,
   "metadata": {},
   "outputs": [],
   "source": [
    "baseline_summary_stats = []\n",
    "data_folder = 'measurement/baseline/'"
   ]
  },
  {
   "cell_type": "code",
   "execution_count": 47,
   "metadata": {},
   "outputs": [],
   "source": [
    "parameters['monte_carlo_runs'] = 2"
   ]
  },
  {
   "cell_type": "code",
   "execution_count": 19,
   "metadata": {},
   "outputs": [],
   "source": [
    "# Monte Carlo simulations\n",
    "for seed in range(parameters['monte_carlo_runs']):\n",
    "    # make new folder for seed, if it does not exist\n",
    "    if not os.path.exists('{}seed{}'.format(data_folder, seed)):\n",
    "        os.makedirs('{}seed{}'.format(data_folder, seed))\n",
    "\n",
    "    # initialization\n",
    "    environment = Environment(seed, parameters, neighbourhood_data, age_distribution_per_ward, distance_matrix)\n",
    "\n",
    "    # running the simulation\n",
    "    runner(environment, seed, data_output=parameters[\"data_output\"], data_folder=data_folder, travel_matrix=travel_matrix, verbose=False)\n",
    "    \n",
    "    # saving the network data\n",
    "    for idx, network in enumerate(environment.infection_states):\n",
    "        for i, node in enumerate(network.nodes):\n",
    "            network.nodes[i]['agent'] = network.nodes[i]['agent'].status\n",
    "    \n",
    "    susceptible_ot = []\n",
    "    infected_1_ot = []\n",
    "    infected_2_ot = []\n",
    "    critical_ot = []\n",
    "    dead_ot = []\n",
    "    recovered_ot = []\n",
    "    exposed_ot = []\n",
    "\n",
    "    for t in range(parameters['time']):\n",
    "        network = environment.infection_states[t]\n",
    "        susceptible = 0\n",
    "        infected_1 = 0\n",
    "        infected_2 = 0\n",
    "        critical = 0\n",
    "        dead = 0\n",
    "        recovered = 0\n",
    "        exposed = 0\n",
    "        for idx, node in enumerate(network):\n",
    "            if network.nodes[idx]['agent'] == 's':\n",
    "                susceptible += 1\n",
    "            elif network.nodes[idx]['agent'] == 'e':\n",
    "                exposed += 1\n",
    "            elif network.nodes[idx]['agent'] == 'i1':\n",
    "                infected_1 += 1\n",
    "            elif network.nodes[idx]['agent'] == 'i2':\n",
    "                infected_2 += 1\n",
    "            elif network.nodes[idx]['agent'] == 'c':\n",
    "                critical += 1\n",
    "            elif network.nodes[idx]['agent'] == 'd':\n",
    "                dead += 1\n",
    "            elif network.nodes[idx]['agent'] == 'r':\n",
    "                recovered +=1\n",
    "            else:\n",
    "                print('no status?')\n",
    "\n",
    "        susceptible_ot.append((susceptible / float(len(network))))\n",
    "        infected_1_ot.append((infected_1 / float(len(network))))\n",
    "        infected_2_ot.append((infected_2 / float(len(network))))\n",
    "        critical_ot.append((critical / float(len(network))))\n",
    "        dead_ot.append((dead / float(len(network))))\n",
    "        recovered_ot.append((recovered / float(len(network))))\n",
    "        exposed_ot.append((exposed / float(len(network))))\n",
    "        \n",
    "    # save output data\n",
    "    baseline_summary_stats.append({'total dead': dead_ot[-1], 'peak critical': max(critical_ot), 'total recovered':recovered_ot[-1]})"
   ]
  },
  {
   "cell_type": "code",
   "execution_count": 20,
   "metadata": {},
   "outputs": [
    {
     "data": {
      "text/plain": [
       "[{'total dead': 0.015090543259557344,\n",
       "  'peak critical': 0.006036217303822937,\n",
       "  'total recovered': 0.8722334004024145},\n",
       " {'total dead': 0.015090543259557344,\n",
       "  'peak critical': 0.006036217303822937,\n",
       "  'total recovered': 0.8722334004024145},\n",
       " {'total dead': 0.015090543259557344,\n",
       "  'peak critical': 0.009054325955734407,\n",
       "  'total recovered': 0.8661971830985915},\n",
       " {'total dead': 0.02012072434607646,\n",
       "  'peak critical': 0.014084507042253521,\n",
       "  'total recovered': 0.8531187122736419},\n",
       " {'total dead': 0.006036217303822937,\n",
       "  'peak critical': 0.005030181086519115,\n",
       "  'total recovered': 0.8601609657947686},\n",
       " {'total dead': 0.02012072434607646,\n",
       "  'peak critical': 0.013078470824949699,\n",
       "  'total recovered': 0.8722334004024145}]"
      ]
     },
     "execution_count": 20,
     "metadata": {},
     "output_type": "execute_result"
    }
   ],
   "source": [
    "baseline_summary_stats"
   ]
  },
  {
   "cell_type": "markdown",
   "metadata": {},
   "source": [
    "Calculate average and confidence intervals for total dead, peak critical, and total recovered + dead. "
   ]
  },
  {
   "cell_type": "code",
   "execution_count": 25,
   "metadata": {},
   "outputs": [],
   "source": [
    "total_dead_baseline = [baseline_summary_stats[x]['total dead'] for x in range(len(baseline_summary_stats))]\n",
    "peak_critical_baseline = [baseline_summary_stats[x]['peak critical'] for x in range(len(baseline_summary_stats))]\n",
    "total_infected_baseline = [baseline_summary_stats[x]['total dead'] + baseline_summary_stats[x]['total recovered'] for x in range(len(baseline_summary_stats))]"
   ]
  },
  {
   "cell_type": "code",
   "execution_count": 38,
   "metadata": {},
   "outputs": [
    {
     "data": {
      "text/html": [
       "<div>\n",
       "<style scoped>\n",
       "    .dataframe tbody tr th:only-of-type {\n",
       "        vertical-align: middle;\n",
       "    }\n",
       "\n",
       "    .dataframe tbody tr th {\n",
       "        vertical-align: top;\n",
       "    }\n",
       "\n",
       "    .dataframe thead th {\n",
       "        text-align: right;\n",
       "    }\n",
       "</style>\n",
       "<table border=\"1\" class=\"dataframe\">\n",
       "  <thead>\n",
       "    <tr style=\"text-align: right;\">\n",
       "      <th></th>\n",
       "      <th>average</th>\n",
       "      <th>lower</th>\n",
       "      <th>upper</th>\n",
       "    </tr>\n",
       "  </thead>\n",
       "  <tbody>\n",
       "    <tr>\n",
       "      <th>total dead</th>\n",
       "      <td>0.015258</td>\n",
       "      <td>0.011300</td>\n",
       "      <td>0.019217</td>\n",
       "    </tr>\n",
       "    <tr>\n",
       "      <th>peak critical</th>\n",
       "      <td>0.008887</td>\n",
       "      <td>0.005893</td>\n",
       "      <td>0.011880</td>\n",
       "    </tr>\n",
       "    <tr>\n",
       "      <th>total infected</th>\n",
       "      <td>0.881288</td>\n",
       "      <td>0.873690</td>\n",
       "      <td>0.888885</td>\n",
       "    </tr>\n",
       "  </tbody>\n",
       "</table>\n",
       "</div>"
      ],
      "text/plain": [
       "                 average     lower     upper\n",
       "total dead      0.015258  0.011300  0.019217\n",
       "peak critical   0.008887  0.005893  0.011880\n",
       "total infected  0.881288  0.873690  0.888885"
      ]
     },
     "execution_count": 38,
     "metadata": {},
     "output_type": "execute_result"
    }
   ],
   "source": [
    "# av lower upper\n",
    "simulation_summary = pd.DataFrame({\n",
    "    'total dead': [np.mean(total_dead_baseline), confidence_interval(total_dead_baseline, np.mean(total_dead_baseline))[0], confidence_interval(total_dead_baseline, np.mean(total_dead_baseline))[1]],\n",
    "    'peak critical': [np.mean(peak_critical_baseline), confidence_interval(peak_critical_baseline, np.mean(peak_critical_baseline))[0], confidence_interval(peak_critical_baseline, np.mean(peak_critical_baseline))[1]],\n",
    "    'total infected': [np.mean(total_infected_baseline), confidence_interval(total_infected_baseline, np.mean(total_infected_baseline))[0], confidence_interval(total_infected_baseline, np.mean(total_infected_baseline))[1]]\n",
    "}).transpose()\n",
    "simulation_summary.columns = ['average', 'lower', 'upper']\n",
    "simulation_summary"
   ]
  },
  {
   "cell_type": "markdown",
   "metadata": {},
   "source": [
    "Before starting the experiments, we neutralize all policy parameters. "
   ]
  },
  {
   "cell_type": "code",
   "execution_count": 40,
   "metadata": {},
   "outputs": [],
   "source": [
    "age_groups = ['age_0_10', 'age_10_20', 'age_20_30', 'age_30_40', 'age_40_50',\n",
    "              'age_50_60', 'age_60_70', 'age_70_80', 'age_80_plus']"
   ]
  },
  {
   "cell_type": "code",
   "execution_count": 41,
   "metadata": {},
   "outputs": [],
   "source": [
    "parameters[\"lockdown_days\"] = [x for x in range(0, parameters['time'])]\n",
    "# (1) physical distancing measures such as increased hygiëne & face mask adoption \n",
    "parameters[\"physical_distancing_multiplier\"] = 1.0\n",
    "# (2) reducing travel e.g. by reducing it for work, school or all\n",
    "parameters[\"travel_restrictions_multiplier\"] = {key:value for key, value in zip(age_groups, \n",
    "                                                                                [1.0, 1.0, 1.0, 1.0, 1.0, 1.0, 1.0, 1.0, 1.0])} \n",
    "# (3) reducing close contacts \n",
    "parameters[\"visiting_close_contacts_multiplier\"] = 1.0 # depending on how strict the lockdown is at keeping you put.\n",
    "# (4) Testing and general awareness\n",
    "parameters['likelihood_awareness'] = 0.0 # this will be increased through track & trace and coviid\n",
    "parameters['self_isolation_multiplier'] = 1.0 # determines the percentage of connections cut thanks to self-isoluation can go up with coviid\n",
    "parameters['aware_status'] = ['i2'] # i1 can be added if there is large scale testing \n",
    "# (5) limiting mass contact e.g. forbidding large events\n",
    "parameters[\"gathering_max_contacts\"] = 5000"
   ]
  },
  {
   "cell_type": "markdown",
   "metadata": {},
   "source": [
    "## 1 Physical distancing measures "
   ]
  },
  {
   "cell_type": "code",
   "execution_count": 134,
   "metadata": {},
   "outputs": [],
   "source": [
    "phys_dist_multiplier = [x / 10 for x in range(0, 11, 1)]"
   ]
  },
  {
   "cell_type": "code",
   "execution_count": 135,
   "metadata": {},
   "outputs": [
    {
     "data": {
      "text/plain": [
       "[0.0, 0.1, 0.2, 0.3, 0.4, 0.5, 0.6, 0.7, 0.8, 0.9, 1.0]"
      ]
     },
     "execution_count": 135,
     "metadata": {},
     "output_type": "execute_result"
    }
   ],
   "source": [
    "phys_dist_multiplier"
   ]
  },
  {
   "cell_type": "code",
   "execution_count": 136,
   "metadata": {},
   "outputs": [],
   "source": [
    "parameters[\"monte_carlo_runs\"] = 5"
   ]
  },
  {
   "cell_type": "code",
   "execution_count": 137,
   "metadata": {},
   "outputs": [],
   "source": [
    "pd_experiment = {}\n",
    "for experiment in phys_dist_multiplier:\n",
    "    parameters[\"physical_distancing_multiplier\"] = experiment\n",
    "    #print('experiment with value: ', parameters[\"physical_distancing_multiplier\"])\n",
    "    baseline_summary_stats = []\n",
    "    # Monte Carlo simulations\n",
    "    for seed in range(parameters['monte_carlo_runs']):\n",
    "        # make new folder for seed, if it does not exist\n",
    "        if not os.path.exists('{}seed{}'.format(data_folder, seed)):\n",
    "            os.makedirs('{}seed{}'.format(data_folder, seed))\n",
    "\n",
    "        # initialization\n",
    "        environment = Environment(seed, parameters, neighbourhood_data, age_distribution_per_ward, distance_matrix)\n",
    "\n",
    "        # running the simulation\n",
    "        runner(environment, seed, data_output=parameters[\"data_output\"], data_folder=data_folder, travel_matrix=travel_matrix, verbose=False)\n",
    "\n",
    "        # saving the network data\n",
    "        for idx, network in enumerate(environment.infection_states):\n",
    "            for i, node in enumerate(network.nodes):\n",
    "                network.nodes[i]['agent'] = network.nodes[i]['agent'].status\n",
    "\n",
    "        susceptible_ot = []\n",
    "        infected_1_ot = []\n",
    "        infected_2_ot = []\n",
    "        critical_ot = []\n",
    "        dead_ot = []\n",
    "        recovered_ot = []\n",
    "        exposed_ot = []\n",
    "\n",
    "        for t in range(parameters['time']):\n",
    "            network = environment.infection_states[t]\n",
    "            susceptible = 0\n",
    "            infected_1 = 0\n",
    "            infected_2 = 0\n",
    "            critical = 0\n",
    "            dead = 0\n",
    "            recovered = 0\n",
    "            exposed = 0\n",
    "            for idx, node in enumerate(network):\n",
    "                if network.nodes[idx]['agent'] == 's':\n",
    "                    susceptible += 1\n",
    "                elif network.nodes[idx]['agent'] == 'e':\n",
    "                    exposed += 1\n",
    "                elif network.nodes[idx]['agent'] == 'i1':\n",
    "                    infected_1 += 1\n",
    "                elif network.nodes[idx]['agent'] == 'i2':\n",
    "                    infected_2 += 1\n",
    "                elif network.nodes[idx]['agent'] == 'c':\n",
    "                    critical += 1\n",
    "                elif network.nodes[idx]['agent'] == 'd':\n",
    "                    dead += 1\n",
    "                elif network.nodes[idx]['agent'] == 'r':\n",
    "                    recovered +=1\n",
    "                else:\n",
    "                    print('no status?')\n",
    "\n",
    "            susceptible_ot.append((susceptible / float(len(network))))\n",
    "            infected_1_ot.append((infected_1 / float(len(network))))\n",
    "            infected_2_ot.append((infected_2 / float(len(network))))\n",
    "            critical_ot.append((critical / float(len(network))))\n",
    "            dead_ot.append((dead / float(len(network))))\n",
    "            recovered_ot.append((recovered / float(len(network))))\n",
    "            exposed_ot.append((exposed / float(len(network))))\n",
    "\n",
    "        # save output data\n",
    "        baseline_summary_stats.append({'total dead': dead_ot[-1], 'peak critical': max(critical_ot), 'total recovered':recovered_ot[-1]})\n",
    "    # add outcome to dictionary\n",
    "    total_dead_baseline = [baseline_summary_stats[x]['total dead'] for x in range(len(baseline_summary_stats))]\n",
    "    peak_critical_baseline = [baseline_summary_stats[x]['peak critical'] for x in range(len(baseline_summary_stats))]\n",
    "    total_infected_baseline = [baseline_summary_stats[x]['total dead'] + baseline_summary_stats[x]['total recovered'] for x in range(len(baseline_summary_stats))]\n",
    "    \n",
    "    simulation_summary = pd.DataFrame({\n",
    "    'total dead': [np.mean(total_dead_baseline), confidence_interval(total_dead_baseline, np.mean(total_dead_baseline))[0], confidence_interval(total_dead_baseline, np.mean(total_dead_baseline))[1]],\n",
    "    'peak critical': [np.mean(peak_critical_baseline), confidence_interval(peak_critical_baseline, np.mean(peak_critical_baseline))[0], confidence_interval(peak_critical_baseline, np.mean(peak_critical_baseline))[1]],\n",
    "    'total infected': [np.mean(total_infected_baseline), confidence_interval(total_infected_baseline, np.mean(total_infected_baseline))[0], confidence_interval(total_infected_baseline, np.mean(total_infected_baseline))[1]]\n",
    "    }).transpose()\n",
    "    simulation_summary.columns = ['average', 'lower', 'upper']\n",
    "    \n",
    "    pd_experiment[experiment] = simulation_summary"
   ]
  },
  {
   "cell_type": "code",
   "execution_count": 138,
   "metadata": {},
   "outputs": [],
   "source": [
    "#total_dead_baseline"
   ]
  },
  {
   "cell_type": "markdown",
   "metadata": {},
   "source": [
    "### Make a plot"
   ]
  },
  {
   "cell_type": "code",
   "execution_count": 139,
   "metadata": {},
   "outputs": [],
   "source": [
    "av_total_infected = [pd_experiment[x]['average'].loc['total infected'] for x in phys_dist_multiplier]\n",
    "up_total_infected = [pd_experiment[x]['upper'].loc['total infected'] for x in phys_dist_multiplier]\n",
    "lo_total_infected = [pd_experiment[x]['lower'].loc['total infected'] for x in phys_dist_multiplier]"
   ]
  },
  {
   "cell_type": "code",
   "execution_count": 140,
   "metadata": {},
   "outputs": [],
   "source": [
    "av_peak_critical = [pd_experiment[x]['average'].loc['peak critical'] for x in phys_dist_multiplier]\n",
    "up_peak_critical = [pd_experiment[x]['upper'].loc['peak critical'] for x in phys_dist_multiplier]\n",
    "lo_peak_critical = [pd_experiment[x]['lower'].loc['peak critical'] for x in phys_dist_multiplier]"
   ]
  },
  {
   "cell_type": "code",
   "execution_count": 141,
   "metadata": {},
   "outputs": [],
   "source": [
    "av_total_dead = [pd_experiment[x]['average'].loc['total dead'] for x in phys_dist_multiplier]\n",
    "up_total_dead = [pd_experiment[x]['upper'].loc['total dead'] for x in phys_dist_multiplier]\n",
    "lo_total_dead = [pd_experiment[x]['lower'].loc['total dead'] for x in phys_dist_multiplier]"
   ]
  },
  {
   "cell_type": "code",
   "execution_count": 145,
   "metadata": {},
   "outputs": [
    {
     "data": {
      "image/png": "[encoded data removed]",
      "text/plain": [
       "<Figure size 1008x432 with 3 Axes>"
      ]
     },
     "metadata": {},
     "output_type": "display_data"
    }
   ],
   "source": [
    "x = phys_dist_multiplier\n",
    "\n",
    "fig, (ax1, ax2, ax3) = plt.subplots(1, 3, figsize=(14,6))\n",
    "\n",
    "ax1.plot(x, up_total_infected, color='blue', ls='--')\n",
    "ax1.plot(x, av_total_infected, label='Total infected')\n",
    "ax1.plot(x, lo_total_infected, color='blue', ls='--')\n",
    "\n",
    "ax2.plot(x, up_peak_critical, color='blue', ls='--')\n",
    "ax2.plot(x, av_peak_critical, label='Peak critical')\n",
    "ax2.plot(x, lo_peak_critical, color='blue', ls='--')\n",
    "\n",
    "ax3.plot(x, up_total_dead, color='blue', ls='--')\n",
    "ax3.plot(x, av_total_dead, label='Total dead')\n",
    "ax3.plot(x, lo_total_dead, color='blue', ls='--')\n",
    "\n",
    "for ax in [ax1, ax2, ax3]:\n",
    "    ax.set_xlim(1.0, 0.0)\n",
    "    ax.set_ylabel('Percentage of population')\n",
    "    ax.set_xlabel('Phyical dist multiplier')\n",
    "    ax.legend(loc='best', fontsize='14', frameon=True)\n",
    "    \n",
    "fig.savefig('experiment_phys_distancing.png')"
   ]
  },
  {
   "cell_type": "markdown",
   "metadata": {},
   "source": [
    "## 2 Travel restriction multiplier"
   ]
  },
  {
   "cell_type": "code",
   "execution_count": 146,
   "metadata": {},
   "outputs": [],
   "source": [
    "trave_restr_multiplier = [x / 10 for x in range(0, 11, 1)]"
   ]
  },
  {
   "cell_type": "code",
   "execution_count": null,
   "metadata": {},
   "outputs": [],
   "source": []
  }
 ],
 "metadata": {
  "kernelspec": {
   "display_name": "Python 3",
   "language": "python",
   "name": "python3"
  },
  "language_info": {
   "codemirror_mode": {
    "name": "ipython",
    "version": 3
   },
   "file_extension": ".py",
   "mimetype": "text/x-python",
   "name": "python",
   "nbconvert_exporter": "python",
   "pygments_lexer": "ipython3",
   "version": "3.7.3"
  }
 },
 "nbformat": 4,
 "nbformat_minor": 2
}
