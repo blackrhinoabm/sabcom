{
 "cells": [
  {
   "cell_type": "code",
   "execution_count": 1,
   "metadata": {},
   "outputs": [],
   "source": [
    "import numpy as np\n",
    "import pandas as pd\n",
    "import matplotlib.pyplot as plt\n",
    "from matplotlib import style\n",
    "import time\n",
    "import ipywidgets as wg\n",
    "from ipywidgets import interact\n",
    "from IPython.display import display\n",
    "import networkx as nx\n",
    "from src.environment import Environment\n",
    "from src.runner import runner\n",
    "from src.helpers import confidence_interval\n",
    "from sklearn import preprocessing\n",
    "import random\n",
    "import json\n",
    "import os"
   ]
  },
  {
   "cell_type": "code",
   "execution_count": 2,
   "metadata": {},
   "outputs": [],
   "source": [
    "style.use('seaborn-white')"
   ]
  },
  {
   "cell_type": "markdown",
   "metadata": {},
   "source": [
    "# Initialise small 2 district model"
   ]
  },
  {
   "cell_type": "code",
   "execution_count": 3,
   "metadata": {},
   "outputs": [],
   "source": [
    "age_groups = ['age_0_10', 'age_10_20', 'age_20_30', 'age_30_40', 'age_40_50', \n",
    "              'age_50_60', 'age_60_70', 'age_70_80', 'age_80_plus']"
   ]
  },
  {
   "cell_type": "code",
   "execution_count": 4,
   "metadata": {},
   "outputs": [],
   "source": [
    "TIME = 60"
   ]
  },
  {
   "cell_type": "code",
   "execution_count": 5,
   "metadata": {},
   "outputs": [],
   "source": [
    "parameters = {\n",
    "     # general simulation parameters\n",
    "    \"time\": TIME,\n",
    "    \"number_of_agents\": 50,\n",
    "    \"monte_carlo_runs\": 1,\n",
    "    \n",
    "    # Cape Town specific parameters\n",
    "    \"total_initial_infections\": [x for x in range(0, 19)], # total agents infected in CT\n",
    "    \"health_system_capacity\": 0.0021, # relative (in terms of population) capacity of the hospitals\n",
    "    \n",
    "    # COVID-19 parameters\n",
    "    \"exposed_days\": 4, # average number of days without symptoms and being able to infect others\n",
    "    \"asymptom_days\": 10, # average number of days agents are infected but do not have symptoms\n",
    "    \"symptom_days\": 10,# average number of days agents have mild symptoms\n",
    "    \"critical_days\": 8, # average number of days agents are in critical condition\n",
    "    \"probability_symptomatic\": 0.6165, # determines whether an agent will become asymptomatic or asymptomatic spreader\n",
    "    \"no_hospital_multiplier\": 1.79, # the increase in probability if a critical agent cannot go to the hospital SOURCE: Zhou et al. 2020\n",
    "    \"probability_transmission\": 0.05, # should be estimated to replicate realistic R0 number.\n",
    "    \n",
    "    \"probability_critical\": {key:value for key, value in zip(age_groups, [0.001, 0.003, 0.012, 0.032, 0.049, 0.102, 0.166, 0.244, 0.273])}, # probability that an agent enters a critical stage of the disease SOURCE: Verity et al.\n",
    "    \"probability_to_die\": {key:value for key, value in zip(age_groups, [0.005, 0.021, 0.053, 0.126, 0.221, 0.303, 0.565, 0.653, 0.765])}, # probability to die per age group in critical stage SOURCE: Verity et al.\n",
    "    \n",
    "    # Policy parameters\n",
    "    \"lockdown_days\" : [None for x in range(0, TIME)], # in the baseline this is 0, 5 march was the first reported case, 27 march was the start of the lockdown 35 days \n",
    "    \"informality_dummy\": 1.0, # setting this parameter at 0 will mean the lockdown is equally effective anywhere, alternative = 1\n",
    "    \n",
    "    # Specific policy parameters\n",
    "    # (1) physical distancing measures such as increased hygiëne & face mask adoption \n",
    "    \"physical_distancing_multiplier\": 0.27, # Jarvis et al. 2020,\n",
    "    # (2) reducing travel e.g. by reducing it for work, school or all\n",
    "    \"visiting_recurring_contacts_multiplier\": 0.6, # depending on how strict the lockdown is at keeping you put.\n",
    "    # (3) Testing and general awareness\n",
    "    'likelihood_awareness': 0.6, # this will be increased through track & trace and coviid\n",
    "    'self_isolation_multiplier': 0.4, # determines the percentage of connections cut thanks to self-isoluation can go up with coviid\n",
    "    'aware_status': ['i2'], # i1 can be added if there is large scale testing \n",
    "    # (4) limiting mass contact e.g. forbidding large events\n",
    "    \"gathering_max_contacts\": 6,\n",
    "    \n",
    "    # Technical parameters\n",
    "    'init_infected_agent': 0, # to calculate R0\n",
    "    \"data_output\": 'network', # 'csv' or 'network', or 'False'\n",
    "    \n",
    "    # Depreciated paramters (can be used later)\n",
    "    \"probability_susceptible\": 0.000, # probability that the agent will again be susceptible after having recovered\n",
    "}"
   ]
  },
  {
   "cell_type": "code",
   "execution_count": 6,
   "metadata": {},
   "outputs": [],
   "source": [
    "districts_data = [[1, {'Population': round(parameters['number_of_agents'] / 2),\n",
    "                                                 'Density': 1.0,\n",
    "                                                 'lon': 1.0,\n",
    "                                                 'lat': 1.0,\n",
    "                                                 'Informal_residential': 0.0,\n",
    "                                                 'Cases_With_Subdistricts': 0.5,\n",
    "                                                }],\n",
    "                 [2, {'Population': round(parameters['number_of_agents'] / 2),\n",
    "                                                 'Density': 1.0,\n",
    "                                                 'lon': 2.0,\n",
    "                                                 'lat': 2.0,\n",
    "                                                 'Informal_residential': 0.0,\n",
    "                                                 'Cases_With_Subdistricts': 0.5,\n",
    "                                                }]]"
   ]
  },
  {
   "cell_type": "code",
   "execution_count": 7,
   "metadata": {},
   "outputs": [],
   "source": [
    "a_distribution =  [0.112314, 0.118867, 0.145951, 0.145413, 0.151773, 0.139329, 0.099140, 0.058729, 0.028484]"
   ]
  },
  {
   "cell_type": "markdown",
   "metadata": {},
   "source": [
    "Age distribution per district only has one district and accompanying distribution. "
   ]
  },
  {
   "cell_type": "code",
   "execution_count": 8,
   "metadata": {},
   "outputs": [],
   "source": [
    "age_distribution_per_district = {1: pd.Series(a_distribution, index=age_groups), 2: pd.Series(a_distribution, index=age_groups)}"
   ]
  },
  {
   "cell_type": "markdown",
   "metadata": {},
   "source": [
    "The distance matrix is assumes that there is an equal opportunity for tavel between and within the two districts"
   ]
  },
  {
   "cell_type": "code",
   "execution_count": 9,
   "metadata": {},
   "outputs": [],
   "source": [
    "travel_matrix = {districts_data[0][0]: [0.5, 0.5], districts_data[1][0]: [0.5, 0.5]}\n",
    "travel_matrix = pd.DataFrame(travel_matrix).transpose()\n",
    "travel_matrix.columns = [str(districts_data[0][0]), str(districts_data[1][0])]"
   ]
  },
  {
   "cell_type": "code",
   "execution_count": 11,
   "metadata": {},
   "outputs": [
    {
     "data": {
      "text/html": [
       "<div>\n",
       "<style scoped>\n",
       "    .dataframe tbody tr th:only-of-type {\n",
       "        vertical-align: middle;\n",
       "    }\n",
       "\n",
       "    .dataframe tbody tr th {\n",
       "        vertical-align: top;\n",
       "    }\n",
       "\n",
       "    .dataframe thead th {\n",
       "        text-align: right;\n",
       "    }\n",
       "</style>\n",
       "<table border=\"1\" class=\"dataframe\">\n",
       "  <thead>\n",
       "    <tr style=\"text-align: right;\">\n",
       "      <th></th>\n",
       "      <th>1</th>\n",
       "      <th>2</th>\n",
       "    </tr>\n",
       "  </thead>\n",
       "  <tbody>\n",
       "    <tr>\n",
       "      <th>1</th>\n",
       "      <td>0.5</td>\n",
       "      <td>0.5</td>\n",
       "    </tr>\n",
       "    <tr>\n",
       "      <th>2</th>\n",
       "      <td>0.5</td>\n",
       "      <td>0.5</td>\n",
       "    </tr>\n",
       "  </tbody>\n",
       "</table>\n",
       "</div>"
      ],
      "text/plain": [
       "     1    2\n",
       "1  0.5  0.5\n",
       "2  0.5  0.5"
      ]
     },
     "execution_count": 11,
     "metadata": {},
     "output_type": "execute_result"
    }
   ],
   "source": [
    "travel_matrix"
   ]
  },
  {
   "cell_type": "markdown",
   "metadata": {},
   "source": [
    "**Contact matrices**"
   ]
  },
  {
   "cell_type": "code",
   "execution_count": 12,
   "metadata": {},
   "outputs": [],
   "source": [
    "age_groups = ['age_0_10', 'age_10_20', 'age_20_30', 'age_30_40', 'age_40_50', \n",
    "              'age_50_60', 'age_60_70', 'age_70_80', 'age_80_plus']\n",
    "\n",
    "hh_contact_matrix = pd.read_excel('input_data/ContactMatrices_10year.xlsx', sheet_name=\"Home\", index_col=0)\n",
    "hh_contact_matrix['80plus'] = hh_contact_matrix['70_80']\n",
    "row = hh_contact_matrix.xs('70_80')\n",
    "row.name = '80plus'\n",
    "hh_contact_matrix = hh_contact_matrix.append(row)\n",
    "hh_contact_matrix.columns = age_groups\n",
    "hh_contact_matrix.index = age_groups"
   ]
  },
  {
   "cell_type": "code",
   "execution_count": 13,
   "metadata": {},
   "outputs": [],
   "source": [
    "other_contact_matrix = pd.read_excel('input_data/ContactMatrices_10year.xlsx', sheet_name=\"OutsideOfHome\", index_col=0)\n",
    "other_contact_matrix['80plus'] = other_contact_matrix['70_80']\n",
    "row = other_contact_matrix.xs('70_80')\n",
    "row.name = '80plus'\n",
    "other_contact_matrix = other_contact_matrix.append(row)"
   ]
  },
  {
   "cell_type": "code",
   "execution_count": 14,
   "metadata": {},
   "outputs": [],
   "source": [
    "other_contact_matrix.columns = age_groups\n",
    "other_contact_matrix.index = age_groups"
   ]
  },
  {
   "cell_type": "markdown",
   "metadata": {},
   "source": [
    "**Household size distribution for the two districts**\n",
    "\n",
    "For this, we use the household size distribution the first two districts in Cape Town"
   ]
  },
  {
   "cell_type": "code",
   "execution_count": 15,
   "metadata": {},
   "outputs": [
    {
     "data": {
      "text/html": [
       "<div>\n",
       "<style scoped>\n",
       "    .dataframe tbody tr th:only-of-type {\n",
       "        vertical-align: middle;\n",
       "    }\n",
       "\n",
       "    .dataframe tbody tr th {\n",
       "        vertical-align: top;\n",
       "    }\n",
       "\n",
       "    .dataframe thead th {\n",
       "        text-align: right;\n",
       "    }\n",
       "</style>\n",
       "<table border=\"1\" class=\"dataframe\">\n",
       "  <thead>\n",
       "    <tr style=\"text-align: right;\">\n",
       "      <th></th>\n",
       "      <th>1</th>\n",
       "      <th>2</th>\n",
       "      <th>3</th>\n",
       "      <th>4</th>\n",
       "      <th>5</th>\n",
       "      <th>6</th>\n",
       "      <th>7</th>\n",
       "      <th>8</th>\n",
       "      <th>9</th>\n",
       "      <th>10</th>\n",
       "      <th>...</th>\n",
       "      <th>246</th>\n",
       "      <th>247</th>\n",
       "      <th>248</th>\n",
       "      <th>249</th>\n",
       "      <th>250</th>\n",
       "      <th>251</th>\n",
       "      <th>255</th>\n",
       "      <th>256</th>\n",
       "      <th>262</th>\n",
       "      <th>Total</th>\n",
       "    </tr>\n",
       "  </thead>\n",
       "  <tbody>\n",
       "    <tr>\n",
       "      <th>1</th>\n",
       "      <td>2064.10336</td>\n",
       "      <td>2851.54289</td>\n",
       "      <td>1627.27746</td>\n",
       "      <td>1572.17372</td>\n",
       "      <td>675.87276</td>\n",
       "      <td>237.09030</td>\n",
       "      <td>79.31132</td>\n",
       "      <td>33.39424</td>\n",
       "      <td>6.26142</td>\n",
       "      <td>2.08714</td>\n",
       "      <td>...</td>\n",
       "      <td>0</td>\n",
       "      <td>0</td>\n",
       "      <td>0</td>\n",
       "      <td>0</td>\n",
       "      <td>0</td>\n",
       "      <td>0</td>\n",
       "      <td>0</td>\n",
       "      <td>0</td>\n",
       "      <td>0</td>\n",
       "      <td>9170.33246</td>\n",
       "    </tr>\n",
       "    <tr>\n",
       "      <th>2</th>\n",
       "      <td>2798.57376</td>\n",
       "      <td>2894.32048</td>\n",
       "      <td>1837.07722</td>\n",
       "      <td>1639.96986</td>\n",
       "      <td>672.92960</td>\n",
       "      <td>314.03824</td>\n",
       "      <td>115.61842</td>\n",
       "      <td>44.82994</td>\n",
       "      <td>14.56641</td>\n",
       "      <td>7.26142</td>\n",
       "      <td>...</td>\n",
       "      <td>0</td>\n",
       "      <td>0</td>\n",
       "      <td>0</td>\n",
       "      <td>0</td>\n",
       "      <td>0</td>\n",
       "      <td>0</td>\n",
       "      <td>0</td>\n",
       "      <td>0</td>\n",
       "      <td>0</td>\n",
       "      <td>10366.49034</td>\n",
       "    </tr>\n",
       "  </tbody>\n",
       "</table>\n",
       "<p>2 rows × 253 columns</p>\n",
       "</div>"
      ],
      "text/plain": [
       "            1           2           3           4          5          6  \\\n",
       "1  2064.10336  2851.54289  1627.27746  1572.17372  675.87276  237.09030   \n",
       "2  2798.57376  2894.32048  1837.07722  1639.96986  672.92960  314.03824   \n",
       "\n",
       "           7         8         9       10  ...  246  247  248  249  250  251  \\\n",
       "1   79.31132  33.39424   6.26142  2.08714  ...    0    0    0    0    0    0   \n",
       "2  115.61842  44.82994  14.56641  7.26142  ...    0    0    0    0    0    0   \n",
       "\n",
       "   255  256  262        Total  \n",
       "1    0    0    0   9170.33246  \n",
       "2    0    0    0  10366.49034  \n",
       "\n",
       "[2 rows x 253 columns]"
      ]
     },
     "execution_count": 15,
     "metadata": {},
     "output_type": "execute_result"
    }
   ],
   "source": [
    "HH_size_distribution = pd.read_excel('input_data/HH_Size_Distribution.xlsx', index_col=0)\n",
    "HH_size_distribution = HH_size_distribution.iloc[0:2]\n",
    "HH_size_distribution.index = [1, 2]\n",
    "HH_size_distribution"
   ]
  },
  {
   "cell_type": "code",
   "execution_count": 16,
   "metadata": {},
   "outputs": [],
   "source": [
    "data_folder = 'measurement/simple/'\n",
    "\n",
    "if not os.path.exists('{}seed{}'.format(data_folder, 0)):\n",
    "    os.makedirs('{}seed{}'.format(data_folder, 0))"
   ]
  },
  {
   "cell_type": "markdown",
   "metadata": {},
   "source": [
    "# Simulation"
   ]
  },
  {
   "cell_type": "code",
   "execution_count": 17,
   "metadata": {},
   "outputs": [],
   "source": [
    "data_folder = 'measurement/simple/'\n",
    "\n",
    "if not os.path.exists('{}seed{}'.format(data_folder, 0)):\n",
    "    os.makedirs('{}seed{}'.format(data_folder, 0))\n",
    "    \n",
    "environment = Environment(0, parameters, districts_data, age_distribution_per_district, \n",
    "                         hh_contact_matrix, other_contact_matrix, HH_size_distribution, travel_matrix)\n",
    "environment = runner(environment, 0, data_output='network', data_folder=data_folder)\n"
   ]
  },
  {
   "cell_type": "markdown",
   "metadata": {},
   "source": [
    "# Analysis"
   ]
  },
  {
   "cell_type": "code",
   "execution_count": 18,
   "metadata": {},
   "outputs": [],
   "source": [
    "for idx, network in enumerate(environment.infection_states):\n",
    "    for i, node in enumerate(network.nodes):\n",
    "        network.nodes[i]['agent'] = network.nodes[i]['agent'].status"
   ]
  },
  {
   "cell_type": "code",
   "execution_count": 19,
   "metadata": {},
   "outputs": [],
   "source": [
    "pos = nx.spring_layout(environment.infection_states[0])"
   ]
  },
  {
   "cell_type": "code",
   "execution_count": 20,
   "metadata": {},
   "outputs": [],
   "source": [
    "def plot_model(t):\n",
    "    network = environment.infection_states[t]\n",
    "    color_map = []\n",
    "    for idx, node in enumerate(network):\n",
    "        if network.nodes[idx]['agent'] == 's':\n",
    "            color_map.append('blue')\n",
    "        elif network.nodes[idx]['agent'] == 'e':\n",
    "            color_map.append('pink')\n",
    "        elif network.nodes[idx]['agent'] == 'i1':\n",
    "            color_map.append('purple')\n",
    "        elif network.nodes[idx]['agent'] == 'i2':\n",
    "            color_map.append('red')\n",
    "        elif network.nodes[idx]['agent'] == 'c':\n",
    "            color_map.append('brown')\n",
    "        elif network.nodes[idx]['agent'] == 'd':\n",
    "            color_map.append('black')\n",
    "        elif network.nodes[idx]['agent'] == 'r':\n",
    "            color_map.append('grey')\n",
    "    nx.draw(network, pos=pos, node_color=color_map, with_labels=True)"
   ]
  },
  {
   "cell_type": "code",
   "execution_count": 21,
   "metadata": {},
   "outputs": [
    {
     "data": {
      "application/vnd.jupyter.widget-view+json": {
       "model_id": "96bf6c4d7cc646f388fe4fb66f8bc0aa",
       "version_major": 2,
       "version_minor": 0
      },
      "text/plain": [
       "interactive(children=(IntSlider(value=0, description='Time step', max=59), Output()), _dom_classes=('widget-in…"
      ]
     },
     "metadata": {},
     "output_type": "display_data"
    },
    {
     "data": {
      "text/plain": [
       "<function __main__.plot_model(t)>"
      ]
     },
     "execution_count": 21,
     "metadata": {},
     "output_type": "execute_result"
    }
   ],
   "source": [
    "time_period = wg.IntSlider(description='Time step', min=0, max=parameters['time']-1)\n",
    "wg.interact(plot_model, t=time_period)"
   ]
  },
  {
   "cell_type": "code",
   "execution_count": 22,
   "metadata": {},
   "outputs": [],
   "source": [
    "susceptible_ot = []\n",
    "exposed_ot = []\n",
    "infected_1_ot = []\n",
    "infected_2_ot = []\n",
    "critical_ot = []\n",
    "dead_ot = []\n",
    "recovered_ot = []\n",
    "\n",
    "for t in range(parameters['time']):\n",
    "    network = environment.infection_states[t]\n",
    "    susceptible = 0\n",
    "    exposed = 0\n",
    "    infected_1 = 0\n",
    "    infected_2 = 0\n",
    "    critical = 0\n",
    "    dead = 0\n",
    "    recovered = 0\n",
    "    for idx, node in enumerate(network):\n",
    "        if network.nodes[idx]['agent'] == 's':\n",
    "            susceptible += 1\n",
    "        elif network.nodes[idx]['agent'] == 'e':\n",
    "            exposed += 1\n",
    "        elif network.nodes[idx]['agent'] == 'i1':\n",
    "            infected_1 += 1\n",
    "        elif network.nodes[idx]['agent'] == 'i2':\n",
    "            infected_2 += 1\n",
    "        elif network.nodes[idx]['agent'] == 'c':\n",
    "            critical += 1\n",
    "        elif network.nodes[idx]['agent'] == 'd':\n",
    "            dead += 1\n",
    "        elif network.nodes[idx]['agent'] == 'r':\n",
    "            recovered +=1\n",
    "        else:\n",
    "            print('no status?')\n",
    "    \n",
    "    susceptible_ot.append((susceptible / float(len(network))))\n",
    "    infected_1_ot.append((infected_1 / float(len(network))))\n",
    "    infected_2_ot.append((infected_2 / float(len(network))))\n",
    "    critical_ot.append((critical / float(len(network))))\n",
    "    dead_ot.append((dead / float(len(network))) )\n",
    "    recovered_ot.append((recovered / float(len(network))) )\n",
    "    exposed_ot.append((exposed / float(len(network))) )"
   ]
  },
  {
   "cell_type": "code",
   "execution_count": 23,
   "metadata": {},
   "outputs": [
    {
     "data": {
      "text/plain": [
       "(0, 1)"
      ]
     },
     "execution_count": 23,
     "metadata": {},
     "output_type": "execute_result"
    },
    {
     "data": {
      "image/png": "[encoded data removed]",
      "text/plain": [
       "<Figure size 1008x576 with 1 Axes>"
      ]
     },
     "metadata": {},
     "output_type": "display_data"
    }
   ],
   "source": [
    "fig, ax = plt.subplots(figsize=(14,8))\n",
    "\n",
    "x = [x for x in range(parameters['time'])]\n",
    "\n",
    "labels = ['critical','infected-2', 'infected-1', 'exposed', 'recovered', 'susceptible', 'dead']\n",
    "\n",
    "y = np.vstack([critical_ot, infected_2_ot, infected_1_ot, exposed_ot, recovered_ot, susceptible_ot, dead_ot])\n",
    "\n",
    "ax.axhline(parameters['health_system_capacity'], color='black')\n",
    "\n",
    "pal = [\"#f9b4ad\", \"#1b81c2\", \"#91b7d1\", \"#b39eb5\", \"#b7f0a5\", \"#e0e4ec\",\"#000000\"]\n",
    "\n",
    "ax.stackplot(x, y, colors= pal, labels=labels)\n",
    "ax.legend(loc='best', fontsize='14', frameon=True)\n",
    "ax.set_ylabel('Cape Town population', fontsize='14')\n",
    "ax.set_xlabel('Days', fontsize='14')\n",
    "\n",
    "\n",
    "plt.xlim([0,parameters['time']])\n",
    "plt.ylim([0, 1])"
   ]
  },
  {
   "cell_type": "code",
   "execution_count": null,
   "metadata": {},
   "outputs": [],
   "source": []
  }
 ],
 "metadata": {
  "kernelspec": {
   "display_name": "Python 3",
   "language": "python",
   "name": "python3"
  },
  "language_info": {
   "codemirror_mode": {
    "name": "ipython",
    "version": 3
   },
   "file_extension": ".py",
   "mimetype": "text/x-python",
   "name": "python",
   "nbconvert_exporter": "python",
   "pygments_lexer": "ipython3",
   "version": "3.7.3"
  }
 },
 "nbformat": 4,
 "nbformat_minor": 2
}
