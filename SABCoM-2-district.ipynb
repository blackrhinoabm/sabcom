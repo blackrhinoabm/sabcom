{
 "cells": [
  {
   "cell_type": "code",
   "execution_count": 1,
   "metadata": {},
   "outputs": [],
   "source": [
    "import numpy as np\n",
    "import pandas as pd\n",
    "import matplotlib.pyplot as plt\n",
    "from matplotlib import style\n",
    "import ipywidgets as wg\n",
    "from ipywidgets import interact\n",
    "from IPython.display import display\n",
    "import networkx as nx\n",
    "from src.environment import Environment\n",
    "from src.runner import runner\n",
    "from sklearn import preprocessing\n",
    "import random\n",
    "import json\n",
    "import os"
   ]
  },
  {
   "cell_type": "code",
   "execution_count": 2,
   "metadata": {},
   "outputs": [],
   "source": [
    "style.use('seaborn-white')"
   ]
  },
  {
   "cell_type": "markdown",
   "metadata": {},
   "source": [
    "# Initialise small 2 district model"
   ]
  },
  {
   "cell_type": "code",
   "execution_count": 3,
   "metadata": {},
   "outputs": [],
   "source": [
    "age_groups = ['age_0_10', 'age_10_20', 'age_20_30', 'age_30_40', 'age_40_50', \n",
    "              'age_50_60', 'age_60_70', 'age_70_80', 'age_80_plus']"
   ]
  },
  {
   "cell_type": "code",
   "execution_count": 32,
   "metadata": {},
   "outputs": [],
   "source": [
    "parameters = {\n",
    "    # general simulation parameters\n",
    "    \"time\": 60,\n",
    "    \"number_of_agents\": 300,\n",
    "    \"monte_carlo_runs\": 1,\n",
    "    \"data_output\": 'network', # 'csv' or 'network', or 'False'\n",
    "    # specific simulation parameters\n",
    "    \"incubation_days\": 5, # average number of days agents are infected but do not have symptoms SOURCE Zhang et al. 2020\n",
    "    \"symptom_days\": 10,# average number of days agents have mild symptoms\n",
    "    \"critical_days\": 8, # average number of days agents are in critical condition\n",
    "    \"health_system_capacity\": 0.0021, # relative (in terms of population) capacity of the hospitals\n",
    "    \"no_hospital_multiplier\": 1.79, # the increase in probability if a critical agent cannot go to the hospital SOURCE: Zhou et al. 2020\n",
    "    \"travel_sample_size\": 0.02, # amount of agents that an agent might choose to travel to\n",
    "    \"foreign_infection_days\": [x for x in range(0, 2)], # days at which 1 agent will be infected every day from abroad \n",
    "    # agent parameters\n",
    "    \"probability_transmission\": 0.09, # should be estimated to replicate realistic R0 number.\n",
    "    \"probability_to_travel\": 0.25, # should be estimated to replicate travel data \n",
    "    \"probability_critical\": {key:value for key, value in zip(age_groups, [0.001, 0.003, 0.012, 0.032, 0.049, 0.102, 0.166, 0.244, 0.273])}, # probability that an agent enters a critical stage of the disease SOURCE: Verity et al.\n",
    "    \"probability_to_die\": {key:value for key, value in zip(age_groups, [0.005, 0.021, 0.053, 0.126, 0.221, 0.303, 0.565, 0.653, 0.765])}, # probability to die per age group in critical stage SOURCE: Verity et al.\n",
    "    \"probability_susceptible\": 0.000, # probability that the agent will again be susceptible after having recovered\n",
    "    # experiment parameter\n",
    "    \"lockdown_days\" : [x for x in range(0, 60)], # in the baseline this is 0, 5 march was the first reported case, 27 march was the start of the lockdown 35 days\n",
    "    \"lockdown_travel_multiplier\": 1.0 - ((0.85 + 0.62) / 2), # need estimate for this based on apple travel data reduction of 85% google work of -62% for Western Cape\n",
    "    \"lockdown_infection_multiplier\": 0.27, #0.27 Jarvis et al. 2020\n",
    "    \"lockdown_travel_max_contacts\": 4,\n",
    "    \"informality_dummy\": 0.0, # setting this parameter at 0 will mean the lockdown is equally effective anywhere, alternative = 1\n",
    "    \"at_risk_groups\": age_groups # list all age groups for baseline\n",
    "}"
   ]
  },
  {
   "cell_type": "code",
   "execution_count": 23,
   "metadata": {},
   "outputs": [],
   "source": [
    "districts_data = [[1, {'Population': round(parameters['number_of_agents'] / 2),\n",
    "                                                 'Density': 1.0,\n",
    "                                                 'lon': 1.0,\n",
    "                                                 'lat': 1.0,\n",
    "                                                 'Informal_residential': 0.0,\n",
    "                                                 'Cases_With_Subdistricts': 0.5,\n",
    "                                                }],\n",
    "                 [2, {'Population': round(parameters['number_of_agents'] / 2),\n",
    "                                                 'Density': 1.0,\n",
    "                                                 'lon': 2.0,\n",
    "                                                 'lat': 2.0,\n",
    "                                                 'Informal_residential': 0.0,\n",
    "                                                 'Cases_With_Subdistricts': 0.5,\n",
    "                                                }]]"
   ]
  },
  {
   "cell_type": "code",
   "execution_count": 24,
   "metadata": {},
   "outputs": [],
   "source": [
    "a_distribution =  [0.112314, 0.118867, 0.145951, 0.145413, 0.151773, 0.139329, 0.099140, 0.058729, 0.028484]"
   ]
  },
  {
   "cell_type": "markdown",
   "metadata": {},
   "source": [
    "Age distribution per district only has one district and accompanying distribution. "
   ]
  },
  {
   "cell_type": "code",
   "execution_count": 25,
   "metadata": {},
   "outputs": [],
   "source": [
    "age_distribution_per_district = {1: pd.Series(a_distribution, index=age_groups), 2: pd.Series(a_distribution, index=age_groups)}"
   ]
  },
  {
   "cell_type": "markdown",
   "metadata": {},
   "source": [
    "The distance matrix is assumes that there is an equal opportunity for tavel between and within the two districts"
   ]
  },
  {
   "cell_type": "code",
   "execution_count": 26,
   "metadata": {},
   "outputs": [],
   "source": [
    "travel_matrix = {districts_data[0][0]: [0.5, 0.5], districts_data[1][0]: [0.5, 0.5]}\n",
    "travel_matrix = pd.DataFrame(travel_matrix).transpose()\n",
    "travel_matrix.columns = [districts_data[0][0], districts_data[1][0]]"
   ]
  },
  {
   "cell_type": "code",
   "execution_count": 27,
   "metadata": {},
   "outputs": [
    {
     "data": {
      "text/html": [
       "<div>\n",
       "<style scoped>\n",
       "    .dataframe tbody tr th:only-of-type {\n",
       "        vertical-align: middle;\n",
       "    }\n",
       "\n",
       "    .dataframe tbody tr th {\n",
       "        vertical-align: top;\n",
       "    }\n",
       "\n",
       "    .dataframe thead th {\n",
       "        text-align: right;\n",
       "    }\n",
       "</style>\n",
       "<table border=\"1\" class=\"dataframe\">\n",
       "  <thead>\n",
       "    <tr style=\"text-align: right;\">\n",
       "      <th></th>\n",
       "      <th>1</th>\n",
       "      <th>2</th>\n",
       "    </tr>\n",
       "  </thead>\n",
       "  <tbody>\n",
       "    <tr>\n",
       "      <th>1</th>\n",
       "      <td>0.5</td>\n",
       "      <td>0.5</td>\n",
       "    </tr>\n",
       "    <tr>\n",
       "      <th>2</th>\n",
       "      <td>0.5</td>\n",
       "      <td>0.5</td>\n",
       "    </tr>\n",
       "  </tbody>\n",
       "</table>\n",
       "</div>"
      ],
      "text/plain": [
       "     1    2\n",
       "1  0.5  0.5\n",
       "2  0.5  0.5"
      ]
     },
     "execution_count": 27,
     "metadata": {},
     "output_type": "execute_result"
    }
   ],
   "source": [
    "travel_matrix"
   ]
  },
  {
   "cell_type": "code",
   "execution_count": 28,
   "metadata": {},
   "outputs": [],
   "source": [
    "distance_matrix = distance_matrix = {districts_data[0][0]: [0.0, 1.5], districts_data[1][0]: [1.5, 0.0]}\n",
    "distance_matrix = pd.DataFrame(distance_matrix).transpose()\n",
    "distance_matrix.columns = [districts_data[0][0], districts_data[1][0]]"
   ]
  },
  {
   "cell_type": "code",
   "execution_count": 29,
   "metadata": {},
   "outputs": [
    {
     "data": {
      "text/html": [
       "<div>\n",
       "<style scoped>\n",
       "    .dataframe tbody tr th:only-of-type {\n",
       "        vertical-align: middle;\n",
       "    }\n",
       "\n",
       "    .dataframe tbody tr th {\n",
       "        vertical-align: top;\n",
       "    }\n",
       "\n",
       "    .dataframe thead th {\n",
       "        text-align: right;\n",
       "    }\n",
       "</style>\n",
       "<table border=\"1\" class=\"dataframe\">\n",
       "  <thead>\n",
       "    <tr style=\"text-align: right;\">\n",
       "      <th></th>\n",
       "      <th>1</th>\n",
       "      <th>2</th>\n",
       "    </tr>\n",
       "  </thead>\n",
       "  <tbody>\n",
       "    <tr>\n",
       "      <th>1</th>\n",
       "      <td>0.0</td>\n",
       "      <td>1.5</td>\n",
       "    </tr>\n",
       "    <tr>\n",
       "      <th>2</th>\n",
       "      <td>1.5</td>\n",
       "      <td>0.0</td>\n",
       "    </tr>\n",
       "  </tbody>\n",
       "</table>\n",
       "</div>"
      ],
      "text/plain": [
       "     1    2\n",
       "1  0.0  1.5\n",
       "2  1.5  0.0"
      ]
     },
     "execution_count": 29,
     "metadata": {},
     "output_type": "execute_result"
    }
   ],
   "source": [
    "distance_matrix"
   ]
  },
  {
   "cell_type": "code",
   "execution_count": 30,
   "metadata": {},
   "outputs": [],
   "source": [
    "data_folder = 'measurement/simple/'\n",
    "\n",
    "if not os.path.exists('{}seed{}'.format(data_folder, 0)):\n",
    "    os.makedirs('{}seed{}'.format(data_folder, 0))"
   ]
  },
  {
   "cell_type": "markdown",
   "metadata": {},
   "source": [
    "# Interactive simulation"
   ]
  },
  {
   "cell_type": "code",
   "execution_count": 33,
   "metadata": {},
   "outputs": [
    {
     "data": {
      "application/vnd.jupyter.widget-view+json": {
       "model_id": "7c3b603ad9c24c66a12f6924efe4d09a",
       "version_major": 2,
       "version_minor": 0
      },
      "text/plain": [
       "interactive(children=(FloatSlider(value=0.05, description='transmission_probability', max=0.1, step=0.05), Int…"
      ]
     },
     "metadata": {},
     "output_type": "display_data"
    }
   ],
   "source": [
    "@interact\n",
    "def simulate_model(transmission_probability=(0.0, 0.1, 0.05), max_contacts=(0, 20, 1),\n",
    "                   lockdown=['phase5', 'phase4', 'phase3', 'phase2', 'phase1']):\n",
    "    parameters['probability_transmission'] = transmission_probability\n",
    "    parameters['lockdown_days'] = [0 for x in range(0, 60)]\n",
    "    lockdown_effect = {'phase5': 0.27, 'phase4': 0.30, 'phase3': 0.40, 'phase2': 0.50, 'phase1': 0.66}\n",
    "    print('assumed % of interactions', lockdown_effect)\n",
    "    print()\n",
    "    parameters[\"lockdown_infection_multiplier\"] = lockdown_effect[lockdown]\n",
    "    \n",
    "    parameters['lockdown_travel_max_contacts'] = max_contacts\n",
    "    \n",
    "    #acti_effect_lockdown = {'phase5': -0.8, 'phase4': -0.7, 'phase3': -0.6, 'phase2': -0.5, 'phase1': -0.4}\n",
    "    # simulate baseline\n",
    "    \n",
    "    environment = Environment(0, parameters, districts_data, age_distribution_per_district, distance_matrix)\n",
    "    environment = runner(environment, 0, data_folder=data_folder, data_output=parameters[\"data_output\"], travel_matrix=travel_matrix)\n",
    "    \n",
    "    for idx, network in enumerate(environment.infection_states):\n",
    "        for i, node in enumerate(network.nodes):\n",
    "            network.nodes[i]['agent'] = network.nodes[i]['agent'].status\n",
    "            \n",
    "    susceptible_ot = []\n",
    "    infected_1_ot = []\n",
    "    infected_2_ot = []\n",
    "    critical_ot = []\n",
    "    dead_ot = []\n",
    "    recovered_ot = []\n",
    "\n",
    "    for t in range(parameters['time']):\n",
    "        network = environment.infection_states[t]\n",
    "        susceptible = 0\n",
    "        infected_1 = 0\n",
    "        infected_2 = 0\n",
    "        critical = 0\n",
    "        dead = 0\n",
    "        recovered = 0\n",
    "        for idx, node in enumerate(network):\n",
    "            if network.nodes[idx]['agent'] == 's':\n",
    "                susceptible += 1\n",
    "            elif network.nodes[idx]['agent'] == 'i1':\n",
    "                infected_1 += 1\n",
    "            elif network.nodes[idx]['agent'] == 'i2':\n",
    "                infected_2 += 1\n",
    "            elif network.nodes[idx]['agent'] == 'c':\n",
    "                critical += 1\n",
    "            elif network.nodes[idx]['agent'] == 'd':\n",
    "                dead += 1\n",
    "            elif network.nodes[idx]['agent'] == 'r':\n",
    "                recovered +=1\n",
    "            else:\n",
    "                print('no status?')\n",
    "\n",
    "        susceptible_ot.append((susceptible / float(len(network))))\n",
    "        infected_1_ot.append((infected_1 / float(len(network))))\n",
    "        infected_2_ot.append((infected_2 / float(len(network))))\n",
    "        critical_ot.append((critical / float(len(network))))\n",
    "        dead_ot.append((dead / float(len(network))))\n",
    "        recovered_ot.append((recovered / float(len(network))))\n",
    "            \n",
    "    # simulate lockdown \n",
    "    parameters['lockdown_days'] = [x for x in range(0, 46)]\n",
    "    \n",
    "    environment_l = Environment(0, parameters, districts_data, age_distribution_per_district, distance_matrix)\n",
    "    environment_l = runner(environment_l, 0, data_folder=data_folder, data_output=parameters[\"data_output\"], travel_matrix=travel_matrix)\n",
    "    \n",
    "    for idx, network_l in enumerate(environment_l.infection_states):\n",
    "        for i, node in enumerate(network_l.nodes):\n",
    "            network_l.nodes[i]['agent'] = network_l.nodes[i]['agent'].status\n",
    "            \n",
    "    susceptible_ot_l = []\n",
    "    infected_1_ot_l = []\n",
    "    infected_2_ot_l = []\n",
    "    critical_ot_l = []\n",
    "    dead_ot_l = []\n",
    "    recovered_ot_l = []\n",
    "\n",
    "    for t in range(parameters['time']):\n",
    "        network = environment_l.infection_states[t]\n",
    "        susceptible = 0\n",
    "        infected_1 = 0\n",
    "        infected_2 = 0\n",
    "        critical = 0\n",
    "        dead = 0\n",
    "        recovered = 0\n",
    "        for idx, node in enumerate(network):\n",
    "            if network.nodes[idx]['agent'] == 's':\n",
    "                susceptible += 1\n",
    "            elif network.nodes[idx]['agent'] == 'i1':\n",
    "                infected_1 += 1\n",
    "            elif network.nodes[idx]['agent'] == 'i2':\n",
    "                infected_2 += 1\n",
    "            elif network.nodes[idx]['agent'] == 'c':\n",
    "                critical += 1\n",
    "            elif network.nodes[idx]['agent'] == 'd':\n",
    "                dead += 1\n",
    "            elif network.nodes[idx]['agent'] == 'r':\n",
    "                recovered +=1\n",
    "            else:\n",
    "                print('no status?')\n",
    "\n",
    "        susceptible_ot_l.append((susceptible / float(len(network))))\n",
    "        infected_1_ot_l.append((infected_1 / float(len(network))))\n",
    "        infected_2_ot_l.append((infected_2 / float(len(network))))\n",
    "        critical_ot_l.append((critical / float(len(network))))\n",
    "        dead_ot_l.append((dead / float(len(network))))\n",
    "        recovered_ot_l.append((recovered / float(len(network))))\n",
    "    \n",
    "    \n",
    "    # plot figure\n",
    "    \n",
    "    fig, (ax1, ax2) = plt.subplots(1, 2, figsize=(12,6))\n",
    "\n",
    "    x = [x for x in range(parameters['time'])]\n",
    "\n",
    "    labels = ['critical', 'infected-2', 'infected-1', 'recovered', 'susceptible', 'dead']\n",
    "\n",
    "    y = np.vstack([critical_ot, infected_2_ot, infected_1_ot, recovered_ot, susceptible_ot, dead_ot])\n",
    "\n",
    "    ax1.axhline(parameters['health_system_capacity'], color='black')\n",
    "\n",
    "    pal = [\"#f9b4ad\", \"#1b81c2\", \"#91b7d1\", \"#b7f0a5\", \"#e0e4ec\",\"#000000\"]\n",
    "\n",
    "    ax1.stackplot(x, y, colors= pal, labels=labels)\n",
    "    ax1.legend(loc='best', fontsize='14', frameon=True)\n",
    "    ax1.set_ylabel('Cape Town population', fontsize='14')\n",
    "    \n",
    "    y2 = np.vstack([critical_ot_l, infected_2_ot_l, infected_1_ot_l, recovered_ot_l, susceptible_ot_l, dead_ot_l])\n",
    "    ax2.stackplot(x, y2, colors= pal, labels=labels)\n",
    "    \n",
    "    for ax in [ax1, ax2]:\n",
    "        ax1.set_xlabel('Days', fontsize='14')\n",
    "        \n",
    "    columns = ['total dead', 'peak critical', 'total recovered']\n",
    "    experiment_summary = {'1 baseline': [dead_ot[-1], max(critical_ot), recovered_ot[-1]],\n",
    "                      '1 (relative)': [100, 100, 100],\n",
    "                      '2 {}'.format(lockdown): [dead_ot_l[-1], max(critical_ot_l), recovered_ot_l[-1]],\n",
    "                      '2 (relative)': [dead_ot_l[-1] / dead_ot[-1], max(critical_ot_l) / max(critical_ot), recovered_ot_l[-1] / recovered_ot[-1]]\n",
    "                     }\n",
    "    experiment_summary = pd.DataFrame(experiment_summary).transpose()\n",
    "    experiment_summary.columns = columns\n",
    "    \n",
    "    print(experiment_summary.round(2))\n"
   ]
  },
  {
   "cell_type": "markdown",
   "metadata": {},
   "source": [
    "# Simulation"
   ]
  },
  {
   "cell_type": "code",
   "execution_count": 14,
   "metadata": {},
   "outputs": [],
   "source": [
    "data_folder = 'measurement/simple/'\n",
    "\n",
    "if not os.path.exists('{}seed{}'.format(data_folder, 0)):\n",
    "    os.makedirs('{}seed{}'.format(data_folder, 0))\n",
    "    \n",
    "environment = Environment(0, parameters, districts_data, age_distribution_per_district, distance_matrix)\n",
    "environment = runner(environment, 0, data_output='network', data_folder=data_folder, travel_matrix=travel_matrix)"
   ]
  },
  {
   "cell_type": "markdown",
   "metadata": {},
   "source": [
    "# Analysis"
   ]
  },
  {
   "cell_type": "code",
   "execution_count": 15,
   "metadata": {},
   "outputs": [],
   "source": [
    "for idx, network in enumerate(environment.infection_states):\n",
    "    for i, node in enumerate(network.nodes):\n",
    "        network.nodes[i]['agent'] = network.nodes[i]['agent'].status"
   ]
  },
  {
   "cell_type": "code",
   "execution_count": 16,
   "metadata": {},
   "outputs": [],
   "source": [
    "pos = nx.spring_layout(environment.infection_states[0])"
   ]
  },
  {
   "cell_type": "code",
   "execution_count": 17,
   "metadata": {},
   "outputs": [],
   "source": [
    "def plot_model(t):\n",
    "    network = environment.infection_states[t]\n",
    "    color_map = []\n",
    "    for idx, node in enumerate(network):\n",
    "        if network.nodes[idx]['agent'] == 's':\n",
    "            color_map.append('blue')\n",
    "        elif network.nodes[idx]['agent'] == 'i1':\n",
    "            color_map.append('pink')\n",
    "        elif network.nodes[idx]['agent'] == 'i2':\n",
    "            color_map.append('red')\n",
    "        elif network.nodes[idx]['agent'] == 'c':\n",
    "            color_map.append('brown')\n",
    "        elif network.nodes[idx]['agent'] == 'd':\n",
    "            color_map.append('black')\n",
    "        elif network.nodes[idx]['agent'] == 'r':\n",
    "            color_map.append('grey')\n",
    "    nx.draw(network, pos=pos, node_color=color_map, with_labels=True)"
   ]
  },
  {
   "cell_type": "code",
   "execution_count": 18,
   "metadata": {},
   "outputs": [
    {
     "data": {
      "application/vnd.jupyter.widget-view+json": {
       "model_id": "b7ff6a54e61640ad9e58b57d13f01a8e",
       "version_major": 2,
       "version_minor": 0
      },
      "text/plain": [
       "interactive(children=(IntSlider(value=0, description='Time step', max=59), Output()), _dom_classes=('widget-in…"
      ]
     },
     "metadata": {},
     "output_type": "display_data"
    },
    {
     "data": {
      "text/plain": [
       "<function __main__.plot_model(t)>"
      ]
     },
     "execution_count": 18,
     "metadata": {},
     "output_type": "execute_result"
    }
   ],
   "source": [
    "time_period = wg.IntSlider(description='Time step', min=0, max=parameters['time']-1)\n",
    "wg.interact(plot_model, t=time_period)"
   ]
  },
  {
   "cell_type": "code",
   "execution_count": 21,
   "metadata": {},
   "outputs": [],
   "source": [
    "susceptible_ot = []\n",
    "infected_1_ot = []\n",
    "infected_2_ot = []\n",
    "critical_ot = []\n",
    "dead_ot = []\n",
    "recovered_ot = []\n",
    "\n",
    "for t in range(parameters['time']):\n",
    "    network = environment.infection_states[t]\n",
    "    susceptible = 0\n",
    "    infected_1 = 0\n",
    "    infected_2 = 0\n",
    "    critical = 0\n",
    "    dead = 0\n",
    "    recovered = 0\n",
    "    for idx, node in enumerate(network):\n",
    "        if network.nodes[idx]['agent'] == 's':\n",
    "            susceptible += 1\n",
    "        elif network.nodes[idx]['agent'] == 'i1':\n",
    "            infected_1 += 1\n",
    "        elif network.nodes[idx]['agent'] == 'i2':\n",
    "            infected_2 += 1\n",
    "        elif network.nodes[idx]['agent'] == 'c':\n",
    "            critical += 1\n",
    "        elif network.nodes[idx]['agent'] == 'd':\n",
    "            dead += 1\n",
    "        elif network.nodes[idx]['agent'] == 'r':\n",
    "            recovered +=1\n",
    "        else:\n",
    "            print('no status?')\n",
    "    \n",
    "    susceptible_ot.append((susceptible / float(len(network))))\n",
    "    infected_1_ot.append((infected_1 / float(len(network))))\n",
    "    infected_2_ot.append((infected_2 / float(len(network))))\n",
    "    critical_ot.append((critical / float(len(network))))\n",
    "    dead_ot.append((dead / float(len(network))))\n",
    "    recovered_ot.append((recovered / float(len(network))))"
   ]
  },
  {
   "cell_type": "code",
   "execution_count": 22,
   "metadata": {},
   "outputs": [
    {
     "data": {
      "text/plain": [
       "(0, 1)"
      ]
     },
     "execution_count": 22,
     "metadata": {},
     "output_type": "execute_result"
    },
    {
     "data": {
      "image/png": "[encoded data removed]",
      "text/plain": [
       "<Figure size 1008x576 with 1 Axes>"
      ]
     },
     "metadata": {},
     "output_type": "display_data"
    }
   ],
   "source": [
    "fig, ax = plt.subplots(figsize=(14,8))\n",
    "\n",
    "x = [x for x in range(parameters['time'])]\n",
    "\n",
    "labels = ['critical', 'infected-2', 'infected-1', 'recovered', 'susceptible', 'dead']\n",
    "\n",
    "y = np.vstack([critical_ot, infected_2_ot, infected_1_ot, recovered_ot, susceptible_ot, dead_ot])\n",
    "\n",
    "ax.axhline(parameters['health_system_capacity'], color='black')\n",
    "\n",
    "pal = [\"#f9b4ad\", \"#1b81c2\", \"#91b7d1\", \"#b7f0a5\", \"#e0e4ec\",\"#000000\"]\n",
    "\n",
    "ax.stackplot(x, y, colors= pal, labels=labels)\n",
    "ax.legend(loc='best', fontsize='14', frameon=True)\n",
    "ax.set_ylabel('Cape Town population', fontsize='14')\n",
    "ax.set_xlabel('Days', fontsize='14')\n",
    "\n",
    "plt.xlim([0,parameters['time']])\n",
    "plt.ylim([0, 1])\n",
    "\n",
    "#fig.savefig('measurement/the_curve.png')"
   ]
  }
 ],
 "metadata": {
  "kernelspec": {
   "display_name": "Python 3",
   "language": "python",
   "name": "python3"
  },
  "language_info": {
   "codemirror_mode": {
    "name": "ipython",
    "version": 3
   },
   "file_extension": ".py",
   "mimetype": "text/x-python",
   "name": "python",
   "nbconvert_exporter": "python",
   "pygments_lexer": "ipython3",
   "version": "3.7.3"
  }
 },
 "nbformat": 4,
 "nbformat_minor": 2
}
