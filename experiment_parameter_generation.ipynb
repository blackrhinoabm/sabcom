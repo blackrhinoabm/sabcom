{
 "cells": [
  {
   "cell_type": "code",
   "execution_count": 2,
   "metadata": {},
   "outputs": [],
   "source": [
    "import json\n",
    "import numpy as np\n",
    "import pandas as pd"
   ]
  },
  {
   "cell_type": "markdown",
   "metadata": {},
   "source": [
    "# Experiment generator "
   ]
  },
  {
   "cell_type": "code",
   "execution_count": 3,
   "metadata": {},
   "outputs": [],
   "source": [
    "age_groups = ['age_0_10', 'age_10_20', 'age_20_30', 'age_30_40', 'age_40_50', \n",
    "              'age_50_60', 'age_60_70', 'age_70_80', 'age_80_plus']"
   ]
  },
  {
   "cell_type": "markdown",
   "metadata": {},
   "source": [
    "# 1 Baseline"
   ]
  },
  {
   "cell_type": "code",
   "execution_count": 4,
   "metadata": {},
   "outputs": [],
   "source": [
    "parameters = {\n",
    "    # general simulation parameters\n",
    "    \"time\": 130,\n",
    "    \"number_of_agents\": 1000000,\n",
    "    \"monte_carlo_runs\": 1,\n",
    "    \"data_output\": 'csv', # 'csv' or 'network', or 'False'\n",
    "    # specific simulation parameters\n",
    "    \"share_inital_agents_infected\": 0.01, # percentage of agents infected randomly at the start of the simulation\n",
    "    \"incubation_days\": 5, # average number of days agents are infected but do not have symptoms SOURCE Zhang et al. 2020\n",
    "    \"symptom_days\": 10,# average number of days agents have mild symptoms\n",
    "    \"critical_days\": 8, # average number of days agents are in critical condition\n",
    "    \"health_system_capacity\": 0.0021, # relative (in terms of population) capacity of the hospitals\n",
    "    \"no_hospital_multiplier\": 1.79, # the increase in probability if a critical agent cannot go to the hospital SOURCE: Zhou et al. 2020\n",
    "    \"travel_sample_size\": 0.01, # amount of agents that an agent might choose to travel to\n",
    "    \"foreign_infection_days\": [x for x in range(0, 19)], # days at which 1 agent will be infected every day from abroad \n",
    "    # agent parameters\n",
    "    \"probability_transmission\": 0.09, # should be estimated to replicate realistic R0 number.\n",
    "    \"probability_to_travel\": 0.03, # should be estimated to replicate travel data \n",
    "    \"probability_critical\": {key:value for key, value in zip(age_groups, [0.001, 0.003, 0.012, 0.032, 0.049, 0.102, 0.166, 0.244, 0.273])}, # probability that an agent enters a critical stage of the disease SOURCE: Verity et al.\n",
    "    \"probability_to_die\": {key:value for key, value in zip(age_groups, [0.005, 0.021, 0.053, 0.126, 0.221, 0.303, 0.565, 0.653, 0.765])}, # probability to die per age group in critical stage SOURCE: Verity et al.\n",
    "    \"probability_susceptible\": 0.000, # probability that the agent will again be susceptible after having recovered\n",
    "    # experiment parameter\n",
    "    \"lockdown_days\" : [None for x in range(0, 35)], # in the baseline this is 0, 5 march was the first reported case, 27 march was the start of the lockdown 35 days\n",
    "    \"lockdown_travel_multiplier\": 1.0 - ((0.85 + 0.62) / 2), # need estimate for this based on apple travel data reduction of 85% google work of -62% for Western Cape\n",
    "    \"lockdown_infection_multiplier\": 0.27, # Jarvis et al. 2020\n",
    "    \"informality_dummy\": 0.0, # setting this parameter at 0 will mean the lockdown is equally effective anywhere, alternative = 1\n",
    "    \"at_risk_groups\": age_groups # list all age groups for baseline\n",
    "}"
   ]
  },
  {
   "cell_type": "code",
   "execution_count": 5,
   "metadata": {},
   "outputs": [],
   "source": [
    "with open('parameters/baseline/parameters.json', 'w') as outfile:\n",
    "    json.dump(parameters, outfile)"
   ]
  },
  {
   "cell_type": "markdown",
   "metadata": {},
   "source": [
    "# 2 Lockdown"
   ]
  },
  {
   "cell_type": "code",
   "execution_count": 34,
   "metadata": {},
   "outputs": [],
   "source": [
    "parameters_lockdown = {\n",
    "    # general simulation parameters\n",
    "    \"time\": 130,\n",
    "    \"number_of_agents\": 1000,\n",
    "    \"monte_carlo_runs\": 1,\n",
    "    \"data_output\": 'csv', # 'csv' or 'network', or 'False'\n",
    "    # specific simulation parameters\n",
    "    \"incubation_days\": 5, # average number of days agents are infected but do not have symptoms SOURCE Zhang et al. 2020\n",
    "    \"symptom_days\": 10,# average number of days agents have mild symptoms\n",
    "    \"critical_days\": 8, # average number of days agents are in critical condition\n",
    "    \"health_system_capacity\": 0.0021, # relative (in terms of population) capacity of the hospitals\n",
    "    \"no_hospital_multiplier\": 1.79, # the increase in probability if a critical agent cannot go to the hospital SOURCE: Zhou et al. 2020\n",
    "    \"travel_sample_size\": 0.01, # amount of agents that an agent might choose to travel to\n",
    "    \"foreign_infection_days\": [x for x in range(0, 2)], # days at which 1 agent will be infected every day from abroad \n",
    "    # agent parameters\n",
    "    \"probability_transmission\": 0.09, # should be estimated to replicate realistic R0 number.\n",
    "    \"probability_to_travel\": 0.03, # should be estimated to replicate travel data \n",
    "    \"probability_critical\": {key:value for key, value in zip(age_groups, [0.001, 0.003, 0.012, 0.032, 0.049, 0.102, 0.166, 0.244, 0.273])}, # probability that an agent enters a critical stage of the disease SOURCE: Verity et al.\n",
    "    \"probability_to_die\": {key:value for key, value in zip(age_groups, [0.005, 0.021, 0.053, 0.126, 0.221, 0.303, 0.565, 0.653, 0.765])}, # probability to die per age group in critical stage SOURCE: Verity et al.\n",
    "    \"probability_susceptible\": 0.000, # probability that the agent will again be susceptible after having recovered\n",
    "    # experiment parameter\n",
    "    \"lockdown_days\" : [x for x in range(0, 35)], # in the baseline this is 0, 5 march was the first reported case, 27 march was the start of the lockdown 35 days\n",
    "    \"lockdown_travel_multiplier\": 1.0 - ((0.85 + 0.62) / 2), # need estimate for this based on apple travel data reduction of 85% google work of -62% for Western Cape\n",
    "    \"lockdown_infection_multiplier\": 0.27, #0.27 Jarvis et al. 2020\n",
    "    \"informality_dummy\": 0.0, # setting this parameter at 0 will mean the lockdown is equally effective anywhere, alternative = 1\n",
    "    \"at_risk_groups\": age_groups # list all age groups for baseline\n",
    "}"
   ]
  },
  {
   "cell_type": "code",
   "execution_count": 35,
   "metadata": {},
   "outputs": [],
   "source": [
    "with open('parameters/lock_down/parameters.json', 'w') as outfile:\n",
    "    json.dump(parameters_lockdown, outfile)"
   ]
  },
  {
   "cell_type": "markdown",
   "metadata": {},
   "source": [
    "# 3 Ineffective lockdown"
   ]
  },
  {
   "cell_type": "code",
   "execution_count": 36,
   "metadata": {},
   "outputs": [],
   "source": [
    "parameters_inef_lockdown = {\n",
    "    # general simulation parameters\n",
    "    \"time\": 130,\n",
    "    \"number_of_agents\": 1000,\n",
    "    \"monte_carlo_runs\": 1,\n",
    "    \"data_output\": 'csv', # 'csv' or 'network', or 'False'\n",
    "    # specific simulation parameters\n",
    "    \"incubation_days\": 5, # average number of days agents are infected but do not have symptoms SOURCE Zhang et al. 2020\n",
    "    \"symptom_days\": 10,# average number of days agents have mild symptoms\n",
    "    \"critical_days\": 8, # average number of days agents are in critical condition\n",
    "    \"health_system_capacity\": 0.0021, # relative (in terms of population) capacity of the hospitals\n",
    "    \"no_hospital_multiplier\": 1.79, # the increase in probability if a critical agent cannot go to the hospital SOURCE: Zhou et al. 2020\n",
    "    \"travel_sample_size\": 0.01, # amount of agents that an agent might choose to travel to\n",
    "    \"foreign_infection_days\": [x for x in range(0, 2)], # days at which 1 agent will be infected every day from abroad \n",
    "    # agent parameters\n",
    "    \"probability_transmission\": 0.09, # should be estimated to replicate realistic R0 number.\n",
    "    \"probability_to_travel\": 0.03, # should be estimated to replicate travel data \n",
    "    \"probability_critical\": {key:value for key, value in zip(age_groups, [0.001, 0.003, 0.012, 0.032, 0.049, 0.102, 0.166, 0.244, 0.273])}, # probability that an agent enters a critical stage of the disease SOURCE: Verity et al.\n",
    "    \"probability_to_die\": {key:value for key, value in zip(age_groups, [0.005, 0.021, 0.053, 0.126, 0.221, 0.303, 0.565, 0.653, 0.765])}, # probability to die per age group in critical stage SOURCE: Verity et al.\n",
    "    \"probability_susceptible\": 0.000, # probability that the agent will again be susceptible after having recovered\n",
    "    # experiment parameter\n",
    "    \"lockdown_days\" : [x for x in range(0, 35)], # in the baseline this is 0, 5 march was the first reported case, 27 march was the start of the lockdown 35 days\n",
    "    \"lockdown_travel_multiplier\": 1.0 - ((0.85 + 0.62) / 2), # need estimate for this based on apple travel data reduction of 85% google work of -62% for Western Cape\n",
    "    \"lockdown_infection_multiplier\": 0.27, #0.27 Jarvis et al. 2020\n",
    "    \"informality_dummy\": 1.0, # setting this parameter at 0 will mean the lockdown is equally effective anywhere, alternative = 1\n",
    "    \"at_risk_groups\": age_groups # list all age groups for baseline\n",
    "}"
   ]
  },
  {
   "cell_type": "code",
   "execution_count": 37,
   "metadata": {},
   "outputs": [],
   "source": [
    "with open('parameters/ineffective_lock_down/parameters.json', 'w') as outfile:\n",
    "    json.dump(parameters_inef_lockdown, outfile)"
   ]
  },
  {
   "cell_type": "markdown",
   "metadata": {},
   "source": [
    "# 4 Elderly lockdown"
   ]
  },
  {
   "cell_type": "code",
   "execution_count": 38,
   "metadata": {},
   "outputs": [],
   "source": [
    "at_risk_groups = ['age_50_60', 'age_60_70', 'age_70_80', 'age_80_plus']"
   ]
  },
  {
   "cell_type": "code",
   "execution_count": 39,
   "metadata": {},
   "outputs": [],
   "source": [
    "parameters_at_risk_lockdown = {\n",
    "    # general simulation parameters\n",
    "    \"time\": 130,\n",
    "    \"number_of_agents\": 1000,\n",
    "    \"monte_carlo_runs\": 1,\n",
    "    \"data_output\": 'csv', # 'csv' or 'network', or 'False'\n",
    "    # specific simulation parameters\n",
    "    \"incubation_days\": 5, # average number of days agents are infected but do not have symptoms SOURCE Zhang et al. 2020\n",
    "    \"symptom_days\": 10,# average number of days agents have mild symptoms\n",
    "    \"critical_days\": 8, # average number of days agents are in critical condition\n",
    "    \"health_system_capacity\": 0.0021, # relative (in terms of population) capacity of the hospitals\n",
    "    \"no_hospital_multiplier\": 1.79, # the increase in probability if a critical agent cannot go to the hospital SOURCE: Zhou et al. 2020\n",
    "    \"travel_sample_size\": 0.01, # amount of agents that an agent might choose to travel to\n",
    "    \"foreign_infection_days\": [x for x in range(0, 2)], # days at which 1 agent will be infected every day from abroad \n",
    "    # agent parameters\n",
    "    \"probability_transmission\": 0.09, # should be estimated to replicate realistic R0 number.\n",
    "    \"probability_to_travel\": 0.03, # should be estimated to replicate travel data \n",
    "    \"probability_critical\": {key:value for key, value in zip(age_groups, [0.001, 0.003, 0.012, 0.032, 0.049, 0.102, 0.166, 0.244, 0.273])}, # probability that an agent enters a critical stage of the disease SOURCE: Verity et al.\n",
    "    \"probability_to_die\": {key:value for key, value in zip(age_groups, [0.005, 0.021, 0.053, 0.126, 0.221, 0.303, 0.565, 0.653, 0.765])}, # probability to die per age group in critical stage SOURCE: Verity et al.\n",
    "    \"probability_susceptible\": 0.000, # probability that the agent will again be susceptible after having recovered\n",
    "    # experiment parameter\n",
    "    \"lockdown_days\" : [x for x in range(0, 35)], # in the baseline this is 0, 5 march was the first reported case, 27 march was the start of the lockdown 35 days\n",
    "    \"lockdown_travel_multiplier\": 1.0 - ((0.85 + 0.62) / 2), # need estimate for this based on apple travel data reduction of 85% google work of -62% for Western Cape\n",
    "    \"lockdown_infection_multiplier\": 0.27, #0.27 Jarvis et al. 2020\n",
    "    \"informality_dummy\": 1.0, # setting this parameter at 0 will mean the lockdown is equally effective anywhere, alternative = 1\n",
    "    \"at_risk_groups\": at_risk_groups # list all age groups for baseline\n",
    "}"
   ]
  },
  {
   "cell_type": "code",
   "execution_count": 40,
   "metadata": {},
   "outputs": [],
   "source": [
    "with open('parameters/lock_down_elderly/parameters.json', 'w') as outfile:\n",
    "    json.dump(parameters_at_risk_lockdown, outfile)"
   ]
  },
  {
   "cell_type": "markdown",
   "metadata": {},
   "source": [
    "# Changes in scenario's "
   ]
  },
  {
   "cell_type": "code",
   "execution_count": 41,
   "metadata": {},
   "outputs": [],
   "source": [
    "phase_changes_travel = {'phase5': 0.27, # loosely based on SA travel data\n",
    "                        'phase4': 0.30, # loosely based on Spain travel data\n",
    "                        'phase3': 0.37, # loosely based on Belgium travel data\n",
    "                        'phase2': 0.55, # loosely based on the Netherlands travel data\n",
    "                        'phase1': 0.68  # loosely based on Sweden travel data\n",
    "                       }"
   ]
  },
  {
   "cell_type": "code",
   "execution_count": 42,
   "metadata": {},
   "outputs": [],
   "source": [
    "phase_changes_prob_transmission = {'phase5': 1.0 - ((0.85 + 0.62) / 2), #0.265 based on UK Jarvis et al. 2020\n",
    "                                'phase4': 0.28, # \n",
    "                                'phase3': 0.30, #\n",
    "                                'phase2': 0.33, # \n",
    "                                'phase1': 0.38  # \n",
    "                               }"
   ]
  },
  {
   "cell_type": "code",
   "execution_count": 43,
   "metadata": {},
   "outputs": [],
   "source": [
    "for key in phase_changes_travel:\n",
    "    parameters_phase = {\n",
    "        # general simulation parameters\n",
    "        \"time\": 130,\n",
    "        \"number_of_agents\": 1000,\n",
    "        \"monte_carlo_runs\": 1,\n",
    "        \"data_output\": 'csv', # 'csv' or 'network', or 'False'\n",
    "        # specific simulation parameters\n",
    "        \"incubation_days\": 5, # average number of days agents are infected but do not have symptoms SOURCE Zhang et al. 2020\n",
    "        \"symptom_days\": 10,# average number of days agents have mild symptoms\n",
    "        \"critical_days\": 8, # average number of days agents are in critical condition\n",
    "        \"health_system_capacity\": 0.0021, # relative (in terms of population) capacity of the hospitals\n",
    "        \"no_hospital_multiplier\": 1.79, # the increase in probability if a critical agent cannot go to the hospital SOURCE: Zhou et al. 2020\n",
    "        \"travel_sample_size\": 0.01, # amount of agents that an agent might choose to travel to\n",
    "        \"foreign_infection_days\": [x for x in range(0, 2)], # days at which 1 agent will be infected every day from abroad \n",
    "        # agent parameters\n",
    "        \"probability_transmission\": 0.09, # should be estimated to replicate realistic R0 number.\n",
    "        \"probability_to_travel\": 0.03, # should be estimated to replicate travel data \n",
    "        \"probability_critical\": {key:value for key, value in zip(age_groups, [0.001, 0.003, 0.012, 0.032, 0.049, 0.102, 0.166, 0.244, 0.273])}, # probability that an agent enters a critical stage of the disease SOURCE: Verity et al.\n",
    "        \"probability_to_die\": {key:value for key, value in zip(age_groups, [0.005, 0.021, 0.053, 0.126, 0.221, 0.303, 0.565, 0.653, 0.765])}, # probability to die per age group in critical stage SOURCE: Verity et al.\n",
    "        \"probability_susceptible\": 0.000, # probability that the agent will again be susceptible after having recovered\n",
    "        # experiment parameter\n",
    "        \"lockdown_days\" : [x for x in range(0, 35)], # in the baseline this is 0, 5 march was the first reported case, 27 march was the start of the lockdown 35 days\n",
    "        \"lockdown_travel_multiplier\": phase_changes_prob_transmission[key], # need estimate for this based on apple travel data reduction of 85% google work of -62% for Western Cape\n",
    "        \"lockdown_infection_multiplier\": phase_changes_travel[key], #0.27 Jarvis et al. 2020\n",
    "        \"informality_dummy\": 1.0, # setting this parameter at 0 will mean the lockdown is equally effective anywhere, alternative = 1\n",
    "        \"at_risk_groups\": age_groups # list all age groups for baseline\n",
    "    }\n",
    "    with open('parameters/phases/parameters_{}.json'.format(key), 'w') as outfile:\n",
    "        json.dump(parameters_phase, outfile)"
   ]
  },
  {
   "cell_type": "markdown",
   "metadata": {},
   "source": [
    "# Simulating the experiments"
   ]
  },
  {
   "cell_type": "code",
   "execution_count": null,
   "metadata": {},
   "outputs": [],
   "source": []
  }
 ],
 "metadata": {
  "kernelspec": {
   "display_name": "Python 3",
   "language": "python",
   "name": "python3"
  },
  "language_info": {
   "codemirror_mode": {
    "name": "ipython",
    "version": 3
   },
   "file_extension": ".py",
   "mimetype": "text/x-python",
   "name": "python",
   "nbconvert_exporter": "python",
   "pygments_lexer": "ipython3",
   "version": "3.7.3"
  }
 },
 "nbformat": 4,
 "nbformat_minor": 2
}
