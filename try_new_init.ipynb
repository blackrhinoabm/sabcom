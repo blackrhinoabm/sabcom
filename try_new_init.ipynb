{
 "cells": [
  {
   "cell_type": "code",
   "execution_count": 1,
   "metadata": {},
   "outputs": [],
   "source": [
    "import numpy as np\n",
    "import pandas as pd\n",
    "import matplotlib.pyplot as plt\n",
    "from matplotlib import style\n",
    "import time\n",
    "import networkx as nx\n",
    "from src.environment import EnvironmentNetwork, Environment\n",
    "from src.runner import Runner\n",
    "from src.agent import NetworkAgent, Agent\n",
    "from src.helpers import edges_to_remove_neighbourhood, what_neighbourhood, what_coordinates, what_informality\n",
    "import random\n",
    "import json"
   ]
  },
  {
   "cell_type": "markdown",
   "metadata": {},
   "source": [
    "Test time"
   ]
  },
  {
   "cell_type": "code",
   "execution_count": 9,
   "metadata": {},
   "outputs": [
    {
     "name": "stdout",
     "output_type": "stream",
     "text": [
      "0.07083606719970703\n"
     ]
    }
   ],
   "source": [
    "start = time.time()\n",
    "Environment(seed, parameters, neighbourhood_data, age_distribution_per_ward)\n",
    "end = time.time()\n",
    "print(end - start)"
   ]
  },
  {
   "cell_type": "code",
   "execution_count": 10,
   "metadata": {},
   "outputs": [
    {
     "name": "stdout",
     "output_type": "stream",
     "text": [
      "0.060355424880981445\n"
     ]
    }
   ],
   "source": [
    "start = time.time()\n",
    "EnvironmentNetwork(seed, parameters, neighbourhood_data, age_distribution_per_ward)\n",
    "end = time.time()\n",
    "print(end - start)"
   ]
  },
  {
   "cell_type": "code",
   "execution_count": null,
   "metadata": {},
   "outputs": [],
   "source": []
  },
  {
   "cell_type": "markdown",
   "metadata": {},
   "source": [
    "# Try to improve network creation"
   ]
  },
  {
   "cell_type": "code",
   "execution_count": 2,
   "metadata": {},
   "outputs": [],
   "source": [
    "\n",
    "data_folder = 'measurement/baseline/'\n",
    "\n",
    "# load parameters\n",
    "with open('parameters.json') as json_file:\n",
    "    parameters = json.load(json_file)\n",
    "\n",
    "# load neighbourhood data\n",
    "with open('neighbourhood_data.json') as json_file:\n",
    "    neighbourhood_data = json.load(json_file)\n",
    "\n",
    "# load age data\n",
    "age_distribution = pd.read_csv('age_dist.csv', sep=';', index_col=0)\n",
    "age_distribution_per_ward = dict(age_distribution.transpose())"
   ]
  },
  {
   "cell_type": "code",
   "execution_count": 3,
   "metadata": {},
   "outputs": [],
   "source": [
    "seed = 0"
   ]
  },
  {
   "cell_type": "code",
   "execution_count": 4,
   "metadata": {},
   "outputs": [],
   "source": [
    "np.random.seed(seed)\n",
    "random.seed(seed)\n",
    "\n",
    "#self.parameters = parameters\n",
    "\n",
    "# sort data\n",
    "nbd_values = [x[1] for x in neighbourhood_data]\n",
    "nbd_keys = [x[0] for x in neighbourhood_data]\n",
    "population_per_neighbourhood = [x['Population'] for x in nbd_values]\n",
    "\n",
    "# correct the population in neighbourhoods to be proportional to number of agents\n",
    "correction_factor = sum(population_per_neighbourhood) / parameters[\"number_of_agents\"]\n",
    "corrected_populations = [round(x / correction_factor) for x in population_per_neighbourhood]\n",
    "\n",
    "# only count neighbourhoods that then have an amount of people bigger than 0\n",
    "indices_big_neighbourhoods = [i for i, x in enumerate(corrected_populations) if x > 0]\n",
    "corrected_populations_final = [x for i, x in enumerate(corrected_populations) if x > 0]\n",
    "\n",
    "# calculate correct density per district\n",
    "corrected_density_per_neighbourhood = [x['Density'] for i, x in enumerate(nbd_values) if\n",
    "                                       i in indices_big_neighbourhoods]\n",
    "corrected_density_per_neighbourhood = [(float(i) / max(corrected_density_per_neighbourhood)) for i in\n",
    "                  corrected_density_per_neighbourhood]"
   ]
  },
  {
   "cell_type": "code",
   "execution_count": 5,
   "metadata": {},
   "outputs": [],
   "source": [
    "### old method\n",
    "# 1 create a cave network that has max nodes equal to the biggest neighbourhoods\n",
    "# 2 find cliques and associate with neighbourhoods that are big enough\n",
    "# 3 reduce the amount of nodes in each clique to reflect the size of the neighbourhood\n",
    "\n",
    "### new method\n",
    "# 1 create neighbourhoods based on amount of agents in model\n",
    "\n",
    "### what if density of the neighbourhood just increases the "
   ]
  },
  {
   "cell_type": "code",
   "execution_count": 39,
   "metadata": {},
   "outputs": [],
   "source": [
    "# agents = []\n",
    "# district_graphs = []\n",
    "# city_graph = nx.Graph()\n",
    "\n",
    "# num_agents = corrected_populations_final[0]\n",
    "# idx = indices_big_neighbourhoods[0]\n",
    "\n",
    "# district_list = []\n",
    "# district_code = neighbourhood_data[idx][0]\n",
    "# coordinates = what_coordinates(district_code, neighbourhood_data)\n",
    "# informality = what_informality(district_code, neighbourhood_data)\n",
    "# density = corrected_density_per_neighbourhood[idx]\n",
    "\n",
    "# age_categories = np.random.choice(age_distribution_per_ward[district_code].index,\n",
    "#                                           size=num_agents,\n",
    "#                                           replace=True,\n",
    "#                                           p=age_distribution_per_ward[district_code].values)\n",
    "\n",
    "# # add agents to neighbourhood\n",
    "# for a in range(num_agents):\n",
    "#     district_list.append(Agent(a, 's', \n",
    "#                                parameters[\"probability_transmission\"], \n",
    "#                                parameters[\"probability_susceptible\"], \n",
    "#                                parameters[\"probability_to_travel\"], \n",
    "#                                coordinates, \n",
    "#                                district_code, \n",
    "#                                age_categories[a],\n",
    "#                                informality,\n",
    "#                                parameters['probability_critical'][age_categories[a]],\n",
    "#                                parameters['probability_to_die'][age_categories[a]]\n",
    "#                               ))\n",
    "\n",
    "# # create a barabasi albert graph for the ward\n",
    "# nodes = len(district_list)\n",
    "# new_edges = 2\n",
    "# NG = nx.barabasi_albert_graph(nodes, new_edges, seed=0) \n",
    "\n",
    "# edges = list(NG.edges)\n",
    "# # reduce the amount of edges in the district depending on its empirical density\n",
    "# for e in edges_to_remove_neighbourhood(edges, density, list(NG.nodes)):\n",
    "#     NG.remove_edge(e[0], e[1])\n",
    "\n",
    "# # add the district agents to the agent list\n",
    "# agents.append(district_list)\n",
    "\n",
    "# # add network to city graph\n",
    "# city_graph = nx.disjoint_union(city_graph, NG)"
   ]
  },
  {
   "cell_type": "code",
   "execution_count": 5,
   "metadata": {},
   "outputs": [],
   "source": [
    "np.random.seed(seed)\n",
    "random.seed(seed)\n",
    "\n",
    "self.parameters = parameters\n",
    "\n",
    "# sort data\n",
    "nbd_values = [x[1] for x in neighbourhood_data]\n",
    "nbd_keys = [x[0] for x in neighbourhood_data]\n",
    "population_per_neighbourhood = [x['Population'] for x in nbd_values]\n",
    "\n",
    "# correct the population in neighbourhoods to be proportional to number of agents\n",
    "correction_factor = sum(population_per_neighbourhood) / parameters[\"number_of_agents\"]\n",
    "corrected_populations = [round(x / correction_factor) for x in population_per_neighbourhood]\n",
    "\n",
    "# only count neighbourhoods that then have an amount of people bigger than 0\n",
    "indices_big_neighbourhoods = [i for i, x in enumerate(corrected_populations) if x > 0]\n",
    "corrected_populations_final = [x for i, x in enumerate(corrected_populations) if x > 0]\n",
    "\n",
    "# calculate correct density per district\n",
    "corrected_density_per_neighbourhood = [x['Density'] for i, x in enumerate(nbd_values) if\n",
    "                                       i in indices_big_neighbourhoods]\n",
    "corrected_density_per_neighbourhood = [(float(i) / max(corrected_density_per_neighbourhood)) for i in\n",
    "                  corrected_density_per_neighbourhood]\n",
    "\n",
    "agents = []\n",
    "district_graphs = []\n",
    "city_graph = nx.Graph()\n",
    "agent_name = 0\n",
    "\n",
    "for num_agents, idx in zip(corrected_populations_final, indices_big_neighbourhoods):\n",
    "    district_list = []\n",
    "    district_code = neighbourhood_data[idx][0]\n",
    "    coordinates = what_coordinates(district_code, neighbourhood_data)\n",
    "    informality = what_informality(district_code, neighbourhood_data)\n",
    "    density = corrected_density_per_neighbourhood[idx]\n",
    "\n",
    "    age_categories = np.random.choice(age_distribution_per_ward[district_code].index,\n",
    "                                              size=num_agents,\n",
    "                                              replace=True,\n",
    "                                              p=age_distribution_per_ward[district_code].values)\n",
    "\n",
    "    # add agents to neighbourhood\n",
    "    for a in range(num_agents):\n",
    "        agent_name += 1\n",
    "        district_list.append(Agent(agent_name, 's', \n",
    "                                   parameters[\"probability_transmission\"], \n",
    "                                   parameters[\"probability_susceptible\"], \n",
    "                                   parameters[\"probability_to_travel\"], \n",
    "                                   coordinates, \n",
    "                                   district_code, \n",
    "                                   age_categories[a],\n",
    "                                   informality,\n",
    "                                   parameters['probability_critical'][age_categories[a]],\n",
    "                                   parameters['probability_to_die'][age_categories[a]]\n",
    "                                  ))\n",
    "\n",
    "    # create a barabasi albert graph for the ward\n",
    "    nodes = len(district_list)\n",
    "    if nodes <= 4:\n",
    "        new_edges = nodes - 1\n",
    "    else: \n",
    "        new_edges = 4\n",
    "    NG = nx.barabasi_albert_graph(nodes, new_edges, seed=0) \n",
    "\n",
    "    edges = list(NG.edges)\n",
    "    # reduce the amount of edges in the district depending on its empirical density\n",
    "    for e in edges_to_remove_neighbourhood(edges, density, list(NG.nodes)):\n",
    "        NG.remove_edge(e[0], e[1])\n",
    "\n",
    "    # add the district agents to the agent list\n",
    "    agents.append(district_list)\n",
    "\n",
    "    # add network to city graph\n",
    "    city_graph = nx.disjoint_union(city_graph, NG)"
   ]
  },
  {
   "cell_type": "code",
   "execution_count": 6,
   "metadata": {},
   "outputs": [
    {
     "data": {
      "text/plain": [
       "[[s Agent1, s Agent2, s Agent3, s Agent4],\n",
       " [s Agent5, s Agent6, s Agent7, s Agent8],\n",
       " [s Agent9, s Agent10, s Agent11],\n",
       " [s Agent12, s Agent13, s Agent14, s Agent15],\n",
       " [s Agent16, s Agent17, s Agent18],\n",
       " [s Agent19, s Agent20, s Agent21, s Agent22, s Agent23],\n",
       " [s Agent24, s Agent25, s Agent26, s Agent27],\n",
       " [s Agent28, s Agent29, s Agent30, s Agent31],\n",
       " [s Agent32, s Agent33, s Agent34, s Agent35],\n",
       " [s Agent36, s Agent37, s Agent38, s Agent39],\n",
       " [s Agent40, s Agent41, s Agent42, s Agent43, s Agent44],\n",
       " [s Agent45, s Agent46, s Agent47, s Agent48, s Agent49],\n",
       " [s Agent50, s Agent51, s Agent52, s Agent53, s Agent54, s Agent55],\n",
       " [s Agent56, s Agent57, s Agent58, s Agent59, s Agent60],\n",
       " [s Agent61, s Agent62, s Agent63],\n",
       " [s Agent64, s Agent65, s Agent66, s Agent67, s Agent68, s Agent69],\n",
       " [s Agent70, s Agent71, s Agent72, s Agent73, s Agent74],\n",
       " [s Agent75, s Agent76, s Agent77],\n",
       " [s Agent78, s Agent79, s Agent80, s Agent81, s Agent82, s Agent83, s Agent84],\n",
       " [s Agent85, s Agent86, s Agent87, s Agent88, s Agent89, s Agent90],\n",
       " [s Agent91, s Agent92, s Agent93],\n",
       " [s Agent94, s Agent95, s Agent96, s Agent97],\n",
       " [s Agent98, s Agent99, s Agent100, s Agent101],\n",
       " [s Agent102, s Agent103, s Agent104, s Agent105],\n",
       " [s Agent106, s Agent107, s Agent108, s Agent109, s Agent110],\n",
       " [s Agent111, s Agent112, s Agent113, s Agent114, s Agent115],\n",
       " [s Agent116, s Agent117, s Agent118],\n",
       " [s Agent119, s Agent120, s Agent121, s Agent122, s Agent123],\n",
       " [s Agent124, s Agent125, s Agent126, s Agent127, s Agent128],\n",
       " [s Agent129, s Agent130, s Agent131, s Agent132, s Agent133],\n",
       " [s Agent134, s Agent135, s Agent136, s Agent137, s Agent138],\n",
       " [s Agent139, s Agent140, s Agent141, s Agent142, s Agent143, s Agent144],\n",
       " [s Agent145, s Agent146, s Agent147, s Agent148, s Agent149],\n",
       " [s Agent150, s Agent151, s Agent152, s Agent153, s Agent154],\n",
       " [s Agent155, s Agent156, s Agent157, s Agent158, s Agent159],\n",
       " [s Agent160, s Agent161, s Agent162, s Agent163],\n",
       " [s Agent164, s Agent165, s Agent166],\n",
       " [s Agent167, s Agent168, s Agent169],\n",
       " [s Agent170, s Agent171, s Agent172, s Agent173],\n",
       " [s Agent174, s Agent175, s Agent176, s Agent177, s Agent178],\n",
       " [s Agent179, s Agent180, s Agent181],\n",
       " [s Agent182, s Agent183, s Agent184],\n",
       " [s Agent185, s Agent186, s Agent187, s Agent188, s Agent189],\n",
       " [s Agent190, s Agent191, s Agent192, s Agent193, s Agent194],\n",
       " [s Agent195, s Agent196, s Agent197, s Agent198, s Agent199],\n",
       " [s Agent200, s Agent201, s Agent202, s Agent203],\n",
       " [s Agent204, s Agent205, s Agent206, s Agent207, s Agent208],\n",
       " [s Agent209, s Agent210, s Agent211],\n",
       " [s Agent212, s Agent213, s Agent214, s Agent215],\n",
       " [s Agent216, s Agent217, s Agent218, s Agent219],\n",
       " [s Agent220, s Agent221, s Agent222],\n",
       " [s Agent223, s Agent224, s Agent225],\n",
       " [s Agent226, s Agent227, s Agent228],\n",
       " [s Agent229, s Agent230, s Agent231],\n",
       " [s Agent232, s Agent233, s Agent234, s Agent235],\n",
       " [s Agent236, s Agent237, s Agent238, s Agent239],\n",
       " [s Agent240, s Agent241, s Agent242, s Agent243],\n",
       " [s Agent244, s Agent245, s Agent246, s Agent247],\n",
       " [s Agent248, s Agent249, s Agent250],\n",
       " [s Agent251, s Agent252, s Agent253, s Agent254],\n",
       " [s Agent255, s Agent256, s Agent257, s Agent258],\n",
       " [s Agent259, s Agent260, s Agent261],\n",
       " [s Agent262, s Agent263, s Agent264, s Agent265],\n",
       " [s Agent266, s Agent267, s Agent268, s Agent269],\n",
       " [s Agent270, s Agent271, s Agent272, s Agent273],\n",
       " [s Agent274, s Agent275, s Agent276, s Agent277],\n",
       " [s Agent278,\n",
       "  s Agent279,\n",
       "  s Agent280,\n",
       "  s Agent281,\n",
       "  s Agent282,\n",
       "  s Agent283,\n",
       "  s Agent284],\n",
       " [s Agent285, s Agent286, s Agent287, s Agent288],\n",
       " [s Agent289, s Agent290, s Agent291, s Agent292, s Agent293],\n",
       " [s Agent294, s Agent295, s Agent296],\n",
       " [s Agent297, s Agent298, s Agent299],\n",
       " [s Agent300, s Agent301, s Agent302, s Agent303],\n",
       " [s Agent304, s Agent305, s Agent306, s Agent307],\n",
       " [s Agent308, s Agent309, s Agent310, s Agent311],\n",
       " [s Agent312, s Agent313, s Agent314, s Agent315, s Agent316],\n",
       " [s Agent317, s Agent318, s Agent319, s Agent320, s Agent321],\n",
       " [s Agent322, s Agent323, s Agent324],\n",
       " [s Agent325, s Agent326, s Agent327, s Agent328, s Agent329],\n",
       " [s Agent330, s Agent331, s Agent332, s Agent333, s Agent334, s Agent335],\n",
       " [s Agent336, s Agent337, s Agent338, s Agent339, s Agent340],\n",
       " [s Agent341, s Agent342, s Agent343, s Agent344, s Agent345],\n",
       " [s Agent346, s Agent347, s Agent348, s Agent349, s Agent350, s Agent351],\n",
       " [s Agent352, s Agent353, s Agent354],\n",
       " [s Agent355, s Agent356, s Agent357, s Agent358, s Agent359],\n",
       " [s Agent360, s Agent361, s Agent362, s Agent363],\n",
       " [s Agent364, s Agent365, s Agent366, s Agent367, s Agent368],\n",
       " [s Agent369, s Agent370, s Agent371],\n",
       " [s Agent372, s Agent373, s Agent374, s Agent375, s Agent376, s Agent377],\n",
       " [s Agent378, s Agent379, s Agent380, s Agent381],\n",
       " [s Agent382, s Agent383, s Agent384],\n",
       " [s Agent385, s Agent386, s Agent387, s Agent388],\n",
       " [s Agent389, s Agent390, s Agent391, s Agent392],\n",
       " [s Agent393, s Agent394, s Agent395, s Agent396, s Agent397],\n",
       " [s Agent398, s Agent399, s Agent400, s Agent401],\n",
       " [s Agent402, s Agent403, s Agent404, s Agent405, s Agent406],\n",
       " [s Agent407, s Agent408, s Agent409, s Agent410],\n",
       " [s Agent411, s Agent412, s Agent413, s Agent414],\n",
       " [s Agent415, s Agent416, s Agent417, s Agent418],\n",
       " [s Agent419, s Agent420, s Agent421, s Agent422, s Agent423, s Agent424],\n",
       " [s Agent425, s Agent426, s Agent427, s Agent428, s Agent429],\n",
       " [s Agent430, s Agent431, s Agent432, s Agent433, s Agent434],\n",
       " [s Agent435, s Agent436, s Agent437, s Agent438],\n",
       " [s Agent439, s Agent440, s Agent441],\n",
       " [s Agent442, s Agent443, s Agent444, s Agent445, s Agent446],\n",
       " [s Agent447, s Agent448, s Agent449, s Agent450],\n",
       " [s Agent451,\n",
       "  s Agent452,\n",
       "  s Agent453,\n",
       "  s Agent454,\n",
       "  s Agent455,\n",
       "  s Agent456,\n",
       "  s Agent457],\n",
       " [s Agent458, s Agent459, s Agent460],\n",
       " [s Agent461, s Agent462, s Agent463, s Agent464, s Agent465, s Agent466],\n",
       " [s Agent467, s Agent468, s Agent469, s Agent470],\n",
       " [s Agent471, s Agent472, s Agent473],\n",
       " [s Agent474, s Agent475, s Agent476, s Agent477, s Agent478],\n",
       " [s Agent479, s Agent480, s Agent481],\n",
       " [s Agent482, s Agent483, s Agent484, s Agent485],\n",
       " [s Agent486, s Agent487, s Agent488],\n",
       " [s Agent489, s Agent490, s Agent491, s Agent492],\n",
       " [s Agent493, s Agent494, s Agent495, s Agent496]]"
      ]
     },
     "execution_count": 6,
     "metadata": {},
     "output_type": "execute_result"
    }
   ],
   "source": [
    "self.agents = [y for x in agents for y in x]\n",
    "\n",
    "# add agent to the network structure\n",
    "for idx, agent in enumerate(self.agents):\n",
    "    self.network.nodes[idx]['agent'] = agent"
   ]
  },
  {
   "cell_type": "code",
   "execution_count": 7,
   "metadata": {},
   "outputs": [
    {
     "data": {
      "text/plain": [
       "EdgeView([(0, 3), (6, 7), (8, 10), (11, 14), (15, 17), (19, 22), (24, 26), (29, 30), (33, 34), (36, 38), (40, 43), (44, 48), (47, 48), (49, 53), (51, 54), (52, 53), (53, 54), (55, 59), (60, 62), (65, 67), (72, 73), (74, 76), (77, 81), (77, 83), (81, 82), (86, 88), (87, 88), (87, 89), (88, 89), (90, 92), (95, 96), (97, 100), (102, 104), (105, 109), (106, 109), (110, 114), (115, 117), (119, 122), (121, 122), (125, 127), (129, 132), (135, 137), (140, 142), (144, 148), (145, 148), (146, 148), (149, 153), (150, 153), (152, 153), (156, 158), (157, 158), (159, 162), (160, 162), (163, 165), (164, 165), (166, 168), (169, 172), (170, 172), (171, 172), (173, 177), (174, 177), (176, 177), (178, 180), (181, 183), (182, 183), (184, 188), (191, 193), (192, 193), (195, 198), (196, 198), (197, 198), (199, 202), (203, 207), (205, 207), (206, 207), (209, 210), (213, 214), (216, 218), (217, 218), (220, 221), (222, 224), (223, 224), (225, 227), (229, 230), (231, 234), (236, 238), (240, 242), (244, 246), (248, 249), (251, 253), (255, 257), (258, 260), (263, 264), (266, 268), (270, 272), (274, 276), (281, 282), (286, 287), (290, 292), (293, 295), (296, 298), (300, 302), (303, 306), (308, 310), (313, 315), (316, 320), (317, 320), (321, 323), (324, 328), (327, 328), (330, 333), (331, 334), (332, 333), (333, 334), (335, 339), (337, 339), (338, 339), (340, 344), (341, 344), (346, 349), (348, 349), (348, 350), (352, 353), (354, 358), (359, 362), (363, 367), (366, 367), (368, 370), (369, 370), (371, 375), (372, 375), (373, 375), (374, 375), (374, 376), (377, 380), (378, 380), (379, 380), (381, 383), (382, 383), (384, 387), (385, 387), (386, 387), (389, 391), (392, 396), (393, 396), (399, 400), (404, 405), (407, 409), (410, 413), (412, 413), (414, 417), (416, 417), (418, 422), (420, 422), (424, 428), (430, 433), (431, 433), (435, 437), (438, 440), (444, 445), (446, 449), (450, 455), (450, 456), (451, 454), (452, 454), (452, 455), (453, 454), (453, 455), (457, 459), (461, 464), (462, 465), (468, 469), (471, 472), (473, 477), (479, 480), (483, 484), (485, 487), (488, 491), (494, 495)])"
      ]
     },
     "execution_count": 7,
     "metadata": {},
     "output_type": "execute_result"
    }
   ],
   "source": [
    "city_graph.edges"
   ]
  },
  {
   "cell_type": "code",
   "execution_count": 8,
   "metadata": {},
   "outputs": [
    {
     "data": {
      "image/png": "[encoded data removed]",
      "text/plain": [
       "<Figure size 432x288 with 1 Axes>"
      ]
     },
     "metadata": {},
     "output_type": "display_data"
    }
   ],
   "source": [
    "nx.draw(city_graph)"
   ]
  },
  {
   "cell_type": "code",
   "execution_count": 70,
   "metadata": {},
   "outputs": [
    {
     "data": {
      "text/plain": [
       "124.09274193548387"
      ]
     },
     "execution_count": 70,
     "metadata": {},
     "output_type": "execute_result"
    }
   ],
   "source": [
    "np.mean(nx.degree(city_graph))"
   ]
  },
  {
   "cell_type": "code",
   "execution_count": 71,
   "metadata": {},
   "outputs": [
    {
     "data": {
      "text/plain": [
       "159.62527776689757"
      ]
     },
     "execution_count": 71,
     "metadata": {},
     "output_type": "execute_result"
    }
   ],
   "source": [
    "np.std(nx.degree(city_graph))"
   ]
  },
  {
   "cell_type": "code",
   "execution_count": 72,
   "metadata": {},
   "outputs": [
    {
     "data": {
      "text/plain": [
       "496"
      ]
     },
     "execution_count": 72,
     "metadata": {},
     "output_type": "execute_result"
    }
   ],
   "source": [
    "len(city_graph.nodes)"
   ]
  },
  {
   "cell_type": "code",
   "execution_count": 73,
   "metadata": {},
   "outputs": [
    {
     "data": {
      "text/plain": [
       "170"
      ]
     },
     "execution_count": 73,
     "metadata": {},
     "output_type": "execute_result"
    }
   ],
   "source": [
    "len(city_graph.edges)"
   ]
  },
  {
   "cell_type": "code",
   "execution_count": 74,
   "metadata": {},
   "outputs": [
    {
     "data": {
      "text/plain": [
       "0.0013848159009449332"
      ]
     },
     "execution_count": 74,
     "metadata": {},
     "output_type": "execute_result"
    }
   ],
   "source": [
    "nx.density(city_graph)"
   ]
  },
  {
   "cell_type": "code",
   "execution_count": 75,
   "metadata": {
    "scrolled": true
   },
   "outputs": [
    {
     "data": {
      "text/plain": [
       "<matplotlib.axes._subplots.AxesSubplot at 0x133b9e53860>"
      ]
     },
     "execution_count": 75,
     "metadata": {},
     "output_type": "execute_result"
    },
    {
     "data": {
      "image/png": "[encoded data removed]",
      "text/plain": [
       "<Figure size 432x288 with 1 Axes>"
      ]
     },
     "metadata": {
      "needs_background": "light"
     },
     "output_type": "display_data"
    }
   ],
   "source": [
    "pd.Series([x[1] for x in nx.degree(city_graph)]).hist()"
   ]
  },
  {
   "cell_type": "code",
   "execution_count": null,
   "metadata": {},
   "outputs": [],
   "source": []
  }
 ],
 "metadata": {
  "kernelspec": {
   "display_name": "Python 3",
   "language": "python",
   "name": "python3"
  },
  "language_info": {
   "codemirror_mode": {
    "name": "ipython",
    "version": 3
   },
   "file_extension": ".py",
   "mimetype": "text/x-python",
   "name": "python",
   "nbconvert_exporter": "python",
   "pygments_lexer": "ipython3",
   "version": "3.7.3"
  }
 },
 "nbformat": 4,
 "nbformat_minor": 2
}
