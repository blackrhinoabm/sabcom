{
 "cells": [
  {
   "cell_type": "code",
   "execution_count": 51,
   "metadata": {},
   "outputs": [],
   "source": [
    "import numpy as np\n",
    "import pandas as pd\n",
    "import matplotlib.pyplot as plt\n",
    "from matplotlib import style\n",
    "import time\n",
    "import ipywidgets as wg\n",
    "from ipywidgets import interact\n",
    "from IPython.display import display\n",
    "import networkx as nx\n",
    "from src.environment import Environment\n",
    "from src.runner import runner\n",
    "from src.helpers import confidence_interval, what_informality\n",
    "import pickle\n",
    "from sklearn import preprocessing\n",
    "import random\n",
    "import json\n",
    "from matplotlib.dates import DateFormatter\n",
    "import datetime"
   ]
  },
  {
   "cell_type": "code",
   "execution_count": 52,
   "metadata": {},
   "outputs": [],
   "source": [
    "style.use('seaborn-white')"
   ]
  },
  {
   "cell_type": "markdown",
   "metadata": {},
   "source": [
    "### 1 load general the parameters"
   ]
  },
  {
   "cell_type": "code",
   "execution_count": 83,
   "metadata": {},
   "outputs": [],
   "source": [
    "with open('parameters/parameters.json') as json_file:\n",
    "    parameters = json.load(json_file)\n",
    "\n",
    "parameters['data_output'] = 'csv_light'\n",
    "parameters['number_of_agents'] = 100000"
   ]
  },
  {
   "cell_type": "code",
   "execution_count": 84,
   "metadata": {},
   "outputs": [
    {
     "data": {
      "text/plain": [
       "100000"
      ]
     },
     "execution_count": 84,
     "metadata": {},
     "output_type": "execute_result"
    }
   ],
   "source": [
    "parameters['number_of_agents']"
   ]
  },
  {
   "cell_type": "code",
   "execution_count": 85,
   "metadata": {},
   "outputs": [
    {
     "data": {
      "text/plain": [
       "59"
      ]
     },
     "execution_count": 85,
     "metadata": {},
     "output_type": "execute_result"
    }
   ],
   "source": [
    "initial_agents = max(round((310 / (3740026 / parameters['number_of_agents']) * 100/14)), 20) # 310 cases / (population / agent) * 1 / 14% detected cases\n",
    "initial_agents"
   ]
  },
  {
   "cell_type": "code",
   "execution_count": 86,
   "metadata": {},
   "outputs": [],
   "source": [
    "parameters['lockdown_days'] = [x for x in range(0, parameters['time'])]\n",
    "parameters['total_initial_infections'] = [x for x in range(initial_agents)]"
   ]
  },
  {
   "cell_type": "code",
   "execution_count": 87,
   "metadata": {},
   "outputs": [],
   "source": [
    "#parameters"
   ]
  },
  {
   "cell_type": "code",
   "execution_count": 88,
   "metadata": {},
   "outputs": [
    {
     "data": {
      "text/plain": [
       "0.00335"
      ]
     },
     "execution_count": 88,
     "metadata": {},
     "output_type": "execute_result"
    }
   ],
   "source": [
    "parameters['probability_transmission']"
   ]
  },
  {
   "cell_type": "markdown",
   "metadata": {},
   "source": [
    "### 2 load neighbourhood data"
   ]
  },
  {
   "cell_type": "code",
   "execution_count": 89,
   "metadata": {},
   "outputs": [],
   "source": [
    "with open('parameters/district_data_100k.json') as json_file:\n",
    "    neighbourhood_data = json.load(json_file)"
   ]
  },
  {
   "cell_type": "markdown",
   "metadata": {},
   "source": [
    "### Run 3 scenarios:\n",
    "\n",
    "Lockdown regulation changes: \n",
    "\n",
    "\n",
    "* From 1 May level 4\n",
    "* From 1 June level 3\n",
    "\n",
    "\n",
    "1. No intervention\n",
    "2. Formal lockdown\n",
    "3. Informal lockdown \n",
    "\n",
    "First, initialise via pickle "
   ]
  },
  {
   "cell_type": "code",
   "execution_count": 148,
   "metadata": {},
   "outputs": [],
   "source": [
    "data = open('seed_22_forjoeri.pkl', \"rb\")\n",
    "list_of_objects = pickle.load(data)\n",
    "environment_base = list_of_objects[0]\n",
    "\n",
    "data = open('seed_22_forjoeri.pkl', \"rb\")\n",
    "list_of_objects = pickle.load(data)\n",
    "environment_formal = list_of_objects[0]\n",
    "\n",
    "data = open('seed_22_forjoeri.pkl', \"rb\")\n",
    "list_of_objects = pickle.load(data)\n",
    "environment_informal = list_of_objects[0]\n",
    "\n",
    "scenarios = ['baseline', 'formal_lockdown', 'informal_lockdown']\n",
    "environments = [environment_base, environment_formal, environment_informal]"
   ]
  },
  {
   "cell_type": "markdown",
   "metadata": {},
   "source": [
    "Correct parameters from pickle. "
   ]
  },
  {
   "cell_type": "code",
   "execution_count": 149,
   "metadata": {},
   "outputs": [],
   "source": [
    "for env in environments: \n",
    "    env.parameters['time'] = parameters['time']\n",
    "    env.parameters['probability_transmission']= parameters['probability_transmission']#!!!!###!!!###\n",
    "    env.parameters['number_of_agents'] = 100000 #!!!!###!!!###\n",
    "    env.parameters['data_output']=parameters['data_output']#!!!!###!!!###\n",
    "    env.parameters[\"total_initial_infections\"]=parameters[\"total_initial_infections\"]\n",
    "    env.parameters['informality_dummy']=parameters[\"informality_dummy\"] \n",
    "    env.parameters[\"lockdown_days\"]  = parameters[\"lockdown_days\"] \n",
    "    env.parameters[\"health_system_capacity\"] =parameters[\"health_system_capacity\"]\n",
    "    env.parameters['total_initial_infections'] = parameters['total_initial_infections']\n",
    "    \n",
    "    # ADD NEW PARAMETER\n",
    "    env.parameters[\"perc_infections_detects\"] = 1.0#parameters['perc_infections_detects']\n",
    "    # ADD NEWLY DETECTED CASES\n",
    "    env.newly_detected_cases = [0 for x in range(parameters['time'])]\n",
    "    \n",
    "    # CHANGE POLICY PARAMETERS\n",
    "    env.parameters[\"physical_distancing_multiplier\"] = 0.91# 0.51\n",
    "    env.parameters[\"visiting_recurring_contacts_multiplier\"] = 0.5387393162393163 #0.5387393162393163\n",
    "    env.parameters[\"likelihood_awareness\"] = 0.1 # 0.54\n",
    "    env.parameters[\"gathering_max_contacts\"] = 32# 12"
   ]
  },
  {
   "cell_type": "code",
   "execution_count": 150,
   "metadata": {},
   "outputs": [],
   "source": [
    "data_folder = 'measurement/baseline_100k/'\n",
    "seed = 22"
   ]
  },
  {
   "cell_type": "code",
   "execution_count": 151,
   "metadata": {},
   "outputs": [
    {
     "name": "stdout",
     "output_type": "stream",
     "text": [
      "31\n",
      "7\n",
      "6\n"
     ]
    }
   ],
   "source": [
    "for env, sc in zip(environments, scenarios):\n",
    "    if sc == 'baseline':\n",
    "        env.parameters[\"lockdown_days\"] = [0 for x in parameters[\"lockdown_days\"]]\n",
    "    if sc == 'formal_lockdown':\n",
    "        env.parameters['informality_dummy'] = 0.0\n",
    "    \n",
    "    if sc == 'informal_lockdown':\n",
    "        env.parameters['informality_dummy'] = 1.0\n",
    "    \n",
    "    if env.parameters['informality_dummy'] == 1.0:\n",
    "        for agent in env.agents:\n",
    "            agent.informality = what_informality(agent.district, neighbourhood_data) * parameters[\"informality_dummy\"]\n",
    "        \n",
    "    env = runner(env, 0, data_folder=data_folder, data_output=env.parameters['data_output'])\n",
    "    \n",
    "    if parameters[\"data_output\"] == 'csv_light':\n",
    "        pd.DataFrame(env.infection_quantities).to_csv('{}seed{}/quantities_state_time_{}.csv'.format(data_folder,\n",
    "                                                                                                      seed, sc))"
   ]
  },
  {
   "cell_type": "code",
   "execution_count": 152,
   "metadata": {},
   "outputs": [
    {
     "data": {
      "text/plain": [
       "1.0"
      ]
     },
     "execution_count": 152,
     "metadata": {},
     "output_type": "execute_result"
    }
   ],
   "source": [
    "environments[2].parameters['informality_dummy']"
   ]
  },
  {
   "cell_type": "code",
   "execution_count": 153,
   "metadata": {},
   "outputs": [
    {
     "data": {
      "text/plain": [
       "'informal_lockdown'"
      ]
     },
     "execution_count": 153,
     "metadata": {},
     "output_type": "execute_result"
    }
   ],
   "source": [
    "scenarios[2]"
   ]
  },
  {
   "cell_type": "markdown",
   "metadata": {},
   "source": [
    "### Analyse data for the three scenarios"
   ]
  },
  {
   "cell_type": "code",
   "execution_count": 154,
   "metadata": {},
   "outputs": [],
   "source": [
    "data_scenarios = [pd.read_csv('{}seed{}/quantities_state_time_{}.csv'.format(data_folder, seed, sc), index_col=0) for sc in scenarios]"
   ]
  },
  {
   "cell_type": "code",
   "execution_count": 155,
   "metadata": {},
   "outputs": [],
   "source": [
    "start_date = datetime.datetime(2020, 3, 29)\n",
    "dates = [start_date + datetime.timedelta(days=x) for x in data_scenarios[0].index]"
   ]
  },
  {
   "cell_type": "code",
   "execution_count": 156,
   "metadata": {},
   "outputs": [],
   "source": [
    "multiplication_factor = 37.40026\n",
    "detection_m_factor = multiplication_factor * 0.14"
   ]
  },
  {
   "cell_type": "markdown",
   "metadata": {},
   "source": [
    "### Compare to the actual case numbers for cape town:"
   ]
  },
  {
   "cell_type": "code",
   "execution_count": 157,
   "metadata": {},
   "outputs": [],
   "source": [
    "detected_cases = pd.read_csv('input_data/detected_cases_cape_town_metro.csv')['Cases']\n",
    "#tests_conducted = pd.read_csv('input_data/detected_cases_cape_town_metro.csv')['Cases']\n",
    "#detected_cases.plot()"
   ]
  },
  {
   "cell_type": "code",
   "execution_count": 165,
   "metadata": {},
   "outputs": [
    {
     "data": {
      "text/plain": [
       "0       2214.285714\n",
       "1               NaN\n",
       "2       2485.714286\n",
       "3       2642.857143\n",
       "4       2807.142857\n",
       "5       2985.714286\n",
       "6       3185.714286\n",
       "7       3314.285714\n",
       "8       3392.857143\n",
       "9       3500.000000\n",
       "10      3642.857143\n",
       "11      3728.571429\n",
       "12      3892.857143\n",
       "13      4050.000000\n",
       "14      3992.857143\n",
       "15      4485.714286\n",
       "16      4692.857143\n",
       "17      4828.571429\n",
       "18      5014.285714\n",
       "19      5307.142857\n",
       "20      5800.000000\n",
       "21      6185.714286\n",
       "22      6464.285714\n",
       "23      6957.142857\n",
       "24      7628.571429\n",
       "25      8235.714286\n",
       "26      9385.714286\n",
       "27     10250.000000\n",
       "28     10935.714286\n",
       "29     11557.142857\n",
       "          ...      \n",
       "48     60764.285714\n",
       "49     66042.857143\n",
       "50     70907.142857\n",
       "51     75414.285714\n",
       "52     79085.714286\n",
       "53     84357.142857\n",
       "54     89421.428571\n",
       "55     92478.571429\n",
       "56     99778.571429\n",
       "57    106985.714286\n",
       "58    112542.857143\n",
       "59    118221.428571\n",
       "60    123471.428571\n",
       "61    131071.428571\n",
       "62    139000.000000\n",
       "63    150735.714286\n",
       "64    157764.285714\n",
       "65    164964.285714\n",
       "66    175457.142857\n",
       "67    188471.428571\n",
       "68    200585.714286\n",
       "69    208114.285714\n",
       "70    216064.285714\n",
       "71    228914.285714\n",
       "72    242085.714286\n",
       "73    259135.714286\n",
       "74    261950.000000\n",
       "75    271428.571429\n",
       "76    279707.142857\n",
       "77    287371.428571\n",
       "Name: Cases, Length: 78, dtype: float64"
      ]
     },
     "execution_count": 165,
     "metadata": {},
     "output_type": "execute_result"
    }
   ],
   "source": [
    "# 14 * x = 100 \n",
    "# x = 100/14\n",
    "detected_cases * 100/14"
   ]
  },
  {
   "cell_type": "code",
   "execution_count": 172,
   "metadata": {},
   "outputs": [
    {
     "data": {
      "text/plain": [
       "Text(0.5, 0, 'Date')"
      ]
     },
     "execution_count": 172,
     "metadata": {},
     "output_type": "execute_result"
    },
    {
     "data": {
      "image/png": "[encoded data removed]",
      "text/plain": [
       "<Figure size 1008x576 with 1 Axes>"
      ]
     },
     "metadata": {},
     "output_type": "display_data"
    }
   ],
   "source": [
    "fig, ax = plt.subplots(figsize=(14,8))\n",
    "\n",
    "ax.set_title('Cumulative infections', fontsize='16')\n",
    "\n",
    "ax.plot(dates, detected_cases, 'k--', label='empirical lower')\n",
    "\n",
    "ax.plot(dates, detected_cases * 100/14, 'k--', label='empirical upper')\n",
    "\n",
    "\n",
    "#ax.plot(dates, (data_scenarios[0]['e'] + data_scenarios[0]['i1'] + data_scenarios[0]['i2']) * multiplication_factor, label='baseline')\n",
    "# ax.plot(dates, (data_scenarios[0]['detected'].cumsum() * multiplication_factor), label='baseline', \n",
    "#         color='red', linestyle='-')\n",
    "\n",
    "#ax.plot(dates, (data_scenarios[1]['e'] + data_scenarios[1]['i1'] + data_scenarios[1]['i2']) * multiplication_factor, label='formal')\n",
    "ax.plot(dates, (data_scenarios[1]['detected'].cumsum() * multiplication_factor), label='formal lockdown', \n",
    "        color='blue', linestyle='-')\n",
    "\n",
    "\n",
    "#ax.plot(dates, (data_scenarios[2]['e']  + data_scenarios[2]['i1'] + data_scenarios[2]['i2']) * multiplication_factor, label='informal')\n",
    "ax.plot(dates, (data_scenarios[2]['detected'].cumsum() * multiplication_factor), label='informal lockdown', \n",
    "        color='orange', linestyle='-')\n",
    "\n",
    "myFmt = DateFormatter(\"%d-%m-%y\")\n",
    "ax.xaxis.set_major_formatter(myFmt)\n",
    "\n",
    "## Rotate date labels automatically\n",
    "fig.autofmt_xdate()\n",
    "\n",
    "\n",
    "ax.legend(loc='best', fontsize='14', frameon=True)\n",
    "ax.set_ylabel('Cumulative infections', fontsize='14')\n",
    "ax.set_xlabel('Date', fontsize='14')"
   ]
  },
  {
   "cell_type": "code",
   "execution_count": null,
   "metadata": {},
   "outputs": [],
   "source": []
  }
 ],
 "metadata": {
  "kernelspec": {
   "display_name": "Python 3",
   "language": "python",
   "name": "python3"
  },
  "language_info": {
   "codemirror_mode": {
    "name": "ipython",
    "version": 3
   },
   "file_extension": ".py",
   "mimetype": "text/x-python",
   "name": "python",
   "nbconvert_exporter": "python",
   "pygments_lexer": "ipython3",
   "version": "3.6.8"
  }
 },
 "nbformat": 4,
 "nbformat_minor": 2
}
