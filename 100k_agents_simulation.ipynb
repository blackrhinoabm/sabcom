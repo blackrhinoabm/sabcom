{
 "cells": [
  {
   "cell_type": "code",
   "execution_count": 174,
   "metadata": {},
   "outputs": [],
   "source": [
    "import numpy as np\n",
    "import pandas as pd\n",
    "import matplotlib.pyplot as plt\n",
    "from matplotlib import style\n",
    "import time\n",
    "import ipywidgets as wg\n",
    "from ipywidgets import interact\n",
    "from IPython.display import display\n",
    "import networkx as nx\n",
    "from src.environment import Environment\n",
    "from src.runner import runner\n",
    "from src.helpers import confidence_interval, what_informality\n",
    "import pickle\n",
    "from sklearn import preprocessing\n",
    "import random\n",
    "import json\n",
    "import datetime"
   ]
  },
  {
   "cell_type": "code",
   "execution_count": 2,
   "metadata": {},
   "outputs": [],
   "source": [
    "style.use('seaborn-white')"
   ]
  },
  {
   "cell_type": "markdown",
   "metadata": {},
   "source": [
    "### 1 load general the parameters"
   ]
  },
  {
   "cell_type": "code",
   "execution_count": 3,
   "metadata": {},
   "outputs": [],
   "source": [
    "with open('parameters/parameters.json') as json_file:\n",
    "    parameters = json.load(json_file)\n",
    "\n",
    "parameters['data_output'] = 'csv_light'\n",
    "parameters['number_of_agents'] = 100000"
   ]
  },
  {
   "cell_type": "code",
   "execution_count": 6,
   "metadata": {},
   "outputs": [
    {
     "data": {
      "text/plain": [
       "59"
      ]
     },
     "execution_count": 6,
     "metadata": {},
     "output_type": "execute_result"
    }
   ],
   "source": [
    "initial_agents = max(round((310 / (3740026 / parameters['number_of_agents']) * 100/14)), 20) # 310 cases / (population / agent) * 1 / 14% detected cases\n",
    "initial_agents"
   ]
  },
  {
   "cell_type": "code",
   "execution_count": 146,
   "metadata": {},
   "outputs": [],
   "source": [
    "parameters['informality_dummy'] = 1.0\n",
    "parameters['lockdown_days'] = [x for x in range(0, parameters['time'])]\n",
    "#parameters['probability_transmission'] = 0.5\n",
    "parameters['total_initial_infections'] = [x for x in range(initial_agents)]"
   ]
  },
  {
   "cell_type": "code",
   "execution_count": 147,
   "metadata": {},
   "outputs": [
    {
     "data": {
      "text/plain": [
       "{'time': 120,\n",
       " 'number_of_agents': 100000,\n",
       " 'monte_carlo_runs': 1,\n",
       " 'exposed_days': 4,\n",
       " 'asymptom_days': 10,\n",
       " 'symptom_days': 10,\n",
       " 'critical_days': 8,\n",
       " 'probability_symptomatic': 0.6165,\n",
       " 'no_hospital_multiplier': 1.79,\n",
       " 'probability_transmission': 0.00335,\n",
       " 'probability_critical': {'age_0_10': 0.001,\n",
       "  'age_10_20': 0.003,\n",
       "  'age_20_30': 0.012,\n",
       "  'age_30_40': 0.032,\n",
       "  'age_40_50': 0.049,\n",
       "  'age_50_60': 0.102,\n",
       "  'age_60_70': 0.166,\n",
       "  'age_70_80': 0.244,\n",
       "  'age_80_plus': 0.273},\n",
       " 'probability_to_die': {'age_0_10': 0.005,\n",
       "  'age_10_20': 0.021,\n",
       "  'age_20_30': 0.053,\n",
       "  'age_30_40': 0.126,\n",
       "  'age_40_50': 0.221,\n",
       "  'age_50_60': 0.303,\n",
       "  'age_60_70': 0.565,\n",
       "  'age_70_80': 0.653,\n",
       "  'age_80_plus': 0.765},\n",
       " 'total_initial_infections': [0,\n",
       "  1,\n",
       "  2,\n",
       "  3,\n",
       "  4,\n",
       "  5,\n",
       "  6,\n",
       "  7,\n",
       "  8,\n",
       "  9,\n",
       "  10,\n",
       "  11,\n",
       "  12,\n",
       "  13,\n",
       "  14,\n",
       "  15,\n",
       "  16,\n",
       "  17,\n",
       "  18,\n",
       "  19,\n",
       "  20,\n",
       "  21,\n",
       "  22,\n",
       "  23,\n",
       "  24,\n",
       "  25,\n",
       "  26,\n",
       "  27,\n",
       "  28,\n",
       "  29,\n",
       "  30,\n",
       "  31,\n",
       "  32,\n",
       "  33,\n",
       "  34,\n",
       "  35,\n",
       "  36,\n",
       "  37,\n",
       "  38,\n",
       "  39,\n",
       "  40,\n",
       "  41,\n",
       "  42,\n",
       "  43,\n",
       "  44,\n",
       "  45,\n",
       "  46,\n",
       "  47,\n",
       "  48,\n",
       "  49,\n",
       "  50,\n",
       "  51,\n",
       "  52,\n",
       "  53,\n",
       "  54,\n",
       "  55,\n",
       "  56,\n",
       "  57,\n",
       "  58],\n",
       " 'health_system_capacity': 0.0009179,\n",
       " 'lockdown_days': [0,\n",
       "  1,\n",
       "  2,\n",
       "  3,\n",
       "  4,\n",
       "  5,\n",
       "  6,\n",
       "  7,\n",
       "  8,\n",
       "  9,\n",
       "  10,\n",
       "  11,\n",
       "  12,\n",
       "  13,\n",
       "  14,\n",
       "  15,\n",
       "  16,\n",
       "  17,\n",
       "  18,\n",
       "  19,\n",
       "  20,\n",
       "  21,\n",
       "  22,\n",
       "  23,\n",
       "  24,\n",
       "  25,\n",
       "  26,\n",
       "  27,\n",
       "  28,\n",
       "  29,\n",
       "  30,\n",
       "  31,\n",
       "  32,\n",
       "  33,\n",
       "  34,\n",
       "  35,\n",
       "  36,\n",
       "  37,\n",
       "  38,\n",
       "  39,\n",
       "  40,\n",
       "  41,\n",
       "  42,\n",
       "  43,\n",
       "  44,\n",
       "  45,\n",
       "  46,\n",
       "  47,\n",
       "  48,\n",
       "  49,\n",
       "  50,\n",
       "  51,\n",
       "  52,\n",
       "  53,\n",
       "  54,\n",
       "  55,\n",
       "  56,\n",
       "  57,\n",
       "  58,\n",
       "  59,\n",
       "  60,\n",
       "  61,\n",
       "  62,\n",
       "  63,\n",
       "  64,\n",
       "  65,\n",
       "  66,\n",
       "  67,\n",
       "  68,\n",
       "  69,\n",
       "  70,\n",
       "  71,\n",
       "  72,\n",
       "  73,\n",
       "  74,\n",
       "  75,\n",
       "  76,\n",
       "  77,\n",
       "  78,\n",
       "  79,\n",
       "  80,\n",
       "  81,\n",
       "  82,\n",
       "  83,\n",
       "  84,\n",
       "  85,\n",
       "  86,\n",
       "  87,\n",
       "  88,\n",
       "  89,\n",
       "  90,\n",
       "  91,\n",
       "  92,\n",
       "  93,\n",
       "  94,\n",
       "  95,\n",
       "  96,\n",
       "  97,\n",
       "  98,\n",
       "  99,\n",
       "  100,\n",
       "  101,\n",
       "  102,\n",
       "  103,\n",
       "  104,\n",
       "  105,\n",
       "  106,\n",
       "  107,\n",
       "  108,\n",
       "  109,\n",
       "  110,\n",
       "  111,\n",
       "  112,\n",
       "  113,\n",
       "  114,\n",
       "  115,\n",
       "  116,\n",
       "  117,\n",
       "  118,\n",
       "  119],\n",
       " 'physical_distancing_multiplier': 0.31,\n",
       " 'visiting_recurring_contacts_multiplier': 0.45983870967741947,\n",
       " 'likelihood_awareness': 0.54,\n",
       " 'gathering_max_contacts': 12,\n",
       " 'informality_dummy': 1.0,\n",
       " 'aware_status': ['i2'],\n",
       " 'init_infected_agent': 0,\n",
       " 'data_output': 'csv_light',\n",
       " 'probability_susceptible': 0.0}"
      ]
     },
     "execution_count": 147,
     "metadata": {},
     "output_type": "execute_result"
    }
   ],
   "source": [
    "parameters"
   ]
  },
  {
   "cell_type": "code",
   "execution_count": 148,
   "metadata": {},
   "outputs": [
    {
     "data": {
      "text/plain": [
       "0.00335"
      ]
     },
     "execution_count": 148,
     "metadata": {},
     "output_type": "execute_result"
    }
   ],
   "source": [
    "parameters['probability_transmission']"
   ]
  },
  {
   "cell_type": "markdown",
   "metadata": {},
   "source": [
    "### 2 load neighbourhood data"
   ]
  },
  {
   "cell_type": "code",
   "execution_count": 149,
   "metadata": {},
   "outputs": [],
   "source": [
    "with open('parameters/district_data_100k.json') as json_file:\n",
    "    neighbourhood_data = json.load(json_file)"
   ]
  },
  {
   "cell_type": "markdown",
   "metadata": {},
   "source": [
    "### 2 initialization from pickle"
   ]
  },
  {
   "cell_type": "code",
   "execution_count": 150,
   "metadata": {},
   "outputs": [],
   "source": [
    "data = open('seed_22_forjoeri.pkl', \"rb\")\n",
    "list_of_objects = pickle.load(data)\n",
    "environment = list_of_objects[0]"
   ]
  },
  {
   "cell_type": "code",
   "execution_count": 151,
   "metadata": {},
   "outputs": [],
   "source": [
    "# correct time\n",
    "environment.parameters['time'] = parameters['time']\n",
    "\n",
    "# correct informality\n",
    "if parameters[\"informality_dummy\"] == 1.0:\n",
    "    for agent in environment.agents:\n",
    "        agent.informality = what_informality(agent.district, neighbourhood_data) * parameters[\"informality_dummy\"]\n",
    "\n",
    "environment.parameters['probability_transmission']= parameters['probability_transmission']#!!!!###!!!###\n",
    "environment.parameters['number_of_agents'] = 100000 #!!!!###!!!###\n",
    "environment.parameters['data_output']=parameters['data_output']#!!!!###!!!###\n",
    "environment.parameters[\"total_initial_infections\"]=parameters[\"total_initial_infections\"]\n",
    "environment.parameters['informality_dummy']=parameters[\"informality_dummy\"] \n",
    "environment.parameters[\"lockdown_days\"]  = parameters[\"lockdown_days\"] \n",
    "environment.parameters[\"health_system_capacity\"] =parameters[\"health_system_capacity\"]\n",
    "environment.parameters['total_initial_infections'] = parameters['total_initial_infections']"
   ]
  },
  {
   "cell_type": "markdown",
   "metadata": {},
   "source": [
    "### Experiment with policy parameters"
   ]
  },
  {
   "cell_type": "code",
   "execution_count": 152,
   "metadata": {},
   "outputs": [],
   "source": [
    "environment.parameters[\"physical_distancing_multiplier\"] = 0.9# 0.51\n",
    "environment.parameters[\"visiting_recurring_contacts_multiplier\"] = 0.45983870967741947\n",
    "environment.parameters[\"likelihood_awareness\"] = 0.54 # 0.54\n",
    "environment.parameters[\"gathering_max_contacts\"] = 24# 12"
   ]
  },
  {
   "cell_type": "code",
   "execution_count": 153,
   "metadata": {},
   "outputs": [],
   "source": [
    "data_folder = 'measurement/baseline_100k/'\n",
    "seed = 22"
   ]
  },
  {
   "cell_type": "markdown",
   "metadata": {},
   "source": [
    "# Simulate model"
   ]
  },
  {
   "cell_type": "code",
   "execution_count": 154,
   "metadata": {},
   "outputs": [
    {
     "name": "stdout",
     "output_type": "stream",
     "text": [
      "3\n"
     ]
    }
   ],
   "source": [
    "environment = runner(environment, 0, data_folder=data_folder, data_output=environment.parameters['data_output'])"
   ]
  },
  {
   "cell_type": "code",
   "execution_count": 156,
   "metadata": {},
   "outputs": [],
   "source": [
    "if parameters[\"data_output\"] == 'csv_light':\n",
    "    pd.DataFrame(environment.infection_quantities).to_csv('{}seed{}/quantities_state_time_0.csv'.format(data_folder,\n",
    "                                                                                                      seed))"
   ]
  },
  {
   "cell_type": "markdown",
   "metadata": {},
   "source": [
    "# Analyse"
   ]
  },
  {
   "cell_type": "code",
   "execution_count": 141,
   "metadata": {},
   "outputs": [],
   "source": [
    "data_formal = pd.read_csv('{}seed{}/quantities_state_time.csv'.format(data_folder, seed), index_col=0)"
   ]
  },
  {
   "cell_type": "code",
   "execution_count": 157,
   "metadata": {},
   "outputs": [],
   "source": [
    "data_informal = pd.read_csv('{}seed{}/quantities_state_time_0.csv'.format(data_folder, seed), index_col=0)"
   ]
  },
  {
   "cell_type": "code",
   "execution_count": 176,
   "metadata": {},
   "outputs": [
    {
     "data": {
      "text/plain": [
       "<matplotlib.axes._subplots.AxesSubplot at 0x26a874cb6d8>"
      ]
     },
     "execution_count": 176,
     "metadata": {},
     "output_type": "execute_result"
    },
    {
     "data": {
      "image/png": "[encoded data removed]",
      "text/plain": [
       "<Figure size 432x288 with 1 Axes>"
      ]
     },
     "metadata": {},
     "output_type": "display_data"
    }
   ],
   "source": [
    "data_formal['i2'].plot()\n",
    "#data_formal['d'].plot()"
   ]
  },
  {
   "cell_type": "code",
   "execution_count": 177,
   "metadata": {},
   "outputs": [
    {
     "data": {
      "text/plain": [
       "<matplotlib.axes._subplots.AxesSubplot at 0x26b027f3d30>"
      ]
     },
     "execution_count": 177,
     "metadata": {},
     "output_type": "execute_result"
    },
    {
     "data": {
      "image/png": "[encoded data removed]",
      "text/plain": [
       "<Figure size 432x288 with 1 Axes>"
      ]
     },
     "metadata": {},
     "output_type": "display_data"
    }
   ],
   "source": [
    "data_informal['i2'].plot()"
   ]
  },
  {
   "cell_type": "code",
   "execution_count": 170,
   "metadata": {},
   "outputs": [],
   "source": [
    "start_date = datetime.datetime(2020, 3, 29)\n",
    "dates = [start_date + datetime.timedelta(days=x) for x in data_formal.index]\n",
    "#dates"
   ]
  },
  {
   "cell_type": "code",
   "execution_count": 175,
   "metadata": {},
   "outputs": [
    {
     "data": {
      "text/plain": [
       "Text(0.5, 0, 'Date')"
      ]
     },
     "execution_count": 175,
     "metadata": {},
     "output_type": "execute_result"
    },
    {
     "data": {
      "image/png": "[encoded data removed]",
      "text/plain": [
       "<Figure size 1008x576 with 1 Axes>"
      ]
     },
     "metadata": {},
     "output_type": "display_data"
    }
   ],
   "source": [
    "fig, ax = plt.subplots(figsize=(14,8))\n",
    "\n",
    "ax.plot(dates, data_informal['e'] + data_informal['i1'] + data_informal['i2'], label='informal')\n",
    "ax.plot(dates, data_formal['e']  + data_formal['i1'] + data_formal['i2'], label='formal')\n",
    "\n",
    "ax.legend(loc='best', fontsize='14', frameon=True)\n",
    "ax.set_ylabel('Infected agents (e + i1 + i2)', fontsize='14')\n",
    "ax.set_xlabel('Date', fontsize='14')"
   ]
  },
  {
   "cell_type": "code",
   "execution_count": 95,
   "metadata": {},
   "outputs": [
    {
     "data": {
      "text/plain": [
       "Text(0.5, 0, 'Days')"
      ]
     },
     "execution_count": 95,
     "metadata": {},
     "output_type": "execute_result"
    },
    {
     "data": {
      "image/png": "[encoded data removed]",
      "text/plain": [
       "<Figure size 1008x576 with 1 Axes>"
      ]
     },
     "metadata": {},
     "output_type": "display_data"
    }
   ],
   "source": [
    "fig, ax = plt.subplots(figsize=(14,8))\n",
    "\n",
    "ax.plot(data_informal.index, data_informal['d'], label='informal')\n",
    "ax.plot(data_formal.index, data_formal['d'], label='formal')\n",
    "\n",
    "ax.legend(loc='best', fontsize='14', frameon=True)\n",
    "ax.set_ylabel('Cape Town population', fontsize='14')\n",
    "ax.set_xlabel('Days', fontsize='14')"
   ]
  },
  {
   "cell_type": "code",
   "execution_count": null,
   "metadata": {},
   "outputs": [],
   "source": []
  }
 ],
 "metadata": {
  "kernelspec": {
   "display_name": "Python 3",
   "language": "python",
   "name": "python3"
  },
  "language_info": {
   "codemirror_mode": {
    "name": "ipython",
    "version": 3
   },
   "file_extension": ".py",
   "mimetype": "text/x-python",
   "name": "python",
   "nbconvert_exporter": "python",
   "pygments_lexer": "ipython3",
   "version": "3.7.3"
  }
 },
 "nbformat": 4,
 "nbformat_minor": 2
}
