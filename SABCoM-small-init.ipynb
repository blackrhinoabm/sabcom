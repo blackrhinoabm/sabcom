{
 "cells": [
  {
   "cell_type": "code",
   "execution_count": 1,
   "metadata": {},
   "outputs": [],
   "source": [
    "import numpy as np\n",
    "import pandas as pd\n",
    "import matplotlib.pyplot as plt\n",
    "from matplotlib import style\n",
    "import ipywidgets as wg\n",
    "from ipywidgets import interact\n",
    "from IPython.display import display\n",
    "import networkx as nx\n",
    "from src.environment import Environment, EnvironmentMeanField\n",
    "from src.runner import runner\n",
    "from sklearn import preprocessing\n",
    "import random\n",
    "import json\n",
    "import os"
   ]
  },
  {
   "cell_type": "code",
   "execution_count": 2,
   "metadata": {},
   "outputs": [],
   "source": [
    "style.use('seaborn-white')"
   ]
  },
  {
   "cell_type": "markdown",
   "metadata": {},
   "source": [
    "# Initialise small 1 district model"
   ]
  },
  {
   "cell_type": "code",
   "execution_count": 3,
   "metadata": {},
   "outputs": [],
   "source": [
    "TIME = 60"
   ]
  },
  {
   "cell_type": "code",
   "execution_count": 4,
   "metadata": {},
   "outputs": [],
   "source": [
    "age_groups = ['age_0_10', 'age_10_20', 'age_20_30', 'age_30_40', 'age_40_50', \n",
    "              'age_50_60', 'age_60_70', 'age_70_80', 'age_80_plus']"
   ]
  },
  {
   "cell_type": "code",
   "execution_count": 5,
   "metadata": {},
   "outputs": [],
   "source": [
    "parameters = {\n",
    "    # general simulation parameters\n",
    "    \"time\": TIME,\n",
    "    \"number_of_agents\": 1000,\n",
    "    \"monte_carlo_runs\": 1,\n",
    "    \"data_output\": 'csv', # 'csv' or 'network', or 'False'\n",
    "    # specific simulation parameters\n",
    "    \"share_inital_agents_infected\": 0.01, # percentage of agents infected randomly at the start of the simulation\n",
    "    \"exposed_days\": 4, # average number of days without symptoms and being able to infect others\n",
    "    \"asymptom_days\": 10, # average number of days agents are infected but do not have symptoms\n",
    "    \"symptom_days\": 10,# average number of days agents have mild symptoms\n",
    "    \"critical_days\": 8, # average number of days agents are in critical condition\n",
    "    \"health_system_capacity\": 0.0021, # relative (in terms of population) capacity of the hospitals\n",
    "    \"no_hospital_multiplier\": 1.79, # the increase in probability if a critical agent cannot go to the hospital SOURCE: Zhou et al. 2020\n",
    "    \"travel_sample_size\": 0.01, # amount of agents that an agent might choose to travel to\n",
    "    \"foreign_infection_days\": [x for x in range(0, 19)], # days at which 1 agent will be infected every day from abroad \n",
    "    # agent parameters\n",
    "    \"probability_transmission\": 0.30, # should be estimated to replicate realistic R0 number.\n",
    "    \"probability_to_travel\": 0.1, # should be estimated to replicate travel data \n",
    "    \"probability_symptomatic\": 0.75, # determines whether an agent will become asymptomatic or asymptomatic spreader\n",
    "    \"probability_critical\": {key:value for key, value in zip(age_groups, [0.001, 0.003, 0.012, 0.032, 0.049, 0.102, 0.166, 0.244, 0.273])}, # probability that an agent enters a critical stage of the disease SOURCE: Verity et al.\n",
    "    \"probability_to_die\": {key:value for key, value in zip(age_groups, [0.005, 0.021, 0.053, 0.126, 0.221, 0.303, 0.565, 0.653, 0.765])}, # probability to die per age group in critical stage SOURCE: Verity et al.\n",
    "    \"probability_susceptible\": 0.000, # probability that the agent will again be susceptible after having recovered\n",
    "    # Experiment parameter\n",
    "    \"lockdown_days\" : [0 for x in range(0, TIME)], # in the baseline this is 0, 5 march was the first reported case, 27 march was the start of the lockdown 35 days\n",
    "    # (1) physical distancing measures such as increased hygiëne & face mask adoption \n",
    "    \"physical_distancing_multiplier\": 0.27, # Jarvis et al. 2020,\n",
    "    # (2) reducing travel e.g. by reducing it for work, school or all\n",
    "    #\"travel_restrictions_multiplier\": 1.0 - ((0.85 + 0.62) / 2), # need estimate for this based on apple travel data reduction of 85% google work of -62% for Western Cape\n",
    "    \"travel_restrictions_multiplier\": {key:value for key, value in zip(age_groups, \n",
    "                                                                       [1.0, 1.0, 1.0, 1.0, 1.0, 1.0, 1.0, 1.0, 1.0])},\n",
    "    #'reduced_travel_groups': age_groups,\n",
    "    # (3) reducing close contacts \n",
    "    \"visiting_close_contacts_multiplier\": 0.8, # depending on how strict the lockdown is at keeping you put.\n",
    "    # (4) Testing and general awareness\n",
    "    'likelihood_awareness': 0.2, # this will be increased through track & trace and coviid\n",
    "    'self_isolation_multiplier': 0.4, # determines the percentage of connections cut thanks to self-isoluation can go up with coviid\n",
    "    'aware_status': ['i2'], # i1 can be added if there is large scale testing \n",
    "    # (5) limiting mass contact e.g. forbidding large events\n",
    "    \"gathering_max_contacts\": 4,\n",
    "    # specific experiment \n",
    "    \"informality_dummy\": 0.0, # setting this parameter at 0 will mean the lockdown is equally effective anywhere, alternative = 1\n",
    "    #\"at_risk_groups\": age_groups # list all age groups for baseline\n",
    "}"
   ]
  },
  {
   "cell_type": "code",
   "execution_count": 6,
   "metadata": {},
   "outputs": [],
   "source": [
    "districts_data = [[1, {'Population': parameters['number_of_agents'],\n",
    "                                                 'Density': 1.0,\n",
    "                                                 'lon': 1.0,\n",
    "                                                 'lat': 1.0,\n",
    "                                                 'Informal_residential': 0.0,\n",
    "                                                 'Cases_With_Subdistricts': 1.0,\n",
    "                                                }]]"
   ]
  },
  {
   "cell_type": "code",
   "execution_count": 7,
   "metadata": {},
   "outputs": [],
   "source": [
    "distribution =  [0.112314, 0.118867, 0.145951, 0.145413, 0.151773, 0.139329, 0.099140, 0.058729, 0.028484]"
   ]
  },
  {
   "cell_type": "markdown",
   "metadata": {},
   "source": [
    "Age distribution per district only has one district and accompanying distribution. "
   ]
  },
  {
   "cell_type": "code",
   "execution_count": 8,
   "metadata": {},
   "outputs": [],
   "source": [
    "age_distribution_per_district = {1: pd.Series(distribution, index=age_groups)}"
   ]
  },
  {
   "cell_type": "markdown",
   "metadata": {},
   "source": [
    "The distance matrix is empty in this version of the model since there is only one district. "
   ]
  },
  {
   "cell_type": "code",
   "execution_count": 9,
   "metadata": {},
   "outputs": [],
   "source": [
    "distance_matrix = {districts_data[0][0]: [0.0]}\n",
    "distance_matrix = pd.DataFrame(distance_matrix).transpose()\n",
    "distance_matrix.columns = [districts_data[0][0]]"
   ]
  },
  {
   "cell_type": "code",
   "execution_count": 10,
   "metadata": {},
   "outputs": [],
   "source": [
    "data_folder = 'measurement/simple/'\n",
    "\n",
    "if not os.path.exists('{}seed{}'.format(data_folder, 0)):\n",
    "    os.makedirs('{}seed{}'.format(data_folder, 0))"
   ]
  },
  {
   "cell_type": "markdown",
   "metadata": {},
   "source": [
    "# Interactive simulation"
   ]
  },
  {
   "cell_type": "code",
   "execution_count": 11,
   "metadata": {},
   "outputs": [],
   "source": [
    "# @interact\n",
    "# def simulate_model(transmission_probability=(0.0, 0.1, 0.05), \n",
    "#                    lockdown=['phase5', 'phase4', 'phase3', 'phase2', 'phase1']):\n",
    "#     parameters['probability_transmission'] = transmission_probability\n",
    "#     parameters['lockdown_days'] = [0 for x in range(0, 46)]\n",
    "#     lockdown_effect = {'phase5': 0.27, 'phase4': 0.30, 'phase3': 0.40, 'phase2': 0.50, 'phase1': 0.66}\n",
    "#     print('assumed % of interactions', lockdown_effect)\n",
    "#     print()\n",
    "#     parameters[\"lockdown_infection_multiplier\"] = lockdown_effect[lockdown]\n",
    "    \n",
    "#     #acti_effect_lockdown = {'phase5': -0.8, 'phase4': -0.7, 'phase3': -0.6, 'phase2': -0.5, 'phase1': -0.4}\n",
    "#     # simulate baseline\n",
    "    \n",
    "#     environment = Environment(0, parameters, districts_data, age_distribution_per_district, distance_matrix)\n",
    "#     environment = runner(environment, 0, data_folder=data_folder, data_output=parameters[\"data_output\"])\n",
    "    \n",
    "#     for idx, network in enumerate(environment.infection_states):\n",
    "#         for i, node in enumerate(network.nodes):\n",
    "#             network.nodes[i]['agent'] = network.nodes[i]['agent'].status\n",
    "            \n",
    "#     susceptible_ot = []\n",
    "#     infected_1_ot = []\n",
    "#     infected_2_ot = []\n",
    "#     critical_ot = []\n",
    "#     dead_ot = []\n",
    "#     recovered_ot = []\n",
    "\n",
    "#     for t in range(parameters['time']):\n",
    "#         network = environment.infection_states[t]\n",
    "#         susceptible = 0\n",
    "#         infected_1 = 0\n",
    "#         infected_2 = 0\n",
    "#         critical = 0\n",
    "#         dead = 0\n",
    "#         recovered = 0\n",
    "#         for idx, node in enumerate(network):\n",
    "#             if network.nodes[idx]['agent'] == 's':\n",
    "#                 susceptible += 1\n",
    "#             elif network.nodes[idx]['agent'] == 'i1':\n",
    "#                 infected_1 += 1\n",
    "#             elif network.nodes[idx]['agent'] == 'i2':\n",
    "#                 infected_2 += 1\n",
    "#             elif network.nodes[idx]['agent'] == 'c':\n",
    "#                 critical += 1\n",
    "#             elif network.nodes[idx]['agent'] == 'd':\n",
    "#                 dead += 1\n",
    "#             elif network.nodes[idx]['agent'] == 'r':\n",
    "#                 recovered +=1\n",
    "#             else:\n",
    "#                 print('no status?')\n",
    "\n",
    "#         susceptible_ot.append((susceptible / float(len(network))))\n",
    "#         infected_1_ot.append((infected_1 / float(len(network))))\n",
    "#         infected_2_ot.append((infected_2 / float(len(network))))\n",
    "#         critical_ot.append((critical / float(len(network))))\n",
    "#         dead_ot.append((dead / float(len(network))))\n",
    "#         recovered_ot.append((recovered / float(len(network))))\n",
    "            \n",
    "#     # simulate lockdown \n",
    "#     parameters['lockdown_days'] = [x for x in range(0, 46)]\n",
    "    \n",
    "#     environment_l = Environment(0, parameters, districts_data, age_distribution_per_district, distance_matrix)\n",
    "#     environment_l = runner(environment_l, 0, data_folder=data_folder, data_output=parameters[\"data_output\"])\n",
    "    \n",
    "#     for idx, network_l in enumerate(environment_l.infection_states):\n",
    "#         for i, node in enumerate(network_l.nodes):\n",
    "#             network_l.nodes[i]['agent'] = network_l.nodes[i]['agent'].status\n",
    "            \n",
    "#     susceptible_ot_l = []\n",
    "#     infected_1_ot_l = []\n",
    "#     infected_2_ot_l = []\n",
    "#     critical_ot_l = []\n",
    "#     dead_ot_l = []\n",
    "#     recovered_ot_l = []\n",
    "\n",
    "#     for t in range(parameters['time']):\n",
    "#         network = environment_l.infection_states[t]\n",
    "#         susceptible = 0\n",
    "#         infected_1 = 0\n",
    "#         infected_2 = 0\n",
    "#         critical = 0\n",
    "#         dead = 0\n",
    "#         recovered = 0\n",
    "#         for idx, node in enumerate(network):\n",
    "#             if network.nodes[idx]['agent'] == 's':\n",
    "#                 susceptible += 1\n",
    "#             elif network.nodes[idx]['agent'] == 'i1':\n",
    "#                 infected_1 += 1\n",
    "#             elif network.nodes[idx]['agent'] == 'i2':\n",
    "#                 infected_2 += 1\n",
    "#             elif network.nodes[idx]['agent'] == 'c':\n",
    "#                 critical += 1\n",
    "#             elif network.nodes[idx]['agent'] == 'd':\n",
    "#                 dead += 1\n",
    "#             elif network.nodes[idx]['agent'] == 'r':\n",
    "#                 recovered +=1\n",
    "#             else:\n",
    "#                 print('no status?')\n",
    "\n",
    "#         susceptible_ot_l.append((susceptible / float(len(network))))\n",
    "#         infected_1_ot_l.append((infected_1 / float(len(network))))\n",
    "#         infected_2_ot_l.append((infected_2 / float(len(network))))\n",
    "#         critical_ot_l.append((critical / float(len(network))))\n",
    "#         dead_ot_l.append((dead / float(len(network))))\n",
    "#         recovered_ot_l.append((recovered / float(len(network))))\n",
    "    \n",
    "    \n",
    "#     # plot figure\n",
    "    \n",
    "#     fig, (ax1, ax2) = plt.subplots(1, 2, figsize=(12,6))\n",
    "\n",
    "#     x = [x for x in range(parameters['time'])]\n",
    "\n",
    "#     labels = ['critical', 'infected-2', 'infected-1', 'recovered', 'susceptible', 'dead']\n",
    "\n",
    "#     y = np.vstack([critical_ot, infected_2_ot, infected_1_ot, recovered_ot, susceptible_ot, dead_ot])\n",
    "\n",
    "#     ax1.axhline(parameters['health_system_capacity'], color='black')\n",
    "\n",
    "#     pal = [\"#f9b4ad\", \"#1b81c2\", \"#91b7d1\", \"#b7f0a5\", \"#e0e4ec\",\"#000000\"]\n",
    "\n",
    "#     ax1.stackplot(x, y, colors= pal, labels=labels)\n",
    "#     ax1.legend(loc='best', fontsize='14', frameon=True)\n",
    "#     ax1.set_ylabel('Cape Town population', fontsize='14')\n",
    "    \n",
    "#     y2 = np.vstack([critical_ot_l, infected_2_ot_l, infected_1_ot_l, recovered_ot_l, susceptible_ot_l, dead_ot_l])\n",
    "#     ax2.stackplot(x, y2, colors= pal, labels=labels)\n",
    "    \n",
    "#     for ax in [ax1, ax2]:\n",
    "#         ax1.set_xlabel('Days', fontsize='14')\n",
    "        \n",
    "#     columns = ['total dead', 'peak critical', 'total recovered']\n",
    "#     experiment_summary = {'1 baseline': [dead_ot[-1], max(critical_ot), recovered_ot[-1]],\n",
    "#                       '1 (relative)': [100, 100, 100],\n",
    "#                       '2 {}'.format(lockdown): [dead_ot_l[-1], max(critical_ot_l), recovered_ot_l[-1]],\n",
    "#                       '2 (relative)': [dead_ot_l[-1] / dead_ot[-1], max(critical_ot_l) / max(critical_ot), recovered_ot_l[-1] / recovered_ot[-1]]\n",
    "#                      }\n",
    "#     experiment_summary = pd.DataFrame(experiment_summary).transpose()\n",
    "#     experiment_summary.columns = columns\n",
    "    \n",
    "#     print(experiment_summary.round(2))\n"
   ]
  },
  {
   "cell_type": "markdown",
   "metadata": {},
   "source": [
    "# Simulation"
   ]
  },
  {
   "cell_type": "code",
   "execution_count": 12,
   "metadata": {},
   "outputs": [
    {
     "name": "stdout",
     "output_type": "stream",
     "text": [
      "BA edges =  1996\n",
      "NG edges =  1996\n"
     ]
    }
   ],
   "source": [
    "data_folder = 'measurement/simple/'\n",
    "\n",
    "if not os.path.exists('{}seed{}'.format(data_folder, 0)):\n",
    "    os.makedirs('{}seed{}'.format(data_folder, 0))\n",
    "    \n",
    "environment = Environment(0, parameters, districts_data, age_distribution_per_district, distance_matrix)\n",
    "environment2 = EnvironmentMeanField(0, parameters, districts_data, age_distribution_per_district, distance_matrix)\n",
    "#environment = runner(environment, 0, data_folder=data_folder)"
   ]
  },
  {
   "cell_type": "markdown",
   "metadata": {},
   "source": [
    "## Properties of network\n",
    "\n",
    "Density"
   ]
  },
  {
   "cell_type": "code",
   "execution_count": 13,
   "metadata": {},
   "outputs": [
    {
     "name": "stdout",
     "output_type": "stream",
     "text": [
      "BA 1000 agent Network density: 0.003995995995995996\n",
      "R 1000 agent Network density: 0.003995995995995996\n"
     ]
    }
   ],
   "source": [
    "print(\"BA {} agent Network density:\".format(parameters['number_of_agents']), nx.density(environment.network))\n",
    "print(\"R {} agent Network density:\".format(parameters['number_of_agents']), nx.density(environment2.network))"
   ]
  },
  {
   "cell_type": "code",
   "execution_count": 14,
   "metadata": {},
   "outputs": [
    {
     "name": "stdout",
     "output_type": "stream",
     "text": [
      "BA 1000 agent Network density: 0.003995995995995996\n",
      "R 1000 agent Network density: 0.003995995995995996\n"
     ]
    }
   ],
   "source": [
    "print(\"BA {} agent Network density:\".format(parameters['number_of_agents']), nx.density(environment.network))\n",
    "print(\"R {} agent Network density:\".format(parameters['number_of_agents']), nx.density(environment2.network))"
   ]
  },
  {
   "cell_type": "markdown",
   "metadata": {},
   "source": [
    "Diameter (which is the longest of all shortest paths)"
   ]
  },
  {
   "cell_type": "code",
   "execution_count": 15,
   "metadata": {},
   "outputs": [
    {
     "name": "stdout",
     "output_type": "stream",
     "text": [
      "BA 1000 agent Network diameter: 7\n"
     ]
    },
    {
     "ename": "NetworkXError",
     "evalue": "Found infinite path length because the graph is not connected",
     "output_type": "error",
     "traceback": [
      "\u001b[1;31m---------------------------------------------------------------------------\u001b[0m",
      "\u001b[1;31mNetworkXError\u001b[0m                             Traceback (most recent call last)",
      "\u001b[1;32m<ipython-input-15-f21bd847b339>\u001b[0m in \u001b[0;36m<module>\u001b[1;34m\u001b[0m\n\u001b[0;32m      1\u001b[0m \u001b[0mprint\u001b[0m\u001b[1;33m(\u001b[0m\u001b[1;34m\"BA {} agent Network diameter:\"\u001b[0m\u001b[1;33m.\u001b[0m\u001b[0mformat\u001b[0m\u001b[1;33m(\u001b[0m\u001b[0mparameters\u001b[0m\u001b[1;33m[\u001b[0m\u001b[1;34m'number_of_agents'\u001b[0m\u001b[1;33m]\u001b[0m\u001b[1;33m)\u001b[0m\u001b[1;33m,\u001b[0m \u001b[0mnx\u001b[0m\u001b[1;33m.\u001b[0m\u001b[0mdiameter\u001b[0m\u001b[1;33m(\u001b[0m\u001b[0menvironment\u001b[0m\u001b[1;33m.\u001b[0m\u001b[0mnetwork\u001b[0m\u001b[1;33m)\u001b[0m\u001b[1;33m)\u001b[0m\u001b[1;33m\u001b[0m\u001b[1;33m\u001b[0m\u001b[0m\n\u001b[1;32m----> 2\u001b[1;33m \u001b[0mprint\u001b[0m\u001b[1;33m(\u001b[0m\u001b[1;34m\"R {} agent Network diameter:\"\u001b[0m\u001b[1;33m.\u001b[0m\u001b[0mformat\u001b[0m\u001b[1;33m(\u001b[0m\u001b[0mparameters\u001b[0m\u001b[1;33m[\u001b[0m\u001b[1;34m'number_of_agents'\u001b[0m\u001b[1;33m]\u001b[0m\u001b[1;33m)\u001b[0m\u001b[1;33m,\u001b[0m \u001b[0mnx\u001b[0m\u001b[1;33m.\u001b[0m\u001b[0mdiameter\u001b[0m\u001b[1;33m(\u001b[0m\u001b[0menvironment2\u001b[0m\u001b[1;33m.\u001b[0m\u001b[0mnetwork\u001b[0m\u001b[1;33m)\u001b[0m\u001b[1;33m)\u001b[0m\u001b[1;33m\u001b[0m\u001b[1;33m\u001b[0m\u001b[0m\n\u001b[0m",
      "\u001b[1;32mc:\\users\\joeri\\appdata\\local\\programs\\python\\python37\\lib\\site-packages\\networkx\\algorithms\\distance_measures.py\u001b[0m in \u001b[0;36mdiameter\u001b[1;34m(G, e, usebounds)\u001b[0m\n\u001b[0;32m    279\u001b[0m         \u001b[1;32mreturn\u001b[0m \u001b[0mextrema_bounding\u001b[0m\u001b[1;33m(\u001b[0m\u001b[0mG\u001b[0m\u001b[1;33m,\u001b[0m \u001b[0mcompute\u001b[0m\u001b[1;33m=\u001b[0m\u001b[1;34m\"diameter\"\u001b[0m\u001b[1;33m)\u001b[0m\u001b[1;33m\u001b[0m\u001b[1;33m\u001b[0m\u001b[0m\n\u001b[0;32m    280\u001b[0m     \u001b[1;32mif\u001b[0m \u001b[0me\u001b[0m \u001b[1;32mis\u001b[0m \u001b[1;32mNone\u001b[0m\u001b[1;33m:\u001b[0m\u001b[1;33m\u001b[0m\u001b[1;33m\u001b[0m\u001b[0m\n\u001b[1;32m--> 281\u001b[1;33m         \u001b[0me\u001b[0m \u001b[1;33m=\u001b[0m \u001b[0meccentricity\u001b[0m\u001b[1;33m(\u001b[0m\u001b[0mG\u001b[0m\u001b[1;33m)\u001b[0m\u001b[1;33m\u001b[0m\u001b[1;33m\u001b[0m\u001b[0m\n\u001b[0m\u001b[0;32m    282\u001b[0m     \u001b[1;32mreturn\u001b[0m \u001b[0mmax\u001b[0m\u001b[1;33m(\u001b[0m\u001b[0me\u001b[0m\u001b[1;33m.\u001b[0m\u001b[0mvalues\u001b[0m\u001b[1;33m(\u001b[0m\u001b[1;33m)\u001b[0m\u001b[1;33m)\u001b[0m\u001b[1;33m\u001b[0m\u001b[1;33m\u001b[0m\u001b[0m\n\u001b[0;32m    283\u001b[0m \u001b[1;33m\u001b[0m\u001b[0m\n",
      "\u001b[1;32mc:\\users\\joeri\\appdata\\local\\programs\\python\\python37\\lib\\site-packages\\networkx\\algorithms\\distance_measures.py\u001b[0m in \u001b[0;36meccentricity\u001b[1;34m(G, v, sp)\u001b[0m\n\u001b[0;32m    244\u001b[0m                 msg = ('Found infinite path length because the graph is not'\n\u001b[0;32m    245\u001b[0m                        ' connected')\n\u001b[1;32m--> 246\u001b[1;33m             \u001b[1;32mraise\u001b[0m \u001b[0mnx\u001b[0m\u001b[1;33m.\u001b[0m\u001b[0mNetworkXError\u001b[0m\u001b[1;33m(\u001b[0m\u001b[0mmsg\u001b[0m\u001b[1;33m)\u001b[0m\u001b[1;33m\u001b[0m\u001b[1;33m\u001b[0m\u001b[0m\n\u001b[0m\u001b[0;32m    247\u001b[0m \u001b[1;33m\u001b[0m\u001b[0m\n\u001b[0;32m    248\u001b[0m         \u001b[0me\u001b[0m\u001b[1;33m[\u001b[0m\u001b[0mn\u001b[0m\u001b[1;33m]\u001b[0m \u001b[1;33m=\u001b[0m \u001b[0mmax\u001b[0m\u001b[1;33m(\u001b[0m\u001b[0mlength\u001b[0m\u001b[1;33m.\u001b[0m\u001b[0mvalues\u001b[0m\u001b[1;33m(\u001b[0m\u001b[1;33m)\u001b[0m\u001b[1;33m)\u001b[0m\u001b[1;33m\u001b[0m\u001b[1;33m\u001b[0m\u001b[0m\n",
      "\u001b[1;31mNetworkXError\u001b[0m: Found infinite path length because the graph is not connected"
     ]
    }
   ],
   "source": [
    "print(\"BA {} agent Network diameter:\".format(parameters['number_of_agents']), nx.diameter(environment.network))\n",
    "print(\"R {} agent Network diameter:\".format(parameters['number_of_agents']), nx.diameter(environment2.network))"
   ]
  },
  {
   "cell_type": "code",
   "execution_count": 73,
   "metadata": {},
   "outputs": [
    {
     "name": "stdout",
     "output_type": "stream",
     "text": [
      "BA 15 agent Network diameter: 4\n",
      "R 15 agent Network diameter: 3\n"
     ]
    }
   ],
   "source": [
    "print(\"BA {} agent Network diameter:\".format(parameters['number_of_agents']), nx.diameter(environment.network))\n",
    "print(\"R {} agent Network diameter:\".format(parameters['number_of_agents']), nx.diameter(environment2.network))"
   ]
  },
  {
   "cell_type": "markdown",
   "metadata": {},
   "source": [
    "Transitivity "
   ]
  },
  {
   "cell_type": "code",
   "execution_count": 16,
   "metadata": {},
   "outputs": [
    {
     "name": "stdout",
     "output_type": "stream",
     "text": [
      "BA 1000 agent Network transitivity: 0.012426862734945374\n",
      "R 1000 agent Network transitivity: 0.003435988801221685\n"
     ]
    }
   ],
   "source": [
    "print(\"BA {} agent Network transitivity:\".format(parameters['number_of_agents']), nx.transitivity(environment.network))\n",
    "print(\"R {} agent Network transitivity:\".format(parameters['number_of_agents']), nx.transitivity(environment2.network))"
   ]
  },
  {
   "cell_type": "code",
   "execution_count": 59,
   "metadata": {},
   "outputs": [
    {
     "name": "stdout",
     "output_type": "stream",
     "text": [
      "BA 1000 agent Network transitivity: 0.012426862734945374\n",
      "R 1000 agent Network transitivity: 0.0035\n"
     ]
    }
   ],
   "source": [
    "print(\"BA {} agent Network transitivity:\".format(parameters['number_of_agents']), nx.transitivity(environment.network))\n",
    "print(\"R {} agent Network transitivity:\".format(parameters['number_of_agents']), nx.transitivity(environment2.network))"
   ]
  },
  {
   "cell_type": "markdown",
   "metadata": {},
   "source": [
    "Compare how connected the nodes are:"
   ]
  },
  {
   "cell_type": "code",
   "execution_count": 17,
   "metadata": {},
   "outputs": [],
   "source": [
    "from operator import itemgetter"
   ]
  },
  {
   "cell_type": "markdown",
   "metadata": {},
   "source": [
    "### BA"
   ]
  },
  {
   "cell_type": "code",
   "execution_count": 18,
   "metadata": {},
   "outputs": [],
   "source": [
    "degree_dict = dict(environment.network.degree(environment.network.nodes()))\n",
    "nx.set_node_attributes(environment.network, degree_dict, 'degree')\n",
    "sorted_degree = sorted(degree_dict.items(), key=itemgetter(1), reverse=True)"
   ]
  },
  {
   "cell_type": "code",
   "execution_count": 19,
   "metadata": {},
   "outputs": [
    {
     "name": "stdout",
     "output_type": "stream",
     "text": [
      "Top 20 degrees of nodes BA 15 agents:\n",
      "100\n",
      "49\n",
      "39\n",
      "39\n",
      "38\n",
      "30\n",
      "30\n",
      "29\n",
      "27\n",
      "27\n",
      "26\n",
      "26\n",
      "22\n",
      "22\n",
      "21\n",
      "20\n",
      "20\n",
      "19\n",
      "19\n",
      "19\n"
     ]
    }
   ],
   "source": [
    "print(\"Top 20 degrees of nodes BA 15 agents:\")\n",
    "for d in sorted_degree[:20]:\n",
    "    print(d[1])"
   ]
  },
  {
   "cell_type": "code",
   "execution_count": 20,
   "metadata": {},
   "outputs": [
    {
     "name": "stdout",
     "output_type": "stream",
     "text": [
      "Top 20 degrees of nodes BA 1000 agents:\n",
      "100\n",
      "49\n",
      "39\n",
      "39\n",
      "38\n",
      "30\n",
      "30\n",
      "29\n",
      "27\n",
      "27\n",
      "26\n",
      "26\n",
      "22\n",
      "22\n",
      "21\n",
      "20\n",
      "20\n",
      "19\n",
      "19\n",
      "19\n"
     ]
    }
   ],
   "source": [
    "print(\"Top 20 degrees of nodes BA 1000 agents:\")\n",
    "for d in sorted_degree[:20]:\n",
    "    print(d[1])"
   ]
  },
  {
   "cell_type": "markdown",
   "metadata": {},
   "source": [
    "### Random graph"
   ]
  },
  {
   "cell_type": "code",
   "execution_count": 21,
   "metadata": {},
   "outputs": [],
   "source": [
    "degree_dict = dict(environment2.network.degree(environment2.network.nodes()))\n",
    "nx.set_node_attributes(environment2.network, degree_dict, 'degree')\n",
    "sorted_degree = sorted(degree_dict.items(), key=itemgetter(1), reverse=True)"
   ]
  },
  {
   "cell_type": "code",
   "execution_count": 93,
   "metadata": {},
   "outputs": [
    {
     "name": "stdout",
     "output_type": "stream",
     "text": [
      "Top 20 degrees of nodes:\n",
      "4\n",
      "4\n",
      "4\n",
      "4\n",
      "4\n",
      "4\n",
      "4\n",
      "4\n",
      "4\n",
      "4\n",
      "4\n",
      "4\n",
      "4\n",
      "4\n"
     ]
    }
   ],
   "source": [
    "print(\"Top 20 degrees of nodes random 15 agents:\")\n",
    "for d in sorted_degree[:20]:\n",
    "    print(d[1])"
   ]
  },
  {
   "cell_type": "code",
   "execution_count": 22,
   "metadata": {},
   "outputs": [
    {
     "name": "stdout",
     "output_type": "stream",
     "text": [
      "Top 20 degrees of nodes random 1000 agents:\n",
      "13\n",
      "11\n",
      "10\n",
      "10\n",
      "9\n",
      "9\n",
      "9\n",
      "9\n",
      "9\n",
      "9\n",
      "9\n",
      "9\n",
      "9\n",
      "9\n",
      "8\n",
      "8\n",
      "8\n",
      "8\n",
      "8\n",
      "8\n"
     ]
    }
   ],
   "source": [
    "print(\"Top 20 degrees of nodes random 1000 agents:\")\n",
    "for d in sorted_degree[:20]:\n",
    "    print(d[1])"
   ]
  },
  {
   "cell_type": "markdown",
   "metadata": {},
   "source": [
    "# Analysis"
   ]
  },
  {
   "cell_type": "code",
   "execution_count": 79,
   "metadata": {},
   "outputs": [],
   "source": [
    "for idx, network2 in enumerate(environment2.infection_states):\n",
    "    for i, node in enumerate(network2.nodes):\n",
    "        network2.nodes[i]['agent'] = network2.nodes[i]['agent'].status"
   ]
  },
  {
   "cell_type": "code",
   "execution_count": 75,
   "metadata": {},
   "outputs": [],
   "source": [
    "for idx, network in enumerate(environment.infection_states):\n",
    "    for i, node in enumerate(network.nodes):\n",
    "        network.nodes[i]['agent'] = network.nodes[i]['agent'].status"
   ]
  },
  {
   "cell_type": "code",
   "execution_count": 76,
   "metadata": {},
   "outputs": [
    {
     "data": {
      "text/plain": [
       "<networkx.classes.graph.Graph at 0x20e05cdd940>"
      ]
     },
     "execution_count": 76,
     "metadata": {},
     "output_type": "execute_result"
    }
   ],
   "source": [
    "environment.network"
   ]
  },
  {
   "cell_type": "code",
   "execution_count": 81,
   "metadata": {},
   "outputs": [],
   "source": [
    "pos2 = nx.spring_layout(environment2.network)#environment.infection_states[0])"
   ]
  },
  {
   "cell_type": "code",
   "execution_count": 77,
   "metadata": {},
   "outputs": [],
   "source": [
    "pos = nx.spring_layout(environment.network)#environment.infection_states[0])"
   ]
  },
  {
   "cell_type": "code",
   "execution_count": 84,
   "metadata": {},
   "outputs": [],
   "source": [
    "def plot_model(t):\n",
    "    network = environment2.network#environment.infection_states[t]\n",
    "    color_map = []\n",
    "    for idx, node in enumerate(network):\n",
    "        if network.nodes[idx]['agent'] == 's':\n",
    "            color_map.append('blue')\n",
    "        elif network.nodes[idx]['agent'] == 'i1':\n",
    "            color_map.append('pink')\n",
    "        elif network.nodes[idx]['agent'] == 'i2':\n",
    "            color_map.append('red')\n",
    "        elif network.nodes[idx]['agent'] == 'c':\n",
    "            color_map.append('brown')\n",
    "        elif network.nodes[idx]['agent'] == 'd':\n",
    "            color_map.append('black')\n",
    "        elif network.nodes[idx]['agent'] == 'r':\n",
    "            color_map.append('grey')\n",
    "    nx.draw(network, pos=pos, node_color=color_map, with_labels=True)"
   ]
  },
  {
   "cell_type": "code",
   "execution_count": 85,
   "metadata": {},
   "outputs": [
    {
     "data": {
      "application/vnd.jupyter.widget-view+json": {
       "model_id": "d99fe52311ee4ddfad3d754cdc9f3429",
       "version_major": 2,
       "version_minor": 0
      },
      "text/plain": [
       "interactive(children=(IntSlider(value=0, description='Time step', max=59), Output()), _dom_classes=('widget-in…"
      ]
     },
     "metadata": {},
     "output_type": "display_data"
    },
    {
     "data": {
      "text/plain": [
       "<function __main__.plot_model(t)>"
      ]
     },
     "execution_count": 85,
     "metadata": {},
     "output_type": "execute_result"
    }
   ],
   "source": [
    "time_period = wg.IntSlider(description='Time step', min=0, max=parameters['time']-1)\n",
    "wg.interact(plot_model, t=time_period)"
   ]
  },
  {
   "cell_type": "code",
   "execution_count": 78,
   "metadata": {},
   "outputs": [
    {
     "data": {
      "application/vnd.jupyter.widget-view+json": {
       "model_id": "7f30190c81ed40c6afcb2551937962e5",
       "version_major": 2,
       "version_minor": 0
      },
      "text/plain": [
       "interactive(children=(IntSlider(value=0, description='Time step', max=59), Output()), _dom_classes=('widget-in…"
      ]
     },
     "metadata": {},
     "output_type": "display_data"
    },
    {
     "data": {
      "text/plain": [
       "<function __main__.plot_model(t)>"
      ]
     },
     "execution_count": 78,
     "metadata": {},
     "output_type": "execute_result"
    }
   ],
   "source": [
    "time_period = wg.IntSlider(description='Time step', min=0, max=parameters['time']-1)\n",
    "wg.interact(plot_model, t=time_period)"
   ]
  },
  {
   "cell_type": "code",
   "execution_count": 17,
   "metadata": {},
   "outputs": [],
   "source": [
    "susceptible_ot = []\n",
    "infected_1_ot = []\n",
    "infected_2_ot = []\n",
    "critical_ot = []\n",
    "dead_ot = []\n",
    "recovered_ot = []\n",
    "\n",
    "for t in range(parameters['time']):\n",
    "    network = environment.infection_states[t]\n",
    "    susceptible = 0\n",
    "    infected_1 = 0\n",
    "    infected_2 = 0\n",
    "    critical = 0\n",
    "    dead = 0\n",
    "    recovered = 0\n",
    "    for idx, node in enumerate(network):\n",
    "        if network.nodes[idx]['agent'] == 's':\n",
    "            susceptible += 1\n",
    "        elif network.nodes[idx]['agent'] == 'i1':\n",
    "            infected_1 += 1\n",
    "        elif network.nodes[idx]['agent'] == 'i2':\n",
    "            infected_2 += 1\n",
    "        elif network.nodes[idx]['agent'] == 'c':\n",
    "            critical += 1\n",
    "        elif network.nodes[idx]['agent'] == 'd':\n",
    "            dead += 1\n",
    "        elif network.nodes[idx]['agent'] == 'r':\n",
    "            recovered +=1\n",
    "        else:\n",
    "            print('no status?')\n",
    "    \n",
    "    susceptible_ot.append((susceptible / float(len(network))))\n",
    "    infected_1_ot.append((infected_1 / float(len(network))))\n",
    "    infected_2_ot.append((infected_2 / float(len(network))))\n",
    "    critical_ot.append((critical / float(len(network))))\n",
    "    dead_ot.append((dead / float(len(network))))\n",
    "    recovered_ot.append((recovered / float(len(network))))"
   ]
  },
  {
   "cell_type": "code",
   "execution_count": 18,
   "metadata": {},
   "outputs": [
    {
     "data": {
      "text/plain": [
       "(0, 1)"
      ]
     },
     "execution_count": 18,
     "metadata": {},
     "output_type": "execute_result"
    },
    {
     "data": {
      "image/png": "[encoded data removed]",
      "text/plain": [
       "<Figure size 1008x576 with 1 Axes>"
      ]
     },
     "metadata": {},
     "output_type": "display_data"
    }
   ],
   "source": [
    "fig, ax = plt.subplots(figsize=(14,8))\n",
    "\n",
    "x = [x for x in range(parameters['time'])]\n",
    "\n",
    "labels = ['critical', 'infected-2', 'infected-1', 'recovered', 'susceptible', 'dead']\n",
    "\n",
    "y = np.vstack([critical_ot, infected_2_ot, infected_1_ot, recovered_ot, susceptible_ot, dead_ot])\n",
    "\n",
    "ax.axhline(parameters['health_system_capacity'], color='black')\n",
    "\n",
    "pal = [\"#f9b4ad\", \"#1b81c2\", \"#91b7d1\", \"#b7f0a5\", \"#e0e4ec\",\"#000000\"]\n",
    "\n",
    "ax.stackplot(x, y, colors= pal, labels=labels)\n",
    "ax.legend(loc='best', fontsize='14', frameon=True)\n",
    "ax.set_ylabel('Cape Town population', fontsize='14')\n",
    "ax.set_xlabel('Days', fontsize='14')\n",
    "\n",
    "plt.xlim([0,parameters['time']])\n",
    "plt.ylim([0, 1])\n",
    "\n",
    "#fig.savefig('measurement/the_curve.png')"
   ]
  },
  {
   "cell_type": "code",
   "execution_count": null,
   "metadata": {},
   "outputs": [],
   "source": []
  }
 ],
 "metadata": {
  "kernelspec": {
   "display_name": "Python 3",
   "language": "python",
   "name": "python3"
  },
  "language_info": {
   "codemirror_mode": {
    "name": "ipython",
    "version": 3
   },
   "file_extension": ".py",
   "mimetype": "text/x-python",
   "name": "python",
   "nbconvert_exporter": "python",
   "pygments_lexer": "ipython3",
   "version": "3.7.3"
  }
 },
 "nbformat": 4,
 "nbformat_minor": 2
}
