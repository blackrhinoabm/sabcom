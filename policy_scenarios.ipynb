{
 "cells": [
  {
   "cell_type": "code",
   "execution_count": 1,
   "metadata": {},
   "outputs": [],
   "source": [
    "import numpy as np\n",
    "import pandas as pd\n",
    "import matplotlib.pyplot as plt\n",
    "from matplotlib import style\n",
    "import time\n",
    "import ipywidgets as wg\n",
    "from ipywidgets import interact\n",
    "from IPython.display import display\n",
    "import networkx as nx\n",
    "from src.environment import Environment\n",
    "from src.runner import runner\n",
    "from src.helpers import confidence_interval\n",
    "from sklearn import preprocessing\n",
    "import random\n",
    "import json\n",
    "import os"
   ]
  },
  {
   "cell_type": "code",
   "execution_count": 2,
   "metadata": {},
   "outputs": [],
   "source": [
    "style.use('seaborn-white')"
   ]
  },
  {
   "cell_type": "markdown",
   "metadata": {},
   "source": [
    "# Introduction\n",
    "\n",
    "In this notebook, we simulate three different scenarios: \n",
    "\n",
    "1. No intervention\n",
    "2. Lockdown\n",
    "3. Lockdown with slums"
   ]
  },
  {
   "cell_type": "markdown",
   "metadata": {},
   "source": [
    "### 1 load general the parameters"
   ]
  },
  {
   "cell_type": "code",
   "execution_count": 3,
   "metadata": {},
   "outputs": [],
   "source": [
    "with open('parameters/parameters.json') as json_file:\n",
    "    parameters = json.load(json_file)\n",
    "\n",
    "parameters['data_output'] = 'network'"
   ]
  },
  {
   "cell_type": "markdown",
   "metadata": {},
   "source": [
    "## 2 load district data\n",
    "### 2.1 general neighbourhood data"
   ]
  },
  {
   "cell_type": "code",
   "execution_count": 4,
   "metadata": {},
   "outputs": [],
   "source": [
    "with open('parameters/district_data.json') as json_file:\n",
    "    neighbourhood_data = json.load(json_file)"
   ]
  },
  {
   "cell_type": "markdown",
   "metadata": {},
   "source": [
    "### 2.2 age data"
   ]
  },
  {
   "cell_type": "code",
   "execution_count": 5,
   "metadata": {},
   "outputs": [],
   "source": [
    "age_distribution = pd.read_csv('input_data/age_dist.csv', sep=';', index_col=0)\n",
    "age_distribution_per_ward = dict(age_distribution.transpose())"
   ]
  },
  {
   "cell_type": "markdown",
   "metadata": {},
   "source": [
    "### 2.3 household size distribution"
   ]
  },
  {
   "cell_type": "code",
   "execution_count": 6,
   "metadata": {},
   "outputs": [],
   "source": [
    "HH_size_distribution = pd.read_excel('input_data/HH_Size_Distribution.xlsx', index_col=0)"
   ]
  },
  {
   "cell_type": "markdown",
   "metadata": {},
   "source": [
    "## 3 load travel matrix "
   ]
  },
  {
   "cell_type": "code",
   "execution_count": 7,
   "metadata": {},
   "outputs": [],
   "source": [
    "travel_matrix = pd.read_csv('input_data/Travel_Probability_Matrix.csv', index_col=0)"
   ]
  },
  {
   "cell_type": "markdown",
   "metadata": {},
   "source": [
    "## 4 load contact matrices\n",
    "### 4.1 load household contact matrix"
   ]
  },
  {
   "cell_type": "code",
   "execution_count": 8,
   "metadata": {},
   "outputs": [],
   "source": [
    "age_groups = ['age_0_10', 'age_10_20', 'age_20_30', 'age_30_40', 'age_40_50',\n",
    "              'age_50_60', 'age_60_70', 'age_70_80', 'age_80_plus']\n",
    "\n",
    "hh_contact_matrix = pd.read_excel('input_data/ContactMatrices_10year.xlsx', sheet_name=\"Home\", index_col=0)\n",
    "hh_contact_matrix['80plus'] = hh_contact_matrix['70_80']\n",
    "row = hh_contact_matrix.xs('70_80')\n",
    "row.name = '80plus'\n",
    "hh_contact_matrix = hh_contact_matrix.append(row)\n",
    "hh_contact_matrix.columns = age_groups\n",
    "hh_contact_matrix.index = age_groups"
   ]
  },
  {
   "cell_type": "markdown",
   "metadata": {},
   "source": [
    "### 4.2 load other contact matrix"
   ]
  },
  {
   "cell_type": "code",
   "execution_count": 9,
   "metadata": {},
   "outputs": [],
   "source": [
    "other_contact_matrix = pd.read_excel('input_data/ContactMatrices_10year.xlsx', sheet_name=\"OutsideOfHome\", index_col=0)\n",
    "other_contact_matrix['80plus'] = other_contact_matrix['70_80']\n",
    "row = other_contact_matrix.xs('70_80')\n",
    "row.name = '80plus'\n",
    "other_contact_matrix = other_contact_matrix.append(row)\n",
    "other_contact_matrix.columns = age_groups\n",
    "other_contact_matrix.index = age_groups"
   ]
  },
  {
   "cell_type": "markdown",
   "metadata": {},
   "source": [
    "With all the nescessary input data loaded, the first scenario can now be explored. "
   ]
  },
  {
   "cell_type": "code",
   "execution_count": 10,
   "metadata": {},
   "outputs": [],
   "source": [
    "parameters['probability_transmission'] = 0.04\n",
    "parameters['monte_carlo_runs'] = 5\n",
    "parameters['foreign_infection_days'] = [x for x in range(30)]"
   ]
  },
  {
   "cell_type": "markdown",
   "metadata": {},
   "source": [
    "# Scenario 1 No-intervention Baseline\n",
    "\n",
    "In this scenario, the policy maker is completely idle and COvid-19 will run its course through the city of Cape Town without interruption. "
   ]
  },
  {
   "cell_type": "code",
   "execution_count": 11,
   "metadata": {},
   "outputs": [],
   "source": [
    "parameters[\"lockdown_days\"] = [None for x in range(len(parameters['lockdown_days']))]"
   ]
  },
  {
   "cell_type": "code",
   "execution_count": 12,
   "metadata": {},
   "outputs": [],
   "source": [
    "baseline_total = []\n",
    "data_folder = 'measurement/baseline/'\n",
    "baseline_summary_stats = []\n",
    "for seed in range(parameters['monte_carlo_runs']):\n",
    "    # make new folder for seed, if it does not exist\n",
    "    if not os.path.exists('{}seed{}'.format(data_folder, seed)):\n",
    "        os.makedirs('{}seed{}'.format(data_folder, seed))\n",
    "\n",
    "    # initialization\n",
    "    environment = Environment(seed, parameters, neighbourhood_data, age_distribution_per_ward,\n",
    "                              hh_contact_matrix, other_contact_matrix, HH_size_distribution, travel_matrix)\n",
    "\n",
    "    # running the simulation\n",
    "    environment = runner(environment, seed, data_output=parameters[\"data_output\"], data_folder=data_folder,\n",
    "                         calculate_r_naught=False)\n",
    "    \n",
    "    if parameters['data_output'] == 'network':\n",
    "        # saving the network data\n",
    "        for idx, network in enumerate(environment.infection_states):\n",
    "            for i, node in enumerate(network.nodes):\n",
    "                network.nodes[i]['agent'] = network.nodes[i]['agent'].status\n",
    "\n",
    "        susceptible_ot = []\n",
    "        infected_1_ot = []\n",
    "        infected_2_ot = []\n",
    "        critical_ot = []\n",
    "        dead_ot = []\n",
    "        recovered_ot = []\n",
    "        exposed_ot = []\n",
    "\n",
    "        for t in range(parameters['time']):\n",
    "            network = environment.infection_states[t]\n",
    "            susceptible = 0\n",
    "            infected_1 = 0\n",
    "            infected_2 = 0\n",
    "            critical = 0\n",
    "            dead = 0\n",
    "            recovered = 0\n",
    "            exposed = 0\n",
    "            for idx, node in enumerate(network):\n",
    "                if network.nodes[idx]['agent'] == 's':\n",
    "                    susceptible += 1\n",
    "                elif network.nodes[idx]['agent'] == 'e':\n",
    "                    exposed += 1\n",
    "                elif network.nodes[idx]['agent'] == 'i1':\n",
    "                    infected_1 += 1\n",
    "                elif network.nodes[idx]['agent'] == 'i2':\n",
    "                    infected_2 += 1\n",
    "                elif network.nodes[idx]['agent'] == 'c':\n",
    "                    critical += 1\n",
    "                elif network.nodes[idx]['agent'] == 'd':\n",
    "                    dead += 1\n",
    "                elif network.nodes[idx]['agent'] == 'r':\n",
    "                    recovered +=1\n",
    "                else:\n",
    "                    print('no status?')\n",
    "\n",
    "            susceptible_ot.append((susceptible / float(len(network))))\n",
    "            infected_1_ot.append((infected_1 / float(len(network))))\n",
    "            infected_2_ot.append((infected_2 / float(len(network))))\n",
    "            critical_ot.append((critical / float(len(network))))\n",
    "            dead_ot.append((dead / float(len(network))))\n",
    "            recovered_ot.append((recovered / float(len(network))))\n",
    "            exposed_ot.append((exposed / float(len(network))))\n",
    "\n",
    "        # save output data\n",
    "        baseline_total.append(exposed_ot)\n",
    "        baseline_summary_stats.append({'total dead': dead_ot[-1], 'peak critical': max(critical_ot), 'total recovered':recovered_ot[-1]})\n",
    "    elif parameters[\"data_output\"] == 'csv_light':\n",
    "        pd.DataFrame(environment.infection_quantities).to_csv('{}seed{}/quantities_state_time.csv'.format(data_folder,\n",
    "                                                                                                          seed))"
   ]
  },
  {
   "cell_type": "markdown",
   "metadata": {},
   "source": [
    "Calculate average and confidence intervals for total dead, peak critical, and total recovered + dead. "
   ]
  },
  {
   "cell_type": "code",
   "execution_count": 13,
   "metadata": {},
   "outputs": [
    {
     "name": "stdout",
     "output_type": "stream",
     "text": [
      "                 average     lower     upper\n",
      "total dead      0.014889  0.012906  0.016872\n",
      "peak critical   0.007243  0.006012  0.008475\n",
      "total infected  0.942455  0.932158  0.952751\n"
     ]
    }
   ],
   "source": [
    "if parameters['data_output'] == 'network':\n",
    "    total_dead_baseline = [baseline_summary_stats[x]['total dead'] for x in range(len(baseline_summary_stats))]\n",
    "    peak_critical_baseline = [baseline_summary_stats[x]['peak critical'] for x in range(len(baseline_summary_stats))]\n",
    "    total_infected_baseline = [baseline_summary_stats[x]['total dead'] + baseline_summary_stats[x]['total recovered'] for x in range(len(baseline_summary_stats))]\n",
    "\n",
    "    # av lower upper\n",
    "    simulation_summary = pd.DataFrame({\n",
    "        'total dead': [np.mean(total_dead_baseline), confidence_interval(total_dead_baseline, np.mean(total_dead_baseline))[0], confidence_interval(total_dead_baseline, np.mean(total_dead_baseline))[1]],\n",
    "        'peak critical': [np.mean(peak_critical_baseline), confidence_interval(peak_critical_baseline, np.mean(peak_critical_baseline))[0], confidence_interval(peak_critical_baseline, np.mean(peak_critical_baseline))[1]],\n",
    "        'total infected': [np.mean(total_infected_baseline), confidence_interval(total_infected_baseline, np.mean(total_infected_baseline))[0], confidence_interval(total_infected_baseline, np.mean(total_infected_baseline))[1]]\n",
    "    }).transpose()\n",
    "    simulation_summary.columns = ['average', 'lower', 'upper']\n",
    "    print(simulation_summary)"
   ]
  },
  {
   "cell_type": "markdown",
   "metadata": {},
   "source": [
    "# Scenario 2 Lockdown\n",
    "\n",
    "In this scenario, the policy maker implements a lockdown that has been inspired by the South African lockdown. Therefore, we set the lockdown parameters as follows."
   ]
  },
  {
   "cell_type": "markdown",
   "metadata": {},
   "source": [
    "Next, we make sure that the lockdown is active during the entirity of the simulation. And that it is equally effective in all districts. "
   ]
  },
  {
   "cell_type": "code",
   "execution_count": 14,
   "metadata": {},
   "outputs": [],
   "source": [
    "parameters['informality_dummy'] = 0.0\n",
    "parameters[\"lockdown_days\"] = [x for x in range(30, len(parameters['lockdown_days']))]"
   ]
  },
  {
   "cell_type": "code",
   "execution_count": 15,
   "metadata": {},
   "outputs": [],
   "source": [
    "data_folder = 'measurement/lockdown/'\n",
    "lockdown_summary_stats = []\n",
    "lockdown_total = []\n",
    "for seed in range(parameters['monte_carlo_runs']):\n",
    "    # make new folder for seed, if it does not exist\n",
    "    if not os.path.exists('{}seed{}'.format(data_folder, seed)):\n",
    "        os.makedirs('{}seed{}'.format(data_folder, seed))\n",
    "\n",
    "    # initialization\n",
    "    environment = Environment(seed, parameters, neighbourhood_data, age_distribution_per_ward,\n",
    "                              hh_contact_matrix, other_contact_matrix, HH_size_distribution, travel_matrix)\n",
    "\n",
    "    # running the simulation\n",
    "    environment = runner(environment, seed, data_output=parameters[\"data_output\"], data_folder=data_folder,\n",
    "                         calculate_r_naught=False)\n",
    "    \n",
    "    # saving the network data\n",
    "    if parameters['data_output'] == 'network':\n",
    "        for idx, network in enumerate(environment.infection_states):\n",
    "            for i, node in enumerate(network.nodes):\n",
    "                network.nodes[i]['agent'] = network.nodes[i]['agent'].status\n",
    "\n",
    "        susceptible_ot_l = []\n",
    "        infected_1_ot_l = []\n",
    "        infected_2_ot_l = []\n",
    "        critical_ot_l = []\n",
    "        dead_ot_l = []\n",
    "        recovered_ot_l = []\n",
    "        exposed_ot_l = []\n",
    "\n",
    "        for t in range(parameters['time']):\n",
    "            network = environment.infection_states[t]\n",
    "            susceptible = 0\n",
    "            infected_1 = 0\n",
    "            infected_2 = 0\n",
    "            critical = 0\n",
    "            dead = 0\n",
    "            recovered = 0\n",
    "            exposed = 0\n",
    "            for idx, node in enumerate(network):\n",
    "                if network.nodes[idx]['agent'] == 's':\n",
    "                    susceptible += 1\n",
    "                elif network.nodes[idx]['agent'] == 'e':\n",
    "                    exposed += 1\n",
    "                elif network.nodes[idx]['agent'] == 'i1':\n",
    "                    infected_1 += 1\n",
    "                elif network.nodes[idx]['agent'] == 'i2':\n",
    "                    infected_2 += 1\n",
    "                elif network.nodes[idx]['agent'] == 'c':\n",
    "                    critical += 1\n",
    "                elif network.nodes[idx]['agent'] == 'd':\n",
    "                    dead += 1\n",
    "                elif network.nodes[idx]['agent'] == 'r':\n",
    "                    recovered +=1\n",
    "                else:\n",
    "                    print('no status?')\n",
    "\n",
    "            susceptible_ot_l.append((susceptible / float(len(network))))\n",
    "            infected_1_ot_l.append((infected_1 / float(len(network))))\n",
    "            infected_2_ot_l.append((infected_2 / float(len(network))))\n",
    "            critical_ot_l.append((critical / float(len(network))))\n",
    "            dead_ot_l.append((dead / float(len(network))))\n",
    "            recovered_ot_l.append((recovered / float(len(network))))\n",
    "            exposed_ot_l.append((exposed / float(len(network))))\n",
    "\n",
    "        # save output data\n",
    "        lockdown_total.append(exposed_ot_l)\n",
    "        lockdown_summary_stats.append({'total dead': dead_ot_l[-1], 'peak critical': max(critical_ot_l), 'total recovered':recovered_ot_l[-1]})\n",
    "    elif parameters[\"data_output\"] == 'csv_light':\n",
    "        pd.DataFrame(environment.infection_quantities).to_csv('{}seed{}/quantities_state_time.csv'.format(data_folder,\n",
    "                                                                                                          seed))"
   ]
  },
  {
   "cell_type": "markdown",
   "metadata": {},
   "source": [
    "Calculate average and confidence intervals for total dead, peak critical, and total recovered + dead."
   ]
  },
  {
   "cell_type": "code",
   "execution_count": 16,
   "metadata": {},
   "outputs": [
    {
     "name": "stdout",
     "output_type": "stream",
     "text": [
      "                 average     lower     upper\n",
      "total dead      0.006237  0.005155  0.007320\n",
      "peak critical   0.005231  0.004860  0.005603\n",
      "total infected  0.382294  0.341750  0.422838\n"
     ]
    }
   ],
   "source": [
    "if parameters['data_output'] == 'network':\n",
    "    total_dead_lockdown = [lockdown_summary_stats[x]['total dead'] for x in range(len(lockdown_summary_stats))]\n",
    "    peak_critical_lockdown = [lockdown_summary_stats[x]['peak critical'] for x in range(len(lockdown_summary_stats))]\n",
    "    total_infected_lockdown = [lockdown_summary_stats[x]['total dead'] + lockdown_summary_stats[x]['total recovered'] for x in range(len(lockdown_summary_stats))]\n",
    "\n",
    "    # av lower upper\n",
    "    simulation_summary_l = pd.DataFrame({\n",
    "        'total dead': [np.mean(total_dead_lockdown), confidence_interval(total_dead_lockdown, np.mean(total_dead_lockdown))[0], confidence_interval(total_dead_lockdown, np.mean(total_dead_lockdown))[1]],\n",
    "        'peak critical': [np.mean(peak_critical_lockdown), confidence_interval(peak_critical_lockdown, np.mean(peak_critical_lockdown))[0], confidence_interval(peak_critical_lockdown, np.mean(peak_critical_lockdown))[1]],\n",
    "        'total infected': [np.mean(total_infected_lockdown), confidence_interval(total_infected_lockdown, np.mean(total_infected_lockdown))[0], confidence_interval(total_infected_lockdown, np.mean(total_infected_lockdown))[1]]\n",
    "    }).transpose()\n",
    "    simulation_summary_l.columns = ['average', 'lower', 'upper']\n",
    "    print(simulation_summary_l)"
   ]
  },
  {
   "cell_type": "markdown",
   "metadata": {},
   "source": [
    "# Scenario 3 Lockdown with Townships\n",
    "\n",
    "In this scenario, the policy maker implements a lockdown that has been inspired by the South African lockdown. Once again, we set the lockdown parameters as follows."
   ]
  },
  {
   "cell_type": "markdown",
   "metadata": {},
   "source": [
    "**The twist is that the lockdown is really not as effective in Townships** "
   ]
  },
  {
   "cell_type": "code",
   "execution_count": 17,
   "metadata": {},
   "outputs": [],
   "source": [
    "parameters['informality_dummy'] = 1.0"
   ]
  },
  {
   "cell_type": "markdown",
   "metadata": {},
   "source": [
    "Next, we make sure that the lockdown is active during the entirity of the simulation. "
   ]
  },
  {
   "cell_type": "code",
   "execution_count": 18,
   "metadata": {},
   "outputs": [],
   "source": [
    "parameters[\"lockdown_days\"] = [x for x in range(30, len(parameters['lockdown_days']))]"
   ]
  },
  {
   "cell_type": "code",
   "execution_count": 19,
   "metadata": {},
   "outputs": [],
   "source": [
    "data_folder = 'measurement/inef_lockdown/'\n",
    "ilockdown_total = []\n",
    "i_lockdown_summary_stats = []\n",
    "for seed in range(parameters['monte_carlo_runs']):\n",
    "    # make new folder for seed, if it does not exist\n",
    "    if not os.path.exists('{}seed{}'.format(data_folder, seed)):\n",
    "        os.makedirs('{}seed{}'.format(data_folder, seed))\n",
    "\n",
    "    # initialization\n",
    "    environment = Environment(seed, parameters, neighbourhood_data, age_distribution_per_ward,\n",
    "                              hh_contact_matrix, other_contact_matrix, HH_size_distribution, travel_matrix)\n",
    "\n",
    "    # running the simulation\n",
    "    environment = runner(environment, seed, data_output=parameters[\"data_output\"], data_folder=data_folder,\n",
    "                         calculate_r_naught=False)\n",
    "    \n",
    "    # saving the network data\n",
    "    if parameters['data_output'] == 'network':\n",
    "        for idx, network in enumerate(environment.infection_states):\n",
    "            for i, node in enumerate(network.nodes):\n",
    "                network.nodes[i]['agent'] = network.nodes[i]['agent'].status\n",
    "\n",
    "        susceptible_ot_il = []\n",
    "        infected_1_ot_il = []\n",
    "        infected_2_ot_il = []\n",
    "        critical_ot_il = []\n",
    "        dead_ot_il = []\n",
    "        recovered_ot_il = []\n",
    "        exposed_ot_il = []\n",
    "\n",
    "        for t in range(parameters['time']):\n",
    "            network = environment.infection_states[t]\n",
    "            susceptible = 0\n",
    "            infected_1 = 0\n",
    "            infected_2 = 0\n",
    "            critical = 0\n",
    "            dead = 0\n",
    "            recovered = 0\n",
    "            exposed = 0\n",
    "            for idx, node in enumerate(network):\n",
    "                if network.nodes[idx]['agent'] == 's':\n",
    "                    susceptible += 1\n",
    "                elif network.nodes[idx]['agent'] == 'e':\n",
    "                    exposed += 1\n",
    "                elif network.nodes[idx]['agent'] == 'i1':\n",
    "                    infected_1 += 1\n",
    "                elif network.nodes[idx]['agent'] == 'i2':\n",
    "                    infected_2 += 1\n",
    "                elif network.nodes[idx]['agent'] == 'c':\n",
    "                    critical += 1\n",
    "                elif network.nodes[idx]['agent'] == 'd':\n",
    "                    dead += 1\n",
    "                elif network.nodes[idx]['agent'] == 'r':\n",
    "                    recovered +=1\n",
    "                else:\n",
    "                    print('no status?')\n",
    "\n",
    "            susceptible_ot_il.append((susceptible / float(len(network))))\n",
    "            infected_1_ot_il.append((infected_1 / float(len(network))))\n",
    "            infected_2_ot_il.append((infected_2 / float(len(network))))\n",
    "            critical_ot_il.append((critical / float(len(network))))\n",
    "            dead_ot_il.append((dead / float(len(network))))\n",
    "            recovered_ot_il.append((recovered / float(len(network))))\n",
    "            exposed_ot_il.append((exposed / float(len(network))))\n",
    "\n",
    "        # save output data\n",
    "        ilockdown_total.append(exposed_ot_il)\n",
    "        i_lockdown_summary_stats.append({'total dead': dead_ot_il[-1], 'peak critical': max(critical_ot_il), 'total recovered':recovered_ot_il[-1]})\n",
    "    elif parameters[\"data_output\"] == 'csv_light':\n",
    "        pd.DataFrame(environment.infection_quantities).to_csv('{}seed{}/quantities_state_time.csv'.format(data_folder,\n",
    "                                                                                                          seed))"
   ]
  },
  {
   "cell_type": "markdown",
   "metadata": {},
   "source": [
    "Calculate average and confidence intervals for total dead, peak critical, and total recovered + dead."
   ]
  },
  {
   "cell_type": "code",
   "execution_count": 20,
   "metadata": {},
   "outputs": [
    {
     "name": "stdout",
     "output_type": "stream",
     "text": [
      "                 average     lower     upper\n",
      "total dead      0.008048  0.006191  0.009905\n",
      "peak critical   0.004427  0.003684  0.005169\n",
      "total infected  0.472032  0.420856  0.523208\n"
     ]
    }
   ],
   "source": [
    "if parameters['data_output'] == 'network':\n",
    "    total_dead_i_lockdown = [i_lockdown_summary_stats[x]['total dead'] for x in range(len(i_lockdown_summary_stats))]\n",
    "    peak_critical_i_lockdown = [i_lockdown_summary_stats[x]['peak critical'] for x in range(len(i_lockdown_summary_stats))]\n",
    "    total_infected_i_lockdown = [i_lockdown_summary_stats[x]['total dead'] + i_lockdown_summary_stats[x]['total recovered'] for x in range(len(i_lockdown_summary_stats))]\n",
    "\n",
    "    # av lower upper\n",
    "    simulation_summary_il = pd.DataFrame({\n",
    "        'total dead': [np.mean(total_dead_i_lockdown), confidence_interval(total_dead_i_lockdown, np.mean(total_dead_i_lockdown))[0], confidence_interval(total_dead_i_lockdown, np.mean(total_dead_i_lockdown))[1]],\n",
    "        'peak critical': [np.mean(peak_critical_i_lockdown), confidence_interval(peak_critical_i_lockdown, np.mean(peak_critical_i_lockdown))[0], confidence_interval(peak_critical_i_lockdown, np.mean(peak_critical_i_lockdown))[1]],\n",
    "        'total infected': [np.mean(total_infected_i_lockdown), confidence_interval(total_infected_i_lockdown, np.mean(total_infected_i_lockdown))[0], confidence_interval(total_infected_i_lockdown, np.mean(total_infected_i_lockdown))[1]]\n",
    "    }).transpose()\n",
    "    simulation_summary_il.columns = ['average', 'lower', 'upper']\n",
    "    print(simulation_summary_il)"
   ]
  },
  {
   "cell_type": "code",
   "execution_count": 21,
   "metadata": {},
   "outputs": [],
   "source": [
    "baseline_total_df = pd.DataFrame(baseline_total).transpose()\n",
    "lockdown_total_df = pd.DataFrame(lockdown_total).transpose()\n",
    "ilockdown_total_df = pd.DataFrame(ilockdown_total).transpose()"
   ]
  },
  {
   "cell_type": "code",
   "execution_count": 28,
   "metadata": {},
   "outputs": [
    {
     "data": {
      "text/plain": [
       "<matplotlib.axes._subplots.AxesSubplot at 0x26ef19fc6d8>"
      ]
     },
     "execution_count": 28,
     "metadata": {},
     "output_type": "execute_result"
    },
    {
     "data": {
      "image/png": "[encoded data removed]",
      "text/plain": [
       "<Figure size 432x288 with 1 Axes>"
      ]
     },
     "metadata": {},
     "output_type": "display_data"
    },
    {
     "data": {
      "image/png": "[encoded data removed]",
      "text/plain": [
       "<Figure size 432x288 with 1 Axes>"
      ]
     },
     "metadata": {},
     "output_type": "display_data"
    }
   ],
   "source": [
    "ilockdown_total_df.plot()\n",
    "lockdown_total_df.plot()"
   ]
  },
  {
   "cell_type": "code",
   "execution_count": 23,
   "metadata": {},
   "outputs": [
    {
     "name": "stderr",
     "output_type": "stream",
     "text": [
      "c:\\users\\joeri\\appdata\\local\\programs\\python\\python37\\lib\\site-packages\\scipy\\stats\\_distn_infrastructure.py:1920: RuntimeWarning: invalid value encountered in multiply\n",
      "  lower_bound = self.a * scale + loc\n",
      "c:\\users\\joeri\\appdata\\local\\programs\\python\\python37\\lib\\site-packages\\scipy\\stats\\_distn_infrastructure.py:1921: RuntimeWarning: invalid value encountered in multiply\n",
      "  upper_bound = self.b * scale + loc\n"
     ]
    }
   ],
   "source": [
    "lower_baseline_exposed = []\n",
    "upper_baseline_exposed = []\n",
    "for row in range(len(baseline_total_df)):\n",
    "    exposed_range = baseline_total_df.iloc[row]\n",
    "    lower, upper = confidence_interval(exposed_range, np.mean(exposed_range))\n",
    "    lower_baseline_exposed.append(max(lower, 0.0))\n",
    "    upper_baseline_exposed.append(upper)\n",
    "\n",
    "lower_lockdown_exposed = []\n",
    "upper_lockdown_exposed = []\n",
    "for row in range(len(lockdown_total_df)):\n",
    "    exposed_range = lockdown_total_df.iloc[row]\n",
    "    lower, upper = confidence_interval(exposed_range, np.mean(exposed_range))\n",
    "    lower_lockdown_exposed.append(max(lower, 0.0))\n",
    "    upper_lockdown_exposed.append(upper)\n",
    "\n",
    "lower_if_exposed = []\n",
    "upper_if_exposed = []\n",
    "for row in range(len(ilockdown_total_df)):\n",
    "    exposed_range = ilockdown_total_df.iloc[row]\n",
    "    lower, upper = confidence_interval(exposed_range, np.mean(exposed_range))\n",
    "    lower_if_exposed.append(max(lower, 0.0))\n",
    "    upper_if_exposed.append(upper)"
   ]
  },
  {
   "cell_type": "code",
   "execution_count": 27,
   "metadata": {},
   "outputs": [
    {
     "data": {
      "text/plain": [
       "<matplotlib.legend.Legend at 0x26ee58422e8>"
      ]
     },
     "execution_count": 27,
     "metadata": {},
     "output_type": "execute_result"
    },
    {
     "data": {
      "image/png": "[encoded data removed]",
      "text/plain": [
       "<Figure size 720x288 with 1 Axes>"
      ]
     },
     "metadata": {},
     "output_type": "display_data"
    }
   ],
   "source": [
    "fig, ax1 = plt.subplots(1, 1, figsize=(10,4))\n",
    "\n",
    "ax1.plot(range(len(exposed_ot_il)), upper_baseline_exposed, color='blue', ls='--')\n",
    "ax1.plot(range(len(exposed_ot)), exposed_ot, label='baseline')\n",
    "ax1.plot(range(len(exposed_ot_il)), lower_baseline_exposed, color='blue', ls='--')\n",
    "\n",
    "ax1.plot(range(len(exposed_ot_il)), upper_lockdown_exposed, color='orange', ls='--')\n",
    "ax1.plot(range(len(exposed_ot_il)), exposed_ot_l, label='lockdown')\n",
    "ax1.plot(range(len(exposed_ot_il)), lower_lockdown_exposed, color='orange', ls='--')\n",
    "\n",
    "ax1.plot(range(len(exposed_ot_il)), upper_if_exposed, color='green', ls='--')\n",
    "ax1.plot(range(len(exposed_ot_il)), exposed_ot_il, label='ineffective_lockdown')\n",
    "ax1.plot(range(len(exposed_ot_il)), lower_if_exposed, color='green', ls='--')\n",
    "\n",
    "ax1.axvline(parameters[\"lockdown_days\"][0], color='black')\n",
    "\n",
    "\n",
    "ax1.legend(loc='best', fontsize='14', frameon=True)"
   ]
  },
  {
   "cell_type": "code",
   "execution_count": null,
   "metadata": {},
   "outputs": [],
   "source": []
  }
 ],
 "metadata": {
  "kernelspec": {
   "display_name": "Python 3",
   "language": "python",
   "name": "python3"
  },
  "language_info": {
   "codemirror_mode": {
    "name": "ipython",
    "version": 3
   },
   "file_extension": ".py",
   "mimetype": "text/x-python",
   "name": "python",
   "nbconvert_exporter": "python",
   "pygments_lexer": "ipython3",
   "version": "3.7.3"
  }
 },
 "nbformat": 4,
 "nbformat_minor": 2
}
