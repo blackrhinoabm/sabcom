{
 "cells": [
  {
   "cell_type": "code",
   "execution_count": 1,
   "metadata": {},
   "outputs": [],
   "source": [
    "import numpy as np\n",
    "import pandas as pd\n",
    "import matplotlib.pyplot as plt\n",
    "from matplotlib import style\n",
    "import time\n",
    "import ipywidgets as wg\n",
    "from ipywidgets import interact\n",
    "from IPython.display import display\n",
    "import networkx as nx\n",
    "from src.environment import Environment\n",
    "from src.runner import runner\n",
    "from sklearn import preprocessing\n",
    "import random\n",
    "import json\n",
    "import geopy.distance"
   ]
  },
  {
   "cell_type": "code",
   "execution_count": 2,
   "metadata": {},
   "outputs": [],
   "source": [
    "style.use('seaborn-white')"
   ]
  },
  {
   "cell_type": "markdown",
   "metadata": {},
   "source": [
    "# Setting the parameters"
   ]
  },
  {
   "cell_type": "code",
   "execution_count": 1,
   "metadata": {},
   "outputs": [],
   "source": [
    "age_groups = ['age_0_10', 'age_10_20', 'age_20_30', 'age_30_40', 'age_40_50', \n",
    "              'age_50_60', 'age_60_70', 'age_70_80', 'age_80_plus']"
   ]
  },
  {
   "cell_type": "code",
   "execution_count": 2,
   "metadata": {},
   "outputs": [],
   "source": [
    "parameters = {\n",
    "    # general simulation parameters\n",
    "    \"time\": 90,\n",
    "    \"number_of_agents\": 1000,\n",
    "    \"monte_carlo_runs\": 5,\n",
    "    \"data_output\": 'csv', # 'csv' or 'network', or 'False'\n",
    "    # specific simulation parameters\n",
    "    \"share_inital_agents_infected\": 0.01, # percentage of agents infected randomly at the start of the simulation\n",
    "    \"incubation_days\": 5, # average number of days agents are infected but do not have symptoms SOURCE Zhang et al. 2020\n",
    "    \"symptom_days\": 10,# average number of days agents have mild symptoms\n",
    "    \"critical_days\": 8, # average number of days agents are in critical condition\n",
    "    \"health_system_capacity\": 0.0021, # relative (in terms of population) capacity of the hospitals\n",
    "    \"no_hospital_multiplier\": 1.79, # the increase in probability if a critical agent cannot go to the hospital SOURCE: Zhou et al. 2020\n",
    "    \"travel_sample_size\": 0.01, # amount of agents that an agent might choose to travel to\n",
    "    \"foreign_infection_days\": [x for x in range(0, 19)], # days at which 1 agent will be infected every day from abroad \n",
    "    # agent parameters\n",
    "    \"probability_transmission\": 0.09, # should be estimated to replicate realistic R0 number.\n",
    "    \"probability_to_travel\": 0.03, # should be estimated to replicate travel data \n",
    "    \"probability_critical\": {key:value for key, value in zip(age_groups, [0.001, 0.003, 0.012, 0.032, 0.049, 0.102, 0.166, 0.244, 0.273])}, # probability that an agent enters a critical stage of the disease SOURCE: Verity et al.\n",
    "    \"probability_to_die\": {key:value for key, value in zip(age_groups, [0.005, 0.021, 0.053, 0.126, 0.221, 0.303, 0.565, 0.653, 0.765])}, # probability to die per age group in critical stage SOURCE: Verity et al.\n",
    "    \"probability_susceptible\": 0.000, # probability that the agent will again be susceptible after having recovered\n",
    "    # experiment parameter\n",
    "    \"lockdown_days\" : [None for x in range(0, 34)], # in the baseline this is 0, 5 march was the first reported case, 27 march was the start of the lockdown 35 days\n",
    "    \"lockdown_travel_multiplier\": 1.0 - ((0.85 + 0.62) / 2), # need estimate for this based on apple travel data reduction of 85% google work of -62% for Western Cape\n",
    "    \"lockdown_infection_multiplier\": 0.27, # Jarvis et al. 2020\n",
    "    \"informality_dummy\": 0.0, # setting this parameter at 0 will mean the lockdown is equally effective anywhere, alternative = 1\n",
    "    \"at_risk_groups\": age_groups # list all age groups for baseline\n",
    "}"
   ]
  },
  {
   "cell_type": "markdown",
   "metadata": {},
   "source": [
    "Store parameters in JSON file."
   ]
  },
  {
   "cell_type": "code",
   "execution_count": 5,
   "metadata": {},
   "outputs": [],
   "source": [
    "with open('parameters/baseline/parameters.json', 'w') as outfile:\n",
    "    json.dump(parameters, outfile)"
   ]
  },
  {
   "cell_type": "code",
   "execution_count": 3,
   "metadata": {},
   "outputs": [],
   "source": [
    "# load parameters\n",
    "with open('parameters/baseline/parameters.json') as json_file:\n",
    "    parameters = json.load(json_file)"
   ]
  },
  {
   "cell_type": "code",
   "execution_count": 32,
   "metadata": {},
   "outputs": [],
   "source": [
    "parameters['number_of_agents'] = 1000\n",
    "parameters['probability_transmission'] = 0.13\n",
    "parameters['probability_to_travel'] = 0.25"
   ]
  },
  {
   "cell_type": "markdown",
   "metadata": {},
   "source": [
    "# Generate district data using Ward data from Cape Town\n",
    "\n",
    "Take into account informality of the different districts."
   ]
  },
  {
   "cell_type": "code",
   "execution_count": 33,
   "metadata": {},
   "outputs": [],
   "source": [
    "inital_infections = pd.read_csv('input_data/Cases_With_Subdistricts.csv', index_col=0)"
   ]
  },
  {
   "cell_type": "code",
   "execution_count": 34,
   "metadata": {},
   "outputs": [],
   "source": [
    "informal_residential = pd.read_csv('input_data/Informal_Residential.csv').iloc[:-1]"
   ]
  },
  {
   "cell_type": "code",
   "execution_count": 35,
   "metadata": {},
   "outputs": [],
   "source": [
    "# Create x, where x the 'scores' column's values as floats\n",
    "x = informal_residential[['Informal_residential']].values.astype(float)\n",
    "\n",
    "# # Create a minimum and maximum processor object\n",
    "min_max_scaler = preprocessing.MinMaxScaler()\n",
    "\n",
    "# # Create an object to transform the data to fit minmax processor\n",
    "x_scaled = min_max_scaler.fit_transform(x)\n",
    "\n",
    "# # Run the normalizer on the dataframe\n",
    "informal_residential['Informal_residential'] = pd.DataFrame(x_scaled)"
   ]
  },
  {
   "cell_type": "code",
   "execution_count": 36,
   "metadata": {},
   "outputs": [],
   "source": [
    "population = pd.read_csv('input_data/population.csv')"
   ]
  },
  {
   "cell_type": "code",
   "execution_count": 37,
   "metadata": {},
   "outputs": [],
   "source": [
    "population['Informal_residential'] = informal_residential['Informal_residential']"
   ]
  },
  {
   "cell_type": "code",
   "execution_count": 38,
   "metadata": {},
   "outputs": [
    {
     "data": {
      "text/html": [
       "<div>\n",
       "<style scoped>\n",
       "    .dataframe tbody tr th:only-of-type {\n",
       "        vertical-align: middle;\n",
       "    }\n",
       "\n",
       "    .dataframe tbody tr th {\n",
       "        vertical-align: top;\n",
       "    }\n",
       "\n",
       "    .dataframe thead th {\n",
       "        text-align: right;\n",
       "    }\n",
       "</style>\n",
       "<table border=\"1\" class=\"dataframe\">\n",
       "  <thead>\n",
       "    <tr style=\"text-align: right;\">\n",
       "      <th></th>\n",
       "      <th>WardID</th>\n",
       "      <th>Population</th>\n",
       "      <th>Area</th>\n",
       "      <th>Density</th>\n",
       "      <th>lon</th>\n",
       "      <th>lat</th>\n",
       "      <th>Informal_residential</th>\n",
       "    </tr>\n",
       "  </thead>\n",
       "  <tbody>\n",
       "    <tr>\n",
       "      <th>0</th>\n",
       "      <td>19100001</td>\n",
       "      <td>26434.07345</td>\n",
       "      <td>27213.359916</td>\n",
       "      <td>0.971364</td>\n",
       "      <td>18.612025</td>\n",
       "      <td>-33.857307</td>\n",
       "      <td>0.0</td>\n",
       "    </tr>\n",
       "    <tr>\n",
       "      <th>1</th>\n",
       "      <td>19100002</td>\n",
       "      <td>29914.18993</td>\n",
       "      <td>9222.458013</td>\n",
       "      <td>3.243624</td>\n",
       "      <td>18.422324</td>\n",
       "      <td>-34.069837</td>\n",
       "      <td>0.0</td>\n",
       "    </tr>\n",
       "    <tr>\n",
       "      <th>2</th>\n",
       "      <td>19100003</td>\n",
       "      <td>25735.62250</td>\n",
       "      <td>10891.277732</td>\n",
       "      <td>2.362957</td>\n",
       "      <td>18.476290</td>\n",
       "      <td>-34.048938</td>\n",
       "      <td>0.0</td>\n",
       "    </tr>\n",
       "  </tbody>\n",
       "</table>\n",
       "</div>"
      ],
      "text/plain": [
       "     WardID   Population          Area   Density        lon        lat  \\\n",
       "0  19100001  26434.07345  27213.359916  0.971364  18.612025 -33.857307   \n",
       "1  19100002  29914.18993   9222.458013  3.243624  18.422324 -34.069837   \n",
       "2  19100003  25735.62250  10891.277732  2.362957  18.476290 -34.048938   \n",
       "\n",
       "   Informal_residential  \n",
       "0                   0.0  \n",
       "1                   0.0  \n",
       "2                   0.0  "
      ]
     },
     "execution_count": 38,
     "metadata": {},
     "output_type": "execute_result"
    }
   ],
   "source": [
    "population.head(3)"
   ]
  },
  {
   "cell_type": "markdown",
   "metadata": {},
   "source": [
    "Because the amount of agents are less than in the actual population of Cape Town, we filter some wards so that all of them are at least populated with an agent. Therefore, we calculate the smallest size of a neighbourhood should have as follows."
   ]
  },
  {
   "cell_type": "code",
   "execution_count": 39,
   "metadata": {},
   "outputs": [],
   "source": [
    "smallest_size = population['Population'].sum() / parameters['number_of_agents']"
   ]
  },
  {
   "cell_type": "markdown",
   "metadata": {},
   "source": [
    "Next, we tranform the districts to a list format that feeds into the model. "
   ]
  },
  {
   "cell_type": "code",
   "execution_count": 40,
   "metadata": {},
   "outputs": [],
   "source": [
    "districts_data = []\n",
    "for i in range(len(population)):\n",
    "    if population['Population'].iloc[i] > smallest_size:\n",
    "        districts_data.append(\n",
    "            [int(population['WardID'].iloc[i]), {'Population': population['Population'].iloc[i],\n",
    "                                                 'Density': population['Density'].iloc[i],\n",
    "                                                 'lon': population['lon'].iloc[i],\n",
    "                                                 'lat': population['lat'].iloc[i],\n",
    "                                                 'Informal_residential': population['Informal_residential'].iloc[i],\n",
    "                                                 'Cases_With_Subdistricts': inital_infections.loc[population['WardID'].iloc[i]]['Cases_03292020'],\n",
    "                                                },\n",
    "            ])\n",
    "max_neighbourhoods = len(districts_data)"
   ]
  },
  {
   "cell_type": "code",
   "execution_count": 41,
   "metadata": {},
   "outputs": [],
   "source": [
    "cases = [x[1]['Cases_With_Subdistricts'] for x in districts_data]\n",
    "probabilities = norm = [float(i)/sum(cases) for i in cases]\n",
    "#probabilities"
   ]
  },
  {
   "cell_type": "markdown",
   "metadata": {},
   "source": [
    "If you want to do a smaller trial run of the model you can further limit the amount of districts by setting the following parameter. "
   ]
  },
  {
   "cell_type": "code",
   "execution_count": 42,
   "metadata": {},
   "outputs": [],
   "source": [
    "max_districts = len(districts_data)"
   ]
  },
  {
   "cell_type": "code",
   "execution_count": 43,
   "metadata": {},
   "outputs": [],
   "source": [
    "with open('parameters/baseline/district_data.json', 'w') as outfile:\n",
    "    json.dump(districts_data[:max_districts], outfile)"
   ]
  },
  {
   "cell_type": "code",
   "execution_count": 44,
   "metadata": {},
   "outputs": [],
   "source": [
    "# load neighbourhood data\n",
    "with open('parameters/baseline/district_data.json') as json_file:\n",
    "    districts_data = json.load(json_file)"
   ]
  },
  {
   "cell_type": "markdown",
   "metadata": {},
   "source": [
    "# Create a distance matrix between the districts"
   ]
  },
  {
   "cell_type": "code",
   "execution_count": 45,
   "metadata": {},
   "outputs": [],
   "source": [
    "districts = [districts_data[x][0] for x in range(len(districts_data))]\n",
    "\n",
    "distance_table = {}\n",
    "\n",
    "for idx1, n1 in enumerate(districts):\n",
    "    distance_to_n1 = []\n",
    "    for idx2, n2 in enumerate(districts):\n",
    "        loc1 = districts_data[idx1][1]['lon'], districts_data[idx1][1]['lon']\n",
    "        loc2 = districts_data[idx2][1]['lon'], districts_data[idx2][1]['lon']\n",
    "        distance12 = geopy.distance.geodesic(loc1, loc2).km\n",
    "        distance_to_n1.append(distance12)\n",
    "    distance_table[n1] = distance_to_n1"
   ]
  },
  {
   "cell_type": "code",
   "execution_count": 46,
   "metadata": {},
   "outputs": [],
   "source": [
    "distance_matrix = pd.DataFrame(distance_table)\n",
    "distance_matrix.index = districts"
   ]
  },
  {
   "cell_type": "code",
   "execution_count": 47,
   "metadata": {},
   "outputs": [],
   "source": [
    "distance_matrix.to_csv('parameters/baseline/distance_matrix.csv')"
   ]
  },
  {
   "cell_type": "code",
   "execution_count": 48,
   "metadata": {},
   "outputs": [],
   "source": [
    "distance_matrix = pd.read_csv('parameters/baseline/distance_matrix.csv', index_col=0)"
   ]
  },
  {
   "cell_type": "markdown",
   "metadata": {},
   "source": [
    "### Load travel data"
   ]
  },
  {
   "cell_type": "code",
   "execution_count": 49,
   "metadata": {},
   "outputs": [],
   "source": [
    "# load travel matrix\n",
    "travel_matrix = pd.read_csv('input_data/Travel_Probability_Matrix.csv', index_col=0)"
   ]
  },
  {
   "cell_type": "markdown",
   "metadata": {},
   "source": [
    "### Load age data"
   ]
  },
  {
   "cell_type": "code",
   "execution_count": 50,
   "metadata": {},
   "outputs": [],
   "source": [
    "# load age data\n",
    "age_distribution = pd.read_csv('input_data/age_dist.csv', sep=';', index_col=0)\n",
    "age_distribution_per_district = dict(age_distribution.transpose())"
   ]
  },
  {
   "cell_type": "code",
   "execution_count": 51,
   "metadata": {},
   "outputs": [],
   "source": [
    "#age_distribution_per_district[19100001.0]"
   ]
  },
  {
   "cell_type": "markdown",
   "metadata": {},
   "source": [
    "The next step is to either run the model in the SABCoModel.py file or run it here in the notebook. When running it in the notebook the initialization starts here. "
   ]
  },
  {
   "cell_type": "markdown",
   "metadata": {},
   "source": [
    "# Simulation"
   ]
  },
  {
   "cell_type": "code",
   "execution_count": 52,
   "metadata": {},
   "outputs": [],
   "source": [
    "data_folder = 'measurement/baseline/'\n",
    "environment = Environment(0, parameters, districts_data, age_distribution_per_district, distance_matrix)\n",
    "\n",
    "environment = runner(environment, 0, data_folder=data_folder, data_output='network', travel_matrix=travel_matrix)"
   ]
  },
  {
   "cell_type": "markdown",
   "metadata": {},
   "source": [
    "### Save network data"
   ]
  },
  {
   "cell_type": "code",
   "execution_count": 53,
   "metadata": {},
   "outputs": [],
   "source": [
    "for idx, network in enumerate(environment.infection_states):\n",
    "    for i, node in enumerate(network.nodes):\n",
    "        network.nodes[i]['agent'] = network.nodes[i]['agent'].status\n",
    "\n",
    "    nx.write_graphml_lxml(network, \"measurement/baseline/network_time{}.graphml\".format(idx))"
   ]
  },
  {
   "cell_type": "markdown",
   "metadata": {},
   "source": [
    "### Read data "
   ]
  },
  {
   "cell_type": "code",
   "execution_count": 54,
   "metadata": {},
   "outputs": [],
   "source": [
    "infection_states = []\n",
    "for idx in range(parameters[\"time\"]):\n",
    "    infection_states.append(nx.read_graphml(\"measurement/baseline/network_time{}.graphml\".format(idx), node_type=int))"
   ]
  },
  {
   "cell_type": "markdown",
   "metadata": {},
   "source": [
    "## Draw"
   ]
  },
  {
   "cell_type": "code",
   "execution_count": 55,
   "metadata": {},
   "outputs": [],
   "source": [
    "pos = nx.spring_layout(infection_states[0])"
   ]
  },
  {
   "cell_type": "code",
   "execution_count": 56,
   "metadata": {},
   "outputs": [],
   "source": [
    "def plot_model(t):\n",
    "    network = infection_states[t]\n",
    "    color_map = []\n",
    "    for idx, node in enumerate(network):\n",
    "        if network.nodes[idx]['agent'] == 's':\n",
    "            color_map.append('blue')\n",
    "        elif network.nodes[idx]['agent'] == 'i1':\n",
    "            color_map.append('pink')\n",
    "        elif network.nodes[idx]['agent'] == 'i2':\n",
    "            color_map.append('red')\n",
    "        elif network.nodes[idx]['agent'] == 'c':\n",
    "            color_map.append('brown')\n",
    "        elif network.nodes[idx]['agent'] == 'd':\n",
    "            color_map.append('black')\n",
    "        elif network.nodes[idx]['agent'] == 'r':\n",
    "            color_map.append('grey')\n",
    "    nx.draw(network, pos=pos, node_color=color_map, with_labels=True)"
   ]
  },
  {
   "cell_type": "code",
   "execution_count": 57,
   "metadata": {},
   "outputs": [
    {
     "data": {
      "application/vnd.jupyter.widget-view+json": {
       "model_id": "7649417c5ee4485ead5195d0ba55f309",
       "version_major": 2,
       "version_minor": 0
      },
      "text/plain": [
       "interactive(children=(IntSlider(value=0, description='Time step', max=129), Output()), _dom_classes=('widget-i…"
      ]
     },
     "metadata": {},
     "output_type": "display_data"
    },
    {
     "data": {
      "text/plain": [
       "<function __main__.plot_model(t)>"
      ]
     },
     "execution_count": 57,
     "metadata": {},
     "output_type": "execute_result"
    }
   ],
   "source": [
    "time_period = wg.IntSlider(description='Time step', min=0, max=parameters['time']-1)\n",
    "wg.interact(plot_model, t=time_period)"
   ]
  },
  {
   "cell_type": "markdown",
   "metadata": {},
   "source": [
    "Graph"
   ]
  },
  {
   "cell_type": "code",
   "execution_count": 58,
   "metadata": {},
   "outputs": [],
   "source": [
    "susceptible_ot = []\n",
    "infected_1_ot = []\n",
    "infected_2_ot = []\n",
    "critical_ot = []\n",
    "dead_ot = []\n",
    "recovered_ot = []\n",
    "\n",
    "for t in range(parameters['time']):\n",
    "    network = infection_states[t]\n",
    "    susceptible = 0\n",
    "    infected_1 = 0\n",
    "    infected_2 = 0\n",
    "    critical = 0\n",
    "    dead = 0\n",
    "    recovered = 0\n",
    "    for idx, node in enumerate(network):\n",
    "        if network.nodes[idx]['agent'] == 's':\n",
    "            susceptible += 1\n",
    "        elif network.nodes[idx]['agent'] == 'i1':\n",
    "            infected_1 += 1\n",
    "        elif network.nodes[idx]['agent'] == 'i2':\n",
    "            infected_2 += 1\n",
    "        elif network.nodes[idx]['agent'] == 'c':\n",
    "            critical += 1\n",
    "        elif network.nodes[idx]['agent'] == 'd':\n",
    "            dead += 1\n",
    "        elif network.nodes[idx]['agent'] == 'r':\n",
    "            recovered +=1\n",
    "        else:\n",
    "            print('no status?')\n",
    "    \n",
    "    susceptible_ot.append((susceptible / float(len(network))) * population['Population'].sum())\n",
    "    infected_1_ot.append((infected_1 / float(len(network))) * population['Population'].sum())\n",
    "    infected_2_ot.append((infected_2 / float(len(network)))  * population['Population'].sum())\n",
    "    critical_ot.append((critical / float(len(network)))  * population['Population'].sum())\n",
    "    dead_ot.append((dead / float(len(network)))  * population['Population'].sum())\n",
    "    recovered_ot.append((recovered / float(len(network)))  * population['Population'].sum())"
   ]
  },
  {
   "cell_type": "code",
   "execution_count": 59,
   "metadata": {},
   "outputs": [
    {
     "data": {
      "text/plain": [
       "(0, 3740030.74811)"
      ]
     },
     "execution_count": 59,
     "metadata": {},
     "output_type": "execute_result"
    },
    {
     "data": {
      "image/png": "[encoded data removed]",
      "text/plain": [
       "<Figure size 1008x576 with 1 Axes>"
      ]
     },
     "metadata": {},
     "output_type": "display_data"
    }
   ],
   "source": [
    "fig, ax = plt.subplots(figsize=(14,8))\n",
    "\n",
    "x = [x for x in range(parameters['time'])]\n",
    "\n",
    "labels = ['critical', 'infected-2', 'infected-1', 'recovered', 'susceptible', 'dead']\n",
    "\n",
    "y = np.vstack([critical_ot, infected_2_ot, infected_1_ot, recovered_ot, susceptible_ot, dead_ot])\n",
    "\n",
    "ax.axhline(parameters['health_system_capacity'] * population['Population'].sum(), color='black')\n",
    "\n",
    "pal = [\"#f9b4ad\", \"#1b81c2\", \"#91b7d1\", \"#b7f0a5\", \"#e0e4ec\",\"#000000\"]\n",
    "\n",
    "ax.stackplot(x, y, colors= pal, labels=labels)\n",
    "ax.legend(loc='best', fontsize='14', frameon=True)\n",
    "ax.set_ylabel('Cape Town population', fontsize='14')\n",
    "ax.set_xlabel('Days', fontsize='14')\n",
    "\n",
    "plt.xlim([0,parameters['time']])\n",
    "plt.ylim([0, population['Population'].sum()])\n",
    "\n",
    "#fig.savefig('measurement/the_curve.png')"
   ]
  },
  {
   "cell_type": "markdown",
   "metadata": {},
   "source": [
    "# Run lockdown"
   ]
  },
  {
   "cell_type": "code",
   "execution_count": 64,
   "metadata": {},
   "outputs": [],
   "source": [
    "# load parameters\n",
    "with open('parameters/lock_down/parameters.json') as json_file:\n",
    "    parameters = json.load(json_file)\n",
    "\n",
    "parameters['number_of_agents'] = 1000\n",
    "parameters['probability_transmission'] = 0.13\n",
    "parameters['probability_to_travel'] = 0.25\n",
    "\n",
    "data_folder = 'measurement/lock_down/'\n",
    "environment = Environment(0, parameters, districts_data, age_distribution_per_district, distance_matrix)\n",
    "\n",
    "environment = runner(environment, 0, data_folder=data_folder, data_output='network', travel_matrix=travel_matrix)"
   ]
  },
  {
   "cell_type": "code",
   "execution_count": 65,
   "metadata": {},
   "outputs": [],
   "source": [
    "for idx, network in enumerate(environment.infection_states):\n",
    "        for i, node in enumerate(network.nodes):\n",
    "            network.nodes[i]['agent'] = network.nodes[i]['agent'].status"
   ]
  },
  {
   "cell_type": "code",
   "execution_count": 68,
   "metadata": {},
   "outputs": [],
   "source": [
    "susceptible_ot_l = []\n",
    "infected_1_ot_l = []\n",
    "infected_2_ot_l = []\n",
    "critical_ot_l = []\n",
    "dead_ot_l = []\n",
    "recovered_ot_l = []\n",
    "\n",
    "for t in range(parameters['time']):\n",
    "    network = environment.infection_states[t]\n",
    "    susceptible = 0\n",
    "    infected_1 = 0\n",
    "    infected_2 = 0\n",
    "    critical = 0\n",
    "    dead = 0\n",
    "    recovered = 0\n",
    "    for idx, node in enumerate(network):\n",
    "        if network.nodes[idx]['agent'] == 's':\n",
    "            susceptible += 1\n",
    "        elif network.nodes[idx]['agent'] == 'i1':\n",
    "            infected_1 += 1\n",
    "        elif network.nodes[idx]['agent'] == 'i2':\n",
    "            infected_2 += 1\n",
    "        elif network.nodes[idx]['agent'] == 'c':\n",
    "            critical += 1\n",
    "        elif network.nodes[idx]['agent'] == 'd':\n",
    "            dead += 1\n",
    "        elif network.nodes[idx]['agent'] == 'r':\n",
    "            recovered +=1\n",
    "        else:\n",
    "            print('no status?')\n",
    "    \n",
    "    susceptible_ot_l.append((susceptible / float(len(network))) * population['Population'].sum())\n",
    "    infected_1_ot_l.append((infected_1 / float(len(network))) * population['Population'].sum())\n",
    "    infected_2_ot_l.append((infected_2 / float(len(network)))  * population['Population'].sum())\n",
    "    critical_ot_l.append((critical / float(len(network)))  * population['Population'].sum())\n",
    "    dead_ot_l.append((dead / float(len(network)))  * population['Population'].sum())\n",
    "    recovered_ot_l.append((recovered / float(len(network)))  * population['Population'].sum())"
   ]
  },
  {
   "cell_type": "code",
   "execution_count": 71,
   "metadata": {},
   "outputs": [
    {
     "data": {
      "text/plain": [
       "(0, 3740030.74811)"
      ]
     },
     "execution_count": 71,
     "metadata": {},
     "output_type": "execute_result"
    },
    {
     "data": {
      "image/png": "[encoded data removed]",
      "text/plain": [
       "<Figure size 1008x576 with 1 Axes>"
      ]
     },
     "metadata": {},
     "output_type": "display_data"
    }
   ],
   "source": [
    "fig, ax = plt.subplots(figsize=(14,8))\n",
    "\n",
    "x = [x for x in range(parameters['time'])]\n",
    "\n",
    "labels = ['critical', 'infected-2', 'infected-1', 'recovered', 'susceptible', 'dead']\n",
    "\n",
    "y = np.vstack([critical_ot_l, infected_2_ot_l, infected_1_ot_l, recovered_ot_l, susceptible_ot_l, dead_ot_l])\n",
    "\n",
    "ax.axhline(parameters['health_system_capacity'] * population['Population'].sum(), color='black')\n",
    "\n",
    "pal = [\"#f9b4ad\", \"#1b81c2\", \"#91b7d1\", \"#b7f0a5\", \"#e0e4ec\",\"#000000\"]\n",
    "\n",
    "ax.stackplot(x, y, colors= pal, labels=labels)\n",
    "ax.legend(loc='best', fontsize='14', frameon=True)\n",
    "ax.set_ylabel('Cape Town population', fontsize='14')\n",
    "ax.set_xlabel('Days', fontsize='14')\n",
    "\n",
    "ax.axvline(35)\n",
    "\n",
    "plt.xlim([0,parameters['time']])\n",
    "plt.ylim([0, population['Population'].sum()])\n",
    "\n",
    "#fig.savefig('measurement/the_curve.png')"
   ]
  },
  {
   "cell_type": "markdown",
   "metadata": {},
   "source": [
    "# Inefficient lockdown"
   ]
  },
  {
   "cell_type": "code",
   "execution_count": 72,
   "metadata": {},
   "outputs": [],
   "source": [
    "# load parameters\n",
    "with open('parameters/ineffective_lock_down/parameters.json') as json_file:\n",
    "    parameters = json.load(json_file)\n",
    "\n",
    "parameters['number_of_agents'] = 1000\n",
    "parameters['probability_transmission'] = 0.13\n",
    "parameters['probability_to_travel'] = 0.25\n",
    "\n",
    "data_folder = 'measurement/lock_down/'\n",
    "environment = Environment(0, parameters, districts_data, age_distribution_per_district, distance_matrix)\n",
    "\n",
    "environment = runner(environment, 0, data_folder=data_folder, data_output='network', travel_matrix=travel_matrix)"
   ]
  },
  {
   "cell_type": "code",
   "execution_count": 73,
   "metadata": {},
   "outputs": [],
   "source": [
    "for idx, network in enumerate(environment.infection_states):\n",
    "        for i, node in enumerate(network.nodes):\n",
    "            network.nodes[i]['agent'] = network.nodes[i]['agent'].status"
   ]
  },
  {
   "cell_type": "code",
   "execution_count": 74,
   "metadata": {},
   "outputs": [],
   "source": [
    "susceptible_ot_li = []\n",
    "infected_1_ot_li = []\n",
    "infected_2_ot_li = []\n",
    "critical_ot_li = []\n",
    "dead_ot_li = []\n",
    "recovered_ot_li = []\n",
    "\n",
    "for t in range(parameters['time']):\n",
    "    network = environment.infection_states[t]\n",
    "    susceptible = 0\n",
    "    infected_1 = 0\n",
    "    infected_2 = 0\n",
    "    critical = 0\n",
    "    dead = 0\n",
    "    recovered = 0\n",
    "    for idx, node in enumerate(network):\n",
    "        if network.nodes[idx]['agent'] == 's':\n",
    "            susceptible += 1\n",
    "        elif network.nodes[idx]['agent'] == 'i1':\n",
    "            infected_1 += 1\n",
    "        elif network.nodes[idx]['agent'] == 'i2':\n",
    "            infected_2 += 1\n",
    "        elif network.nodes[idx]['agent'] == 'c':\n",
    "            critical += 1\n",
    "        elif network.nodes[idx]['agent'] == 'd':\n",
    "            dead += 1\n",
    "        elif network.nodes[idx]['agent'] == 'r':\n",
    "            recovered +=1\n",
    "        else:\n",
    "            print('no status?')\n",
    "    \n",
    "    susceptible_ot_li.append((susceptible / float(len(network))) * population['Population'].sum())\n",
    "    infected_1_ot_li.append((infected_1 / float(len(network))) * population['Population'].sum())\n",
    "    infected_2_ot_li.append((infected_2 / float(len(network)))  * population['Population'].sum())\n",
    "    critical_ot_li.append((critical / float(len(network)))  * population['Population'].sum())\n",
    "    dead_ot_li.append((dead / float(len(network)))  * population['Population'].sum())\n",
    "    recovered_ot_li.append((recovered / float(len(network)))  * population['Population'].sum())"
   ]
  },
  {
   "cell_type": "code",
   "execution_count": 75,
   "metadata": {},
   "outputs": [
    {
     "data": {
      "text/plain": [
       "(0, 3740030.74811)"
      ]
     },
     "execution_count": 75,
     "metadata": {},
     "output_type": "execute_result"
    },
    {
     "data": {
      "image/png": "[encoded data removed]",
      "text/plain": [
       "<Figure size 1008x576 with 1 Axes>"
      ]
     },
     "metadata": {},
     "output_type": "display_data"
    }
   ],
   "source": [
    "fig, ax = plt.subplots(figsize=(14,8))\n",
    "\n",
    "x = [x for x in range(parameters['time'])]\n",
    "\n",
    "labels = ['critical', 'infected-2', 'infected-1', 'recovered', 'susceptible', 'dead']\n",
    "\n",
    "y = np.vstack([critical_ot_li, infected_2_ot_li, infected_1_ot_li, recovered_ot_li, susceptible_ot_li, dead_ot_li])\n",
    "\n",
    "ax.axhline(parameters['health_system_capacity'] * population['Population'].sum(), color='black')\n",
    "\n",
    "pal = [\"#f9b4ad\", \"#1b81c2\", \"#91b7d1\", \"#b7f0a5\", \"#e0e4ec\",\"#000000\"]\n",
    "\n",
    "ax.stackplot(x, y, colors= pal, labels=labels)\n",
    "ax.legend(loc='best', fontsize='14', frameon=True)\n",
    "ax.set_ylabel('Cape Town population', fontsize='14')\n",
    "ax.set_xlabel('Days', fontsize='14')\n",
    "\n",
    "ax.axvline(35)\n",
    "\n",
    "plt.xlim([0,parameters['time']])\n",
    "plt.ylim([0, population['Population'].sum()])\n",
    "\n",
    "#fig.savefig('measurement/the_curve.png')"
   ]
  },
  {
   "cell_type": "markdown",
   "metadata": {},
   "source": [
    "# Elderly lockdown"
   ]
  },
  {
   "cell_type": "code",
   "execution_count": 76,
   "metadata": {},
   "outputs": [],
   "source": [
    "# load parameters\n",
    "with open('parameters/lock_down_elderly/parameters.json') as json_file:\n",
    "    parameters = json.load(json_file)\n",
    "\n",
    "parameters['number_of_agents'] = 1000\n",
    "parameters['probability_transmission'] = 0.13\n",
    "parameters['probability_to_travel'] = 0.25\n",
    "\n",
    "data_folder = 'measurement/lock_down_elderly/'\n",
    "environment = Environment(0, parameters, districts_data, age_distribution_per_district, distance_matrix)\n",
    "\n",
    "environment = runner(environment, 0, data_folder=data_folder, data_output='network', travel_matrix=travel_matrix)"
   ]
  },
  {
   "cell_type": "code",
   "execution_count": 77,
   "metadata": {},
   "outputs": [],
   "source": [
    "for idx, network in enumerate(environment.infection_states):\n",
    "        for i, node in enumerate(network.nodes):\n",
    "            network.nodes[i]['agent'] = network.nodes[i]['agent'].status"
   ]
  },
  {
   "cell_type": "code",
   "execution_count": 78,
   "metadata": {},
   "outputs": [],
   "source": [
    "susceptible_ot_eli = []\n",
    "infected_1_ot_eli = []\n",
    "infected_2_ot_eli = []\n",
    "critical_ot_eli = []\n",
    "dead_ot_eli = []\n",
    "recovered_ot_eli = []\n",
    "\n",
    "for t in range(parameters['time']):\n",
    "    network = environment.infection_states[t]\n",
    "    susceptible = 0\n",
    "    infected_1 = 0\n",
    "    infected_2 = 0\n",
    "    critical = 0\n",
    "    dead = 0\n",
    "    recovered = 0\n",
    "    for idx, node in enumerate(network):\n",
    "        if network.nodes[idx]['agent'] == 's':\n",
    "            susceptible += 1\n",
    "        elif network.nodes[idx]['agent'] == 'i1':\n",
    "            infected_1 += 1\n",
    "        elif network.nodes[idx]['agent'] == 'i2':\n",
    "            infected_2 += 1\n",
    "        elif network.nodes[idx]['agent'] == 'c':\n",
    "            critical += 1\n",
    "        elif network.nodes[idx]['agent'] == 'd':\n",
    "            dead += 1\n",
    "        elif network.nodes[idx]['agent'] == 'r':\n",
    "            recovered +=1\n",
    "        else:\n",
    "            print('no status?')\n",
    "    \n",
    "    susceptible_ot_eli.append((susceptible / float(len(network))) * population['Population'].sum())\n",
    "    infected_1_ot_eli.append((infected_1 / float(len(network))) * population['Population'].sum())\n",
    "    infected_2_ot_eli.append((infected_2 / float(len(network)))  * population['Population'].sum())\n",
    "    critical_ot_eli.append((critical / float(len(network)))  * population['Population'].sum())\n",
    "    dead_ot_eli.append((dead / float(len(network)))  * population['Population'].sum())\n",
    "    recovered_ot_eli.append((recovered / float(len(network)))  * population['Population'].sum())"
   ]
  },
  {
   "cell_type": "code",
   "execution_count": 79,
   "metadata": {},
   "outputs": [
    {
     "data": {
      "text/plain": [
       "(0, 3740030.74811)"
      ]
     },
     "execution_count": 79,
     "metadata": {},
     "output_type": "execute_result"
    },
    {
     "data": {
      "image/png": "[encoded data removed]",
      "text/plain": [
       "<Figure size 1008x576 with 1 Axes>"
      ]
     },
     "metadata": {},
     "output_type": "display_data"
    }
   ],
   "source": [
    "fig, ax = plt.subplots(figsize=(14,8))\n",
    "\n",
    "x = [x for x in range(parameters['time'])]\n",
    "\n",
    "labels = ['critical', 'infected-2', 'infected-1', 'recovered', 'susceptible', 'dead']\n",
    "\n",
    "y = np.vstack([critical_ot_eli, infected_2_ot_eli, infected_1_ot_eli, recovered_ot_eli, susceptible_ot_eli, dead_ot_eli])\n",
    "\n",
    "ax.axhline(parameters['health_system_capacity'] * population['Population'].sum(), color='black')\n",
    "\n",
    "pal = [\"#f9b4ad\", \"#1b81c2\", \"#91b7d1\", \"#b7f0a5\", \"#e0e4ec\",\"#000000\"]\n",
    "\n",
    "ax.stackplot(x, y, colors= pal, labels=labels)\n",
    "ax.legend(loc='best', fontsize='14', frameon=True)\n",
    "ax.set_ylabel('Cape Town population', fontsize='14')\n",
    "ax.set_xlabel('Days', fontsize='14')\n",
    "\n",
    "ax.axvline(35)\n",
    "\n",
    "plt.xlim([0,parameters['time']])\n",
    "plt.ylim([0, population['Population'].sum()])\n",
    "\n",
    "#fig.savefig('measurement/the_curve.png')"
   ]
  },
  {
   "cell_type": "markdown",
   "metadata": {},
   "source": [
    "# Tha picture"
   ]
  },
  {
   "cell_type": "code",
   "execution_count": 84,
   "metadata": {},
   "outputs": [
    {
     "data": {
      "image/png": "[encoded data removed]",
      "text/plain": [
       "<Figure size 1584x864 with 4 Axes>"
      ]
     },
     "metadata": {},
     "output_type": "display_data"
    }
   ],
   "source": [
    "fig, ((ax_base, ax3), (ax, ax4)) = plt.subplots(2, 2, figsize=(22,12))\n",
    "\n",
    "x = [x for x in range(parameters['time'])]\n",
    "\n",
    "labels = ['critical', 'infected-2', 'infected-1', 'recovered', 'susceptible', 'dead']\n",
    "\n",
    "y = np.vstack([critical_ot_li, infected_2_ot_li, infected_1_ot_li, recovered_ot_li, susceptible_ot_li, dead_ot_li])\n",
    "\n",
    "ax.axhline(parameters['health_system_capacity'] * population['Population'].sum(), color='black')\n",
    "ax.axvline(parameters[\"lockdown_days\"][0], color='black')\n",
    "ax.axvline(parameters[\"lockdown_days\"][-1], color='black')\n",
    "\n",
    "pal = [\"#f9b4ad\", \"#1b81c2\", \"#91b7d1\", \"#b7f0a5\", \"#e0e4ec\",\"#000000\"]\n",
    "\n",
    "ax.stackplot(x, y, colors= pal, labels=labels)\n",
    "ax.legend(loc='best', fontsize='14', frameon=True)\n",
    "ax.set_ylabel('Cape Town population', fontsize='14')\n",
    "#ax.set_xlabel('Days', fontsize='14')\n",
    "\n",
    "ax.set_xlim([0,parameters['time']])\n",
    "ax.set_ylim([0, population['Population'].sum()])\n",
    "ax.set_title('ineffective lock down', fontsize='14')\n",
    "\n",
    "# baseline\n",
    "y_base = np.vstack([critical_ot, infected_2_ot, infected_1_ot, recovered_ot, susceptible_ot, dead_ot])\n",
    "\n",
    "ax_base.axhline(parameters['health_system_capacity'] * population['Population'].sum(), color='black')\n",
    "\n",
    "pal = [\"#f9b4ad\", \"#1b81c2\", \"#91b7d1\", \"#b7f0a5\", \"#e0e4ec\",\"#000000\"]\n",
    "\n",
    "ax_base.stackplot(x, y_base, colors= pal, labels=labels)\n",
    "#ax_base.legend(loc='best', fontsize='14', frameon=True)\n",
    "ax_base.set_ylabel('Cape Town population', fontsize='14')\n",
    "#ax_base.set_xlabel('Days', fontsize='14')\n",
    "\n",
    "ax_base.set_xlim([0,parameters['time']])\n",
    "ax_base.set_ylim([0, population['Population'].sum()])\n",
    "\n",
    "ax_base.set_title('no intervention', fontsize='14')\n",
    "\n",
    "# lockdown\n",
    "y3 = np.vstack([critical_ot_l, infected_2_ot_l, infected_1_ot_l, recovered_ot_l, susceptible_ot_l, dead_ot_l])\n",
    "\n",
    "ax3.axhline(parameters['health_system_capacity'] * population['Population'].sum(), color='black')\n",
    "ax3.axvline(parameters[\"lockdown_days\"][0], color='black')\n",
    "ax3.axvline(parameters[\"lockdown_days\"][-1], color='black')\n",
    "\n",
    "pal = [\"#f9b4ad\", \"#1b81c2\", \"#91b7d1\", \"#b7f0a5\", \"#e0e4ec\",\"#000000\"]\n",
    "\n",
    "ax3.stackplot(x, y3, colors= pal, labels=labels)\n",
    "#ax3.legend(loc='best', fontsize='14', frameon=True)\n",
    "ax3.set_ylabel('Cape Town population', fontsize='14')\n",
    "ax3.set_xlabel('Days', fontsize='14')\n",
    "\n",
    "ax3.set_xlim([0,parameters['time']])\n",
    "ax3.set_ylim([0, population['Population'].sum()])\n",
    "ax3.set_title('lock down', fontsize='14')\n",
    "\n",
    "# ineffective elderly lockdown\n",
    "y4 = np.vstack([critical_ot_eli, infected_2_ot_eli, infected_1_ot_eli, recovered_ot_eli, susceptible_ot_eli, dead_ot_eli])\n",
    "\n",
    "ax4.axhline(parameters['health_system_capacity'] * population['Population'].sum(), color='black')\n",
    "ax4.axvline(parameters[\"lockdown_days\"][0], color='black')\n",
    "ax4.axvline(parameters[\"lockdown_days\"][-1], color='black')\n",
    "\n",
    "pal = [\"#f9b4ad\", \"#1b81c2\", \"#91b7d1\", \"#b7f0a5\", \"#e0e4ec\",\"#000000\"]\n",
    "\n",
    "ax4.stackplot(x, y4, colors= pal, labels=labels)\n",
    "#ax4.legend(loc='best', fontsize='14', frameon=True)\n",
    "ax4.set_ylabel('Cape Town population', fontsize='14')\n",
    "ax4.set_xlabel('Days', fontsize='14')\n",
    "\n",
    "ax4.set_xlim([0,parameters['time']])\n",
    "ax4.set_ylim([0, population['Population'].sum()])\n",
    "ax4.set_title('elderly inef lock down', fontsize='14')\n",
    "\n",
    "fig.savefig('measurement/3experiments.png')"
   ]
  },
  {
   "cell_type": "markdown",
   "metadata": {},
   "source": [
    "# Table"
   ]
  },
  {
   "cell_type": "code",
   "execution_count": 81,
   "metadata": {},
   "outputs": [],
   "source": [
    "# total dead\n",
    "columns = ['total dead', 'peak critical', 'total recovered']\n",
    "experiment_summary = {'1 no intervention': [int(dead_ot[-1]), int(max(critical_ot)), int(recovered_ot[-1])],\n",
    "                      '1 (relative)': [100, 100, 100],\n",
    "                      '2 hard lockdown': [int(dead_ot_l[-1]), int(max(critical_ot_l)), int(recovered_ot_l[-1])],\n",
    "                      '2 (relative)': [dead_ot_l[-1] / dead_ot[-1], max(critical_ot_l) / max(critical_ot), recovered_ot_l[-1] / recovered_ot[-1]],\n",
    "                      '3 inefficient hard lockdown': [int(dead_ot_li[-1]), int(max(critical_ot_li)), int(recovered_ot_li[-1])],\n",
    "                      '3 (relative)': [dead_ot_li[-1] / dead_ot[-1], max(critical_ot_li) / max(critical_ot), recovered_ot_li[-1] / recovered_ot[-1]],\n",
    "                      '4 at risk agents lockdown':[int(dead_ot_eli[-1]), int(max(critical_ot_eli)), int(recovered_ot_eli[-1])],\n",
    "                      '4 (relative)': [dead_ot_eli[-1] / dead_ot[-1], max(critical_ot_eli) / max(critical_ot), recovered_ot_eli[-1] / recovered_ot[-1]],\n",
    "                     }"
   ]
  },
  {
   "cell_type": "code",
   "execution_count": 82,
   "metadata": {},
   "outputs": [],
   "source": [
    "experiment_summary = pd.DataFrame(experiment_summary).transpose()\n",
    "experiment_summary.columns = columns"
   ]
  },
  {
   "cell_type": "code",
   "execution_count": 83,
   "metadata": {},
   "outputs": [
    {
     "data": {
      "text/html": [
       "<div>\n",
       "<style scoped>\n",
       "    .dataframe tbody tr th:only-of-type {\n",
       "        vertical-align: middle;\n",
       "    }\n",
       "\n",
       "    .dataframe tbody tr th {\n",
       "        vertical-align: top;\n",
       "    }\n",
       "\n",
       "    .dataframe thead th {\n",
       "        text-align: right;\n",
       "    }\n",
       "</style>\n",
       "<table border=\"1\" class=\"dataframe\">\n",
       "  <thead>\n",
       "    <tr style=\"text-align: right;\">\n",
       "      <th></th>\n",
       "      <th>total dead</th>\n",
       "      <th>peak critical</th>\n",
       "      <th>total recovered</th>\n",
       "    </tr>\n",
       "  </thead>\n",
       "  <tbody>\n",
       "    <tr>\n",
       "      <th>1 no intervention</th>\n",
       "      <td>48913.00</td>\n",
       "      <td>18813.0</td>\n",
       "      <td>2084483.00</td>\n",
       "    </tr>\n",
       "    <tr>\n",
       "      <th>1 (relative)</th>\n",
       "      <td>100.00</td>\n",
       "      <td>100.0</td>\n",
       "      <td>100.00</td>\n",
       "    </tr>\n",
       "    <tr>\n",
       "      <th>2 hard lockdown</th>\n",
       "      <td>18813.00</td>\n",
       "      <td>15050.0</td>\n",
       "      <td>1587819.00</td>\n",
       "    </tr>\n",
       "    <tr>\n",
       "      <th>2 (relative)</th>\n",
       "      <td>0.38</td>\n",
       "      <td>0.8</td>\n",
       "      <td>0.76</td>\n",
       "    </tr>\n",
       "    <tr>\n",
       "      <th>3 inefficient hard lockdown</th>\n",
       "      <td>15050.00</td>\n",
       "      <td>15050.0</td>\n",
       "      <td>1689410.00</td>\n",
       "    </tr>\n",
       "    <tr>\n",
       "      <th>3 (relative)</th>\n",
       "      <td>0.31</td>\n",
       "      <td>0.8</td>\n",
       "      <td>0.81</td>\n",
       "    </tr>\n",
       "    <tr>\n",
       "      <th>4 at risk agents lockdown</th>\n",
       "      <td>30100.00</td>\n",
       "      <td>15050.0</td>\n",
       "      <td>1787238.00</td>\n",
       "    </tr>\n",
       "    <tr>\n",
       "      <th>4 (relative)</th>\n",
       "      <td>0.62</td>\n",
       "      <td>0.8</td>\n",
       "      <td>0.86</td>\n",
       "    </tr>\n",
       "  </tbody>\n",
       "</table>\n",
       "</div>"
      ],
      "text/plain": [
       "                             total dead  peak critical  total recovered\n",
       "1 no intervention              48913.00        18813.0       2084483.00\n",
       "1 (relative)                     100.00          100.0           100.00\n",
       "2 hard lockdown                18813.00        15050.0       1587819.00\n",
       "2 (relative)                       0.38            0.8             0.76\n",
       "3 inefficient hard lockdown    15050.00        15050.0       1689410.00\n",
       "3 (relative)                       0.31            0.8             0.81\n",
       "4 at risk agents lockdown      30100.00        15050.0       1787238.00\n",
       "4 (relative)                       0.62            0.8             0.86"
      ]
     },
     "execution_count": 83,
     "metadata": {},
     "output_type": "execute_result"
    }
   ],
   "source": [
    "experiment_summary.round(2)"
   ]
  },
  {
   "cell_type": "markdown",
   "metadata": {},
   "source": [
    "# 5 stages of lockdown"
   ]
  },
  {
   "cell_type": "code",
   "execution_count": 86,
   "metadata": {},
   "outputs": [],
   "source": [
    "# load parameters\n",
    "susceptible_ot_all = []\n",
    "infected_1_ot_all = []\n",
    "infected_2_ot_all = []\n",
    "critical_ot_all = []\n",
    "dead_ot_all = []\n",
    "recovered_ot_all = []\n",
    "\n",
    "for r in range(5):\n",
    "    stage = r + 1\n",
    "    with open('parameters/phases/parameters_phase{}.json'.format(stage)) as json_file:\n",
    "        parameters = json.load(json_file)\n",
    "\n",
    "    parameters['number_of_agents'] = 1000\n",
    "    parameters['probability_transmission'] = 0.13\n",
    "    parameters['probability_to_travel'] = 0.25\n",
    "\n",
    "    data_folder = 'measurement/lock_down_elderly/'\n",
    "    environment = Environment(0, parameters, districts_data, age_distribution_per_district, distance_matrix)\n",
    "\n",
    "    environment = runner(environment, 0, data_folder=data_folder, data_output='network', travel_matrix=travel_matrix)\n",
    "\n",
    "    for idx, network in enumerate(environment.infection_states):\n",
    "            for i, node in enumerate(network.nodes):\n",
    "                network.nodes[i]['agent'] = network.nodes[i]['agent'].status\n",
    "                \n",
    "    susceptible_ot_eli = []\n",
    "    infected_1_ot_eli = []\n",
    "    infected_2_ot_eli = []\n",
    "    critical_ot_eli = []\n",
    "    dead_ot_eli = []\n",
    "    recovered_ot_eli = []\n",
    "\n",
    "    for t in range(parameters['time']):\n",
    "        network = environment.infection_states[t]\n",
    "        susceptible = 0\n",
    "        infected_1 = 0\n",
    "        infected_2 = 0\n",
    "        critical = 0\n",
    "        dead = 0\n",
    "        recovered = 0\n",
    "        for idx, node in enumerate(network):\n",
    "            if network.nodes[idx]['agent'] == 's':\n",
    "                susceptible += 1\n",
    "            elif network.nodes[idx]['agent'] == 'i1':\n",
    "                infected_1 += 1\n",
    "            elif network.nodes[idx]['agent'] == 'i2':\n",
    "                infected_2 += 1\n",
    "            elif network.nodes[idx]['agent'] == 'c':\n",
    "                critical += 1\n",
    "            elif network.nodes[idx]['agent'] == 'd':\n",
    "                dead += 1\n",
    "            elif network.nodes[idx]['agent'] == 'r':\n",
    "                recovered +=1\n",
    "            else:\n",
    "                print('no status?')\n",
    "\n",
    "        susceptible_ot_eli.append((susceptible / float(len(network))) * population['Population'].sum())\n",
    "        infected_1_ot_eli.append((infected_1 / float(len(network))) * population['Population'].sum())\n",
    "        infected_2_ot_eli.append((infected_2 / float(len(network)))  * population['Population'].sum())\n",
    "        critical_ot_eli.append((critical / float(len(network)))  * population['Population'].sum())\n",
    "        dead_ot_eli.append((dead / float(len(network)))  * population['Population'].sum())\n",
    "        recovered_ot_eli.append((recovered / float(len(network)))  * population['Population'].sum())\n",
    "        \n",
    "        susceptible_ot_all.append(susceptible_ot_eli)\n",
    "        infected_1_ot_all.append(infected_1_ot_eli)\n",
    "        infected_2_ot_all.append(infected_2_ot_eli)\n",
    "        critical_ot_all.append(critical_ot_eli)\n",
    "        dead_ot_all.append(dead_ot_eli)\n",
    "        recovered_ot_all.append(recovered_ot_eli)"
   ]
  },
  {
   "cell_type": "code",
   "execution_count": 88,
   "metadata": {},
   "outputs": [],
   "source": [
    "# total dead\n",
    "columns = ['total dead', 'peak critical', 'total recovered']\n",
    "experiment_summary = {'0 no intervention': [int(dead_ot[-1]), int(max(critical_ot)), int(recovered_ot[-1])],\n",
    "                      '0 (relative)': [100, 100, 100],\n",
    "                      '1 Stage 1': [int(dead_ot_all[0][-1]), int(max(critical_ot_all[0])), int(recovered_ot_all[0][-1])],\n",
    "                      '1 (relative)': [dead_ot_all[0][-1] / dead_ot[-1], max(critical_ot_all[0]) / max(critical_ot), recovered_ot_all[0][-1] / recovered_ot[-1]],\n",
    "                      '2 Stage 2': [int(dead_ot_all[1][-1]), int(max(critical_ot_all[1])), int(recovered_ot_all[1][-1])],\n",
    "                      '2 (relative)': [dead_ot_all[1][-1] / dead_ot[-1], max(critical_ot_all[1]) / max(critical_ot), recovered_ot_all[1][-1] / recovered_ot[-1]],\n",
    "                      '3 Stage 3':[int(dead_ot_all[2][-1]), int(max(critical_ot_all[2])), int(recovered_ot_all[2][-1])],\n",
    "                      '3 (relative)': [dead_ot_all[2][-1] / dead_ot[-1], max(critical_ot_all[2]) / max(critical_ot), recovered_ot_all[2][-1] / recovered_ot[-1]],\n",
    "                      '4 Stage 4': [int(dead_ot_all[3][-1]), int(max(critical_ot_all[3])), int(recovered_ot_all[3][-1])],\n",
    "                      '4 (relative)': [dead_ot_all[3][-1] / dead_ot[-1], max(critical_ot_all[3]) / max(critical_ot), recovered_ot_all[3][-1] / recovered_ot[-1]],\n",
    "                      '5 Stage 5':[int(dead_ot_all[4][-1]), int(max(critical_ot_all[4])), int(recovered_ot_all[4][-1])],\n",
    "                      '5 (relative)': [dead_ot_all[4][-1] / dead_ot[-1], max(critical_ot_all[4]) / max(critical_ot), recovered_ot_all[4][-1] / recovered_ot[-1]],\n",
    "                     }"
   ]
  },
  {
   "cell_type": "code",
   "execution_count": 89,
   "metadata": {},
   "outputs": [],
   "source": [
    "experiment_summary = pd.DataFrame(experiment_summary).transpose()\n",
    "experiment_summary.columns = columns"
   ]
  },
  {
   "cell_type": "code",
   "execution_count": 90,
   "metadata": {},
   "outputs": [
    {
     "data": {
      "text/html": [
       "<div>\n",
       "<style scoped>\n",
       "    .dataframe tbody tr th:only-of-type {\n",
       "        vertical-align: middle;\n",
       "    }\n",
       "\n",
       "    .dataframe tbody tr th {\n",
       "        vertical-align: top;\n",
       "    }\n",
       "\n",
       "    .dataframe thead th {\n",
       "        text-align: right;\n",
       "    }\n",
       "</style>\n",
       "<table border=\"1\" class=\"dataframe\">\n",
       "  <thead>\n",
       "    <tr style=\"text-align: right;\">\n",
       "      <th></th>\n",
       "      <th>total dead</th>\n",
       "      <th>peak critical</th>\n",
       "      <th>total recovered</th>\n",
       "    </tr>\n",
       "  </thead>\n",
       "  <tbody>\n",
       "    <tr>\n",
       "      <th>0 no intervention</th>\n",
       "      <td>48913.00</td>\n",
       "      <td>18813.0</td>\n",
       "      <td>2084483.00</td>\n",
       "    </tr>\n",
       "    <tr>\n",
       "      <th>0 (relative)</th>\n",
       "      <td>100.00</td>\n",
       "      <td>100.0</td>\n",
       "      <td>100.00</td>\n",
       "    </tr>\n",
       "    <tr>\n",
       "      <th>1 Stage 1</th>\n",
       "      <td>18813.00</td>\n",
       "      <td>22575.0</td>\n",
       "      <td>2031807.00</td>\n",
       "    </tr>\n",
       "    <tr>\n",
       "      <th>1 (relative)</th>\n",
       "      <td>0.38</td>\n",
       "      <td>1.2</td>\n",
       "      <td>0.97</td>\n",
       "    </tr>\n",
       "    <tr>\n",
       "      <th>2 Stage 2</th>\n",
       "      <td>18813.00</td>\n",
       "      <td>22575.0</td>\n",
       "      <td>2031807.00</td>\n",
       "    </tr>\n",
       "    <tr>\n",
       "      <th>2 (relative)</th>\n",
       "      <td>0.38</td>\n",
       "      <td>1.2</td>\n",
       "      <td>0.97</td>\n",
       "    </tr>\n",
       "    <tr>\n",
       "      <th>3 Stage 3</th>\n",
       "      <td>18813.00</td>\n",
       "      <td>22575.0</td>\n",
       "      <td>2031807.00</td>\n",
       "    </tr>\n",
       "    <tr>\n",
       "      <th>3 (relative)</th>\n",
       "      <td>0.38</td>\n",
       "      <td>1.2</td>\n",
       "      <td>0.97</td>\n",
       "    </tr>\n",
       "    <tr>\n",
       "      <th>4 Stage 4</th>\n",
       "      <td>18813.00</td>\n",
       "      <td>22575.0</td>\n",
       "      <td>2031807.00</td>\n",
       "    </tr>\n",
       "    <tr>\n",
       "      <th>4 (relative)</th>\n",
       "      <td>0.38</td>\n",
       "      <td>1.2</td>\n",
       "      <td>0.97</td>\n",
       "    </tr>\n",
       "    <tr>\n",
       "      <th>5 Stage 5</th>\n",
       "      <td>18813.00</td>\n",
       "      <td>22575.0</td>\n",
       "      <td>2031807.00</td>\n",
       "    </tr>\n",
       "    <tr>\n",
       "      <th>5 (relative)</th>\n",
       "      <td>0.38</td>\n",
       "      <td>1.2</td>\n",
       "      <td>0.97</td>\n",
       "    </tr>\n",
       "  </tbody>\n",
       "</table>\n",
       "</div>"
      ],
      "text/plain": [
       "                   total dead  peak critical  total recovered\n",
       "0 no intervention    48913.00        18813.0       2084483.00\n",
       "0 (relative)           100.00          100.0           100.00\n",
       "1 Stage 1            18813.00        22575.0       2031807.00\n",
       "1 (relative)             0.38            1.2             0.97\n",
       "2 Stage 2            18813.00        22575.0       2031807.00\n",
       "2 (relative)             0.38            1.2             0.97\n",
       "3 Stage 3            18813.00        22575.0       2031807.00\n",
       "3 (relative)             0.38            1.2             0.97\n",
       "4 Stage 4            18813.00        22575.0       2031807.00\n",
       "4 (relative)             0.38            1.2             0.97\n",
       "5 Stage 5            18813.00        22575.0       2031807.00\n",
       "5 (relative)             0.38            1.2             0.97"
      ]
     },
     "execution_count": 90,
     "metadata": {},
     "output_type": "execute_result"
    }
   ],
   "source": [
    "experiment_summary.round(2)"
   ]
  }
 ],
 "metadata": {
  "kernelspec": {
   "display_name": "Python 3",
   "language": "python",
   "name": "python3"
  },
  "language_info": {
   "codemirror_mode": {
    "name": "ipython",
    "version": 3
   },
   "file_extension": ".py",
   "mimetype": "text/x-python",
   "name": "python",
   "nbconvert_exporter": "python",
   "pygments_lexer": "ipython3",
   "version": "3.7.3"
  }
 },
 "nbformat": 4,
 "nbformat_minor": 2
}
