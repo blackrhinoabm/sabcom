{
 "cells": [
  {
   "cell_type": "code",
   "execution_count": 1,
   "metadata": {},
   "outputs": [],
   "source": [
    "import numpy as np\n",
    "import pandas as pd\n",
    "import matplotlib.pyplot as plt\n",
    "from matplotlib import style\n",
    "import time\n",
    "import ipywidgets as wg\n",
    "from ipywidgets import interact\n",
    "from IPython.display import display\n",
    "import networkx as nx\n",
    "from src.environment import Environment\n",
    "from src.runner import runner\n",
    "from src.helpers import confidence_interval\n",
    "from sklearn import preprocessing\n",
    "import random\n",
    "import json"
   ]
  },
  {
   "cell_type": "code",
   "execution_count": 2,
   "metadata": {},
   "outputs": [],
   "source": [
    "style.use('seaborn-white')"
   ]
  },
  {
   "cell_type": "markdown",
   "metadata": {},
   "source": [
    "### 1 load general the parameters"
   ]
  },
  {
   "cell_type": "code",
   "execution_count": 3,
   "metadata": {},
   "outputs": [],
   "source": [
    "with open('parameters/parameters.json') as json_file:\n",
    "    parameters = json.load(json_file)\n",
    "\n",
    "parameters['data_output'] = 'network'"
   ]
  },
  {
   "cell_type": "markdown",
   "metadata": {},
   "source": [
    "## 2 load district data\n",
    "### 2.1 general neighbourhood data"
   ]
  },
  {
   "cell_type": "code",
   "execution_count": 23,
   "metadata": {},
   "outputs": [],
   "source": [
    "population = pd.read_csv('input_data/population.csv')\n",
    "with open('parameters/district_data.json') as json_file:\n",
    "    districts_data = json.load(json_file)"
   ]
  },
  {
   "cell_type": "markdown",
   "metadata": {},
   "source": [
    "### 2.2 age data"
   ]
  },
  {
   "cell_type": "code",
   "execution_count": 5,
   "metadata": {},
   "outputs": [],
   "source": [
    "age_distribution = pd.read_csv('input_data/age_dist.csv', sep=';', index_col=0)\n",
    "age_distribution_per_ward = dict(age_distribution.transpose())"
   ]
  },
  {
   "cell_type": "markdown",
   "metadata": {},
   "source": [
    "### 2.3 household size distribution"
   ]
  },
  {
   "cell_type": "code",
   "execution_count": 6,
   "metadata": {},
   "outputs": [],
   "source": [
    "HH_size_distribution = pd.read_excel('input_data/HH_Size_Distribution.xlsx', index_col=0)"
   ]
  },
  {
   "cell_type": "markdown",
   "metadata": {},
   "source": [
    "### 3 Load travel matrix"
   ]
  },
  {
   "cell_type": "code",
   "execution_count": 7,
   "metadata": {},
   "outputs": [],
   "source": [
    "travel_matrix = pd.read_csv('input_data/Travel_Probability_Matrix.csv', index_col=0)"
   ]
  },
  {
   "cell_type": "markdown",
   "metadata": {},
   "source": [
    "### 4 load contact matrices"
   ]
  },
  {
   "cell_type": "code",
   "execution_count": 10,
   "metadata": {},
   "outputs": [
    {
     "data": {
      "text/html": [
       "<div>\n",
       "<style scoped>\n",
       "    .dataframe tbody tr th:only-of-type {\n",
       "        vertical-align: middle;\n",
       "    }\n",
       "\n",
       "    .dataframe tbody tr th {\n",
       "        vertical-align: top;\n",
       "    }\n",
       "\n",
       "    .dataframe thead th {\n",
       "        text-align: right;\n",
       "    }\n",
       "</style>\n",
       "<table border=\"1\" class=\"dataframe\">\n",
       "  <thead>\n",
       "    <tr style=\"text-align: right;\">\n",
       "      <th></th>\n",
       "      <th>age_0_10</th>\n",
       "      <th>age_10_20</th>\n",
       "      <th>age_20_30</th>\n",
       "      <th>age_30_40</th>\n",
       "      <th>age_40_50</th>\n",
       "      <th>age_50_60</th>\n",
       "      <th>age_60_70</th>\n",
       "      <th>age_70_80</th>\n",
       "      <th>age_80_plus</th>\n",
       "    </tr>\n",
       "  </thead>\n",
       "  <tbody>\n",
       "    <tr>\n",
       "      <th>age_40_50</th>\n",
       "      <td>2.253095</td>\n",
       "      <td>2.955304</td>\n",
       "      <td>0.758483</td>\n",
       "      <td>0.551277</td>\n",
       "      <td>0.919833</td>\n",
       "      <td>0.261975</td>\n",
       "      <td>0.117089</td>\n",
       "      <td>0.054478</td>\n",
       "      <td>0.054478</td>\n",
       "    </tr>\n",
       "    <tr>\n",
       "      <th>age_50_60</th>\n",
       "      <td>2.116400</td>\n",
       "      <td>2.029506</td>\n",
       "      <td>1.354067</td>\n",
       "      <td>0.627219</td>\n",
       "      <td>0.517762</td>\n",
       "      <td>0.751442</td>\n",
       "      <td>0.250477</td>\n",
       "      <td>0.071602</td>\n",
       "      <td>0.071602</td>\n",
       "    </tr>\n",
       "    <tr>\n",
       "      <th>age_60_70</th>\n",
       "      <td>2.212612</td>\n",
       "      <td>1.596379</td>\n",
       "      <td>0.755693</td>\n",
       "      <td>1.028083</td>\n",
       "      <td>0.489259</td>\n",
       "      <td>0.492916</td>\n",
       "      <td>0.492501</td>\n",
       "      <td>0.096553</td>\n",
       "      <td>0.096553</td>\n",
       "    </tr>\n",
       "    <tr>\n",
       "      <th>age_70_80</th>\n",
       "      <td>1.358831</td>\n",
       "      <td>1.950255</td>\n",
       "      <td>0.381467</td>\n",
       "      <td>0.645779</td>\n",
       "      <td>0.823869</td>\n",
       "      <td>0.541214</td>\n",
       "      <td>0.326529</td>\n",
       "      <td>0.273560</td>\n",
       "      <td>0.273560</td>\n",
       "    </tr>\n",
       "    <tr>\n",
       "      <th>age_80_plus</th>\n",
       "      <td>1.358831</td>\n",
       "      <td>1.950255</td>\n",
       "      <td>0.381467</td>\n",
       "      <td>0.645779</td>\n",
       "      <td>0.823869</td>\n",
       "      <td>0.541214</td>\n",
       "      <td>0.326529</td>\n",
       "      <td>0.273560</td>\n",
       "      <td>0.273560</td>\n",
       "    </tr>\n",
       "  </tbody>\n",
       "</table>\n",
       "</div>"
      ],
      "text/plain": [
       "             age_0_10  age_10_20  age_20_30  age_30_40  age_40_50  age_50_60  \\\n",
       "age_40_50    2.253095   2.955304   0.758483   0.551277   0.919833   0.261975   \n",
       "age_50_60    2.116400   2.029506   1.354067   0.627219   0.517762   0.751442   \n",
       "age_60_70    2.212612   1.596379   0.755693   1.028083   0.489259   0.492916   \n",
       "age_70_80    1.358831   1.950255   0.381467   0.645779   0.823869   0.541214   \n",
       "age_80_plus  1.358831   1.950255   0.381467   0.645779   0.823869   0.541214   \n",
       "\n",
       "             age_60_70  age_70_80  age_80_plus  \n",
       "age_40_50     0.117089   0.054478     0.054478  \n",
       "age_50_60     0.250477   0.071602     0.071602  \n",
       "age_60_70     0.492501   0.096553     0.096553  \n",
       "age_70_80     0.326529   0.273560     0.273560  \n",
       "age_80_plus   0.326529   0.273560     0.273560  "
      ]
     },
     "execution_count": 10,
     "metadata": {},
     "output_type": "execute_result"
    }
   ],
   "source": [
    "age_groups = ['age_0_10', 'age_10_20', 'age_20_30', 'age_30_40', 'age_40_50', \n",
    "              'age_50_60', 'age_60_70', 'age_70_80', 'age_80_plus']\n",
    "\n",
    "hh_contact_matrix = pd.read_excel('input_data/ContactMatrices_10year.xlsx', sheet_name=\"Home\", index_col=0)\n",
    "hh_contact_matrix['80plus'] = hh_contact_matrix['70_80']\n",
    "row = hh_contact_matrix.xs('70_80')\n",
    "row.name = '80plus'\n",
    "hh_contact_matrix = hh_contact_matrix.append(row)\n",
    "hh_contact_matrix.columns = age_groups\n",
    "hh_contact_matrix.index = age_groups\n",
    "hh_contact_matrix.tail()"
   ]
  },
  {
   "cell_type": "code",
   "execution_count": 11,
   "metadata": {},
   "outputs": [],
   "source": [
    "other_contact_matrix = pd.read_excel('input_data/ContactMatrices_10year.xlsx', sheet_name=\"OutsideOfHome\", index_col=0)\n",
    "other_contact_matrix['80plus'] = other_contact_matrix['70_80']\n",
    "row = other_contact_matrix.xs('70_80')\n",
    "row.name = '80plus'\n",
    "other_contact_matrix = other_contact_matrix.append(row)"
   ]
  },
  {
   "cell_type": "code",
   "execution_count": 12,
   "metadata": {},
   "outputs": [
    {
     "data": {
      "text/html": [
       "<div>\n",
       "<style scoped>\n",
       "    .dataframe tbody tr th:only-of-type {\n",
       "        vertical-align: middle;\n",
       "    }\n",
       "\n",
       "    .dataframe tbody tr th {\n",
       "        vertical-align: top;\n",
       "    }\n",
       "\n",
       "    .dataframe thead th {\n",
       "        text-align: right;\n",
       "    }\n",
       "</style>\n",
       "<table border=\"1\" class=\"dataframe\">\n",
       "  <thead>\n",
       "    <tr style=\"text-align: right;\">\n",
       "      <th></th>\n",
       "      <th>age_0_10</th>\n",
       "      <th>age_10_20</th>\n",
       "      <th>age_20_30</th>\n",
       "      <th>age_30_40</th>\n",
       "      <th>age_40_50</th>\n",
       "      <th>age_50_60</th>\n",
       "      <th>age_60_70</th>\n",
       "      <th>age_70_80</th>\n",
       "      <th>age_80_plus</th>\n",
       "    </tr>\n",
       "  </thead>\n",
       "  <tbody>\n",
       "    <tr>\n",
       "      <th>age_40_50</th>\n",
       "      <td>0.936986</td>\n",
       "      <td>1.795734</td>\n",
       "      <td>2.990596</td>\n",
       "      <td>4.389360</td>\n",
       "      <td>4.084917</td>\n",
       "      <td>1.529587</td>\n",
       "      <td>0.411306</td>\n",
       "      <td>0.069938</td>\n",
       "      <td>0.069938</td>\n",
       "    </tr>\n",
       "    <tr>\n",
       "      <th>age_50_60</th>\n",
       "      <td>1.133118</td>\n",
       "      <td>1.796612</td>\n",
       "      <td>2.211269</td>\n",
       "      <td>2.551218</td>\n",
       "      <td>2.594140</td>\n",
       "      <td>1.442162</td>\n",
       "      <td>0.423644</td>\n",
       "      <td>0.067261</td>\n",
       "      <td>0.067261</td>\n",
       "    </tr>\n",
       "    <tr>\n",
       "      <th>age_60_70</th>\n",
       "      <td>0.335845</td>\n",
       "      <td>0.356584</td>\n",
       "      <td>1.160314</td>\n",
       "      <td>1.580916</td>\n",
       "      <td>1.352913</td>\n",
       "      <td>0.837078</td>\n",
       "      <td>0.467923</td>\n",
       "      <td>0.109021</td>\n",
       "      <td>0.109021</td>\n",
       "    </tr>\n",
       "    <tr>\n",
       "      <th>age_70_80</th>\n",
       "      <td>0.106631</td>\n",
       "      <td>0.191972</td>\n",
       "      <td>0.270984</td>\n",
       "      <td>0.332783</td>\n",
       "      <td>0.307072</td>\n",
       "      <td>0.231345</td>\n",
       "      <td>0.232494</td>\n",
       "      <td>0.152254</td>\n",
       "      <td>0.152254</td>\n",
       "    </tr>\n",
       "    <tr>\n",
       "      <th>age_80_plus</th>\n",
       "      <td>0.106631</td>\n",
       "      <td>0.191972</td>\n",
       "      <td>0.270984</td>\n",
       "      <td>0.332783</td>\n",
       "      <td>0.307072</td>\n",
       "      <td>0.231345</td>\n",
       "      <td>0.232494</td>\n",
       "      <td>0.152254</td>\n",
       "      <td>0.152254</td>\n",
       "    </tr>\n",
       "  </tbody>\n",
       "</table>\n",
       "</div>"
      ],
      "text/plain": [
       "             age_0_10  age_10_20  age_20_30  age_30_40  age_40_50  age_50_60  \\\n",
       "age_40_50    0.936986   1.795734   2.990596   4.389360   4.084917   1.529587   \n",
       "age_50_60    1.133118   1.796612   2.211269   2.551218   2.594140   1.442162   \n",
       "age_60_70    0.335845   0.356584   1.160314   1.580916   1.352913   0.837078   \n",
       "age_70_80    0.106631   0.191972   0.270984   0.332783   0.307072   0.231345   \n",
       "age_80_plus  0.106631   0.191972   0.270984   0.332783   0.307072   0.231345   \n",
       "\n",
       "             age_60_70  age_70_80  age_80_plus  \n",
       "age_40_50     0.411306   0.069938     0.069938  \n",
       "age_50_60     0.423644   0.067261     0.067261  \n",
       "age_60_70     0.467923   0.109021     0.109021  \n",
       "age_70_80     0.232494   0.152254     0.152254  \n",
       "age_80_plus   0.232494   0.152254     0.152254  "
      ]
     },
     "execution_count": 12,
     "metadata": {},
     "output_type": "execute_result"
    }
   ],
   "source": [
    "# change col and index names to match other data sources\n",
    "other_contact_matrix.columns = age_groups\n",
    "other_contact_matrix.index = age_groups\n",
    "other_contact_matrix.tail()"
   ]
  },
  {
   "cell_type": "markdown",
   "metadata": {},
   "source": [
    "The next step is to either run the model in the SABCoModel.py file or run it here in the notebook. When running it in the notebook the initialization starts here. "
   ]
  },
  {
   "cell_type": "markdown",
   "metadata": {},
   "source": [
    "# Simulation"
   ]
  },
  {
   "cell_type": "code",
   "execution_count": 17,
   "metadata": {},
   "outputs": [],
   "source": [
    "data_folder = 'measurement/baseline/'\n",
    "environment = Environment(0, parameters, districts_data, age_distribution_per_ward,  \n",
    "                          hh_contact_matrix, other_contact_matrix, HH_size_distribution, travel_matrix)\n",
    "\n",
    "environment = runner(environment, 0, data_folder=data_folder, data_output='network')"
   ]
  },
  {
   "cell_type": "markdown",
   "metadata": {},
   "source": [
    "### Save network data"
   ]
  },
  {
   "cell_type": "code",
   "execution_count": 18,
   "metadata": {},
   "outputs": [],
   "source": [
    "for idx, network in enumerate(environment.infection_states):\n",
    "    for i, node in enumerate(network.nodes):\n",
    "        network.nodes[i]['agent'] = network.nodes[i]['agent'].status\n",
    "\n",
    "    nx.write_graphml(network, \"measurement/baseline/network_time{}.graphml\".format(idx))"
   ]
  },
  {
   "cell_type": "markdown",
   "metadata": {},
   "source": [
    "### Read data "
   ]
  },
  {
   "cell_type": "code",
   "execution_count": 19,
   "metadata": {},
   "outputs": [],
   "source": [
    "infection_states = []\n",
    "for idx in range(parameters[\"time\"]):\n",
    "    infection_states.append(nx.read_graphml(\"measurement/baseline/network_time{}.graphml\".format(idx), node_type=int))"
   ]
  },
  {
   "cell_type": "code",
   "execution_count": 24,
   "metadata": {},
   "outputs": [],
   "source": [
    "susceptible_ot = []\n",
    "exposed_ot = []\n",
    "infected_1_ot = []\n",
    "infected_2_ot = []\n",
    "critical_ot = []\n",
    "dead_ot = []\n",
    "recovered_ot = []\n",
    "\n",
    "for t in range(parameters['time']):\n",
    "    network = infection_states[t]\n",
    "    susceptible = 0\n",
    "    exposed = 0\n",
    "    infected_1 = 0\n",
    "    infected_2 = 0\n",
    "    critical = 0\n",
    "    dead = 0\n",
    "    recovered = 0\n",
    "    for idx, node in enumerate(network):\n",
    "        if network.nodes[idx]['agent'] == 's':\n",
    "            susceptible += 1\n",
    "        elif network.nodes[idx]['agent'] == 'e':\n",
    "            exposed += 1\n",
    "        elif network.nodes[idx]['agent'] == 'i1':\n",
    "            infected_1 += 1\n",
    "        elif network.nodes[idx]['agent'] == 'i2':\n",
    "            infected_2 += 1\n",
    "        elif network.nodes[idx]['agent'] == 'c':\n",
    "            critical += 1\n",
    "        elif network.nodes[idx]['agent'] == 'd':\n",
    "            dead += 1\n",
    "        elif network.nodes[idx]['agent'] == 'r':\n",
    "            recovered +=1\n",
    "        else:\n",
    "            print('no status?')\n",
    "    \n",
    "    susceptible_ot.append((susceptible / float(len(network))) * population['Population'].sum())\n",
    "    infected_1_ot.append((infected_1 / float(len(network))) * population['Population'].sum())\n",
    "    infected_2_ot.append((infected_2 / float(len(network)))  * population['Population'].sum())\n",
    "    critical_ot.append((critical / float(len(network)))  * population['Population'].sum())\n",
    "    dead_ot.append((dead / float(len(network)))  * population['Population'].sum())\n",
    "    recovered_ot.append((recovered / float(len(network)))  * population['Population'].sum())\n",
    "    exposed_ot.append((exposed / float(len(network)))  * population['Population'].sum())"
   ]
  },
  {
   "cell_type": "code",
   "execution_count": 25,
   "metadata": {},
   "outputs": [
    {
     "data": {
      "text/plain": [
       "(0, 3740030.74811)"
      ]
     },
     "execution_count": 25,
     "metadata": {},
     "output_type": "execute_result"
    },
    {
     "data": {
      "image/png": "[encoded data removed]",
      "text/plain": [
       "<Figure size 1008x576 with 1 Axes>"
      ]
     },
     "metadata": {},
     "output_type": "display_data"
    }
   ],
   "source": [
    "fig, ax = plt.subplots(figsize=(14,8))\n",
    "\n",
    "x = [x for x in range(parameters['time'])]\n",
    "\n",
    "labels = ['critical','infected-2', 'infected-1', 'exposed', 'recovered', 'susceptible', 'dead']\n",
    "\n",
    "y = np.vstack([critical_ot, infected_2_ot, infected_1_ot, exposed_ot, recovered_ot, susceptible_ot, dead_ot])\n",
    "\n",
    "ax.axhline(parameters['health_system_capacity'] * population['Population'].sum(), color='black')\n",
    "\n",
    "pal = [\"#f9b4ad\", \"#1b81c2\", \"#91b7d1\", \"#b39eb5\", \"#b7f0a5\", \"#e0e4ec\",\"#000000\"]\n",
    "\n",
    "ax.stackplot(x, y, colors= pal, labels=labels)\n",
    "ax.legend(loc='best', fontsize='14', frameon=True)\n",
    "ax.set_ylabel('Cape Town population', fontsize='14')\n",
    "ax.set_xlabel('Days', fontsize='14')\n",
    "\n",
    "plt.xlim([0,parameters['time']])\n",
    "plt.ylim([0, population['Population'].sum()])\n",
    "\n",
    "#fig.savefig('measurement/the_curve.png')"
   ]
  },
  {
   "cell_type": "code",
   "execution_count": 26,
   "metadata": {},
   "outputs": [
    {
     "name": "stdout",
     "output_type": "stream",
     "text": [
      "total_dead =  0.001006036217303823\n",
      "max critical =  0.003018108651911468\n",
      "total_infected =  0.03319919517102616\n"
     ]
    }
   ],
   "source": [
    "print('total_dead = ', dead_ot[-1]/ population['Population'].sum())\n",
    "print('max critical = ', max(critical_ot) / population['Population'].sum())\n",
    "print('total_infected = ', (dead_ot[-1] + recovered_ot[-1]) / population['Population'].sum())"
   ]
  },
  {
   "cell_type": "markdown",
   "metadata": {},
   "source": [
    "## Draw"
   ]
  },
  {
   "cell_type": "code",
   "execution_count": 27,
   "metadata": {},
   "outputs": [],
   "source": [
    "pos = nx.spring_layout(infection_states[0])"
   ]
  },
  {
   "cell_type": "code",
   "execution_count": 28,
   "metadata": {},
   "outputs": [],
   "source": [
    "def plot_model(t):\n",
    "    network = infection_states[t]\n",
    "    color_map = []\n",
    "    for idx, node in enumerate(network):\n",
    "        if network.nodes[idx]['agent'] == 's':\n",
    "            color_map.append('blue')\n",
    "        elif network.nodes[idx]['agent'] == 'e':\n",
    "            color_map.append('pink')\n",
    "        elif network.nodes[idx]['agent'] == 'i1':\n",
    "            color_map.append('purple')\n",
    "        elif network.nodes[idx]['agent'] == 'i2':\n",
    "            color_map.append('red')\n",
    "        elif network.nodes[idx]['agent'] == 'c':\n",
    "            color_map.append('brown')\n",
    "        elif network.nodes[idx]['agent'] == 'd':\n",
    "            color_map.append('black')\n",
    "        elif network.nodes[idx]['agent'] == 'r':\n",
    "            color_map.append('grey')\n",
    "    nx.draw(network, pos=pos, node_color=color_map, with_labels=True)"
   ]
  },
  {
   "cell_type": "code",
   "execution_count": 29,
   "metadata": {},
   "outputs": [
    {
     "data": {
      "application/vnd.jupyter.widget-view+json": {
       "model_id": "dbc23ff5c08346a68b536e4a9078e469",
       "version_major": 2,
       "version_minor": 0
      },
      "text/plain": [
       "interactive(children=(IntSlider(value=0, description='Time step', max=119), Output()), _dom_classes=('widget-i…"
      ]
     },
     "metadata": {},
     "output_type": "display_data"
    },
    {
     "data": {
      "text/plain": [
       "<function __main__.plot_model(t)>"
      ]
     },
     "execution_count": 29,
     "metadata": {},
     "output_type": "execute_result"
    }
   ],
   "source": [
    "time_period = wg.IntSlider(description='Time step', min=0, max=parameters['time']-1)\n",
    "wg.interact(plot_model, t=time_period)"
   ]
  }
 ],
 "metadata": {
  "kernelspec": {
   "display_name": "Python 3",
   "language": "python",
   "name": "python3"
  },
  "language_info": {
   "codemirror_mode": {
    "name": "ipython",
    "version": 3
   },
   "file_extension": ".py",
   "mimetype": "text/x-python",
   "name": "python",
   "nbconvert_exporter": "python",
   "pygments_lexer": "ipython3",
   "version": "3.7.3"
  }
 },
 "nbformat": 4,
 "nbformat_minor": 2
}
