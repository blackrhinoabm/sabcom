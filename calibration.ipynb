{
 "cells": [
  {
   "cell_type": "code",
   "execution_count": 2,
   "metadata": {},
   "outputs": [],
   "source": [
    "import pandas as pd\n",
    "import json\n",
    "from datetime import datetime"
   ]
  },
  {
   "cell_type": "markdown",
   "metadata": {},
   "source": [
    "# Calibration\n",
    "\n",
    "This notebook can be used to set the baseline parameters of the model. It generates the base parameter.json file that is used for all simulations.\n",
    "\n",
    "## 1 Set the general simulation parameters "
   ]
  },
  {
   "cell_type": "code",
   "execution_count": 3,
   "metadata": {},
   "outputs": [],
   "source": [
    "TIME = 350\n",
    "AGENTS = 100000\n",
    "MONTE_CARLO_RUNS = 1\n",
    "CITY = 'cape_town'"
   ]
  },
  {
   "cell_type": "markdown",
   "metadata": {},
   "source": [
    "## 2 Set the start and end dates for the validation period"
   ]
  },
  {
   "cell_type": "code",
   "execution_count": 4,
   "metadata": {},
   "outputs": [],
   "source": [
    "START_DATE = datetime.strptime('2020-03-29', '%Y-%m-%d')\n",
    "END_DATE = datetime.strptime('2020-06-14', '%Y-%m-%d') "
   ]
  },
  {
   "cell_type": "markdown",
   "metadata": {},
   "source": [
    "## 3 Import data\n",
    "\n",
    "### 3.1 Oxford Stringency Index"
   ]
  },
  {
   "cell_type": "code",
   "execution_count": 5,
   "metadata": {},
   "outputs": [],
   "source": [
    "stringency_index = pd.read_csv('input_data/covid-stringency-index.csv')[pd.read_csv('input_data/covid-stringency-index.csv')['Code'] == 'ZAF']\n",
    "stringency_index.index = [datetime.strptime(x, '%b %d, %Y') for x in stringency_index['Date']]\n",
    "stringency_index = stringency_index['Government Response Stringency Index ((0 to 100, 100 = strictest))']"
   ]
  },
  {
   "cell_type": "markdown",
   "metadata": {},
   "source": [
    "### 3.2 Google mobility data"
   ]
  },
  {
   "cell_type": "code",
   "execution_count": 6,
   "metadata": {},
   "outputs": [],
   "source": [
    "mobility_data = pd.read_csv('input_data/Global_Mobility_Report.csv', sep=',', error_bad_lines=False, index_col=False, dtype='unicode')[pd.read_csv('input_data/Global_Mobility_Report.csv', sep=',', error_bad_lines=False, index_col=False, dtype='unicode')['country_region_code'] == 'ZA']\n",
    "mobility_data = mobility_data[mobility_data['sub_region_1'] == 'Western Cape']\n",
    "mobility_data.index = [datetime.strptime(x, '%Y-%m-%d') for x in mobility_data['date']]\n",
    "mobility_data = mobility_data[mobility_data.columns[7:]].astype(float)"
   ]
  },
  {
   "cell_type": "markdown",
   "metadata": {},
   "source": [
    "## 3 Set policy parameters for the duration of the simulation.\n",
    "Policy parameters are input as a list that is as long as the simulation. This way they can change over the course of the simulation, in line with observed policy. \n",
    "\n",
    "The travel multiplier is set using the Google mobility data."
   ]
  },
  {
   "cell_type": "code",
   "execution_count": 7,
   "metadata": {},
   "outputs": [],
   "source": [
    "travel_multipliers = list(1 + mobility_data.mean(axis=1).loc[START_DATE:END_DATE] /100)"
   ]
  },
  {
   "cell_type": "markdown",
   "metadata": {},
   "source": [
    "The maximum number of contacts allowed by the government is based on three trips in a mini bus taxi. A taxi holds 16 people in total (so 15 besides the driver). This is multiplied by 70% which the South African government stipulated was allowed. "
   ]
  },
  {
   "cell_type": "code",
   "execution_count": 8,
   "metadata": {},
   "outputs": [
    {
     "data": {
      "text/plain": [
       "36"
      ]
     },
     "execution_count": 8,
     "metadata": {},
     "output_type": "execute_result"
    }
   ],
   "source": [
    "gathering_max_contacts = int(round((15 * 0.7 + 1))) * 3\n",
    "gathering_max_contacts"
   ]
  },
  {
   "cell_type": "code",
   "execution_count": 9,
   "metadata": {},
   "outputs": [],
   "source": [
    "lockdown_severeness = stringency_index.loc[START_DATE:END_DATE]\n",
    "# omega_1 likelihood awareness\n",
    "likelihood_awareness = [0.08 * (x / 100) for x in lockdown_severeness]\n",
    "# omega_3 maximum contacts allowed\n",
    "max_contacts = [round(gathering_max_contacts * (1 + (1 - (x / 100)))) for x in lockdown_severeness]\n",
    "# omega_4 probability infection multiplier 1−(1−0.91)×0.66\n",
    "inf_multiplier = [1 - ((1 - 0.93) * (x / 100)) for x in lockdown_severeness]  "
   ]
  },
  {
   "cell_type": "markdown",
   "metadata": {},
   "source": [
    "Extend the policy parameters by assuming lockdown stringency on the last day remains constant for the rest of the simulation."
   ]
  },
  {
   "cell_type": "code",
   "execution_count": 10,
   "metadata": {},
   "outputs": [],
   "source": [
    "inf_multiplier = inf_multiplier + [inf_multiplier[-1] for x in range(len(lockdown_severeness), TIME)] # 0.31 was based on a study of face mask on hamsters by Yuen et al. (2020)\n",
    "travel_multipliers = travel_multipliers + [travel_multipliers[-1] for x in range(len(lockdown_severeness), TIME)] \n",
    "likelihood_awareness = likelihood_awareness + [likelihood_awareness[-1] for x in range(len(lockdown_severeness), TIME)] \n",
    "max_contacts = max_contacts + [max_contacts[-1] for x in range(len(lockdown_severeness), TIME)] "
   ]
  },
  {
   "cell_type": "markdown",
   "metadata": {},
   "source": [
    "## 4 Set initial infections and age groups\n",
    "\n",
    "Next, we assume that 14% of infections were detected at the start of the simulation and translate this to the initial number of cases at the start of the simulation. "
   ]
  },
  {
   "cell_type": "code",
   "execution_count": 11,
   "metadata": {},
   "outputs": [
    {
     "data": {
      "text/plain": [
       "59"
      ]
     },
     "execution_count": 11,
     "metadata": {},
     "output_type": "execute_result"
    }
   ],
   "source": [
    "perc_infections_detects = 14\n",
    "initial_agents = max(round((310 / (3740026 / AGENTS) * 100 / perc_infections_detects)), 20) # 310 cases / (population / agent) * 1 / 14% detected cases\n",
    "initial_agents"
   ]
  },
  {
   "cell_type": "markdown",
   "metadata": {},
   "source": [
    "The age groups are per decile. "
   ]
  },
  {
   "cell_type": "code",
   "execution_count": 12,
   "metadata": {},
   "outputs": [],
   "source": [
    "age_groups = ['age_0_10', 'age_10_20', 'age_20_30', 'age_30_40', 'age_40_50', \n",
    "              'age_50_60', 'age_60_70', 'age_70_80', 'age_80_plus']"
   ]
  },
  {
   "cell_type": "markdown",
   "metadata": {},
   "source": [
    "## 5 Create the parameters "
   ]
  },
  {
   "cell_type": "code",
   "execution_count": 13,
   "metadata": {},
   "outputs": [],
   "source": [
    "parameters = {\n",
    "    # Parameters related to model implementation\n",
    "    \"time\": TIME, \n",
    "    \"number_of_agents\": AGENTS,\n",
    "    \"monte_carlo_runs\": MONTE_CARLO_RUNS,\n",
    "    \n",
    "    # COVID-19 parameters (9)\n",
    "    \"exposed_days\": 4, # average number of days without symptoms and being able to infect others\n",
    "    \"asymptom_days\": 10, # average number of days agents are infected but do not have symptoms\n",
    "    \"symptom_days\": 10,# average number of days agents have mild symptoms\n",
    "    \"critical_days\": 8, # average number of days agents are in critical condition\n",
    "    \"probability_symptomatic\": 0.6165, # determines whether an agent will become asymptomatic or asymptomatic spreader\n",
    "    \"no_hospital_multiplier\": 1.79, # the increase in probability if a critical agent cannot go to the hospital SOURCE: Zhou et al. 2020\n",
    "    \"probability_transmission\": 0.006, #0.005,#0.00335, # should be estimated to replicate realistic R0 number.\n",
    "    \"probability_critical\": {key:value for key, value in zip(age_groups, [0.001, 0.003, 0.012, 0.032, 0.049, 0.102, 0.166, 0.244, 0.273])}, # probability that an agent enters a critical stage of the disease SOURCE: Verity et al.\n",
    "    \"probability_to_die\": {key:value for key, value in zip(age_groups, [0.005, 0.021, 0.053, 0.126, 0.221, 0.303, 0.565, 0.653, 0.765])}, # probability to die per age group in critical stage SOURCE: Verity et al.\n",
    "    \n",
    "    # Cape Town specific parameters (1)\n",
    "    \"health_system_capacity\": 0.0009179, # 3433 acute beds in CT / 3740026 population\n",
    "    \n",
    "    # Policy parameters\n",
    "    # (1) physical distancing measures such as increased hygiëne & face mask adoption \n",
    "    \"physical_distancing_multiplier\": inf_multiplier, # 0.31 was based on a study of face mask on hamsters by Yuen et al. (2020)\n",
    "    # (2) reducing travel e.g. by reducing it for work, school or all\n",
    "    \"visiting_recurring_contacts_multiplier\": travel_multipliers,#[travel_multiplier for x in range(0, TIME)], # based on travel data\n",
    "    # (3) Testing and general awareness\n",
    "    'likelihood_awareness': likelihood_awareness, #li2020early this will be increased through testing, track & trace and coviid\n",
    "    # (4) limiting mass contact e.g. forbidding large events, outside household. \n",
    "    \"gathering_max_contacts\": max_contacts, # based on the regulations for mini bus taxis --> (15 * 0.7) + driver\n",
    "    \n",
    "    # initial infections\n",
    "    \"total_initial_infections\": [x for x in range(0, initial_agents)], # total agents infected in CT\n",
    "    \n",
    "    # additional parameter used to switch of informal districts\n",
    "    \"informality_dummy\": 1.0, # setting this parameter at 0 will mean the lockdown is equally effective anywhere, alternative = 1\n",
    "    \n",
    "    # Technical parameters\n",
    "    'init_infected_agent': 0, # to calculate R0\n",
    "    \"data_output\": 'csv', # 'csv' or 'network', or 'False'\n",
    "    \n",
    "    # Depreciated paramters (can be used later)\n",
    "    \"probability_susceptible\": 0.000, # probability that the agent will again be susceptible after having recovered\n",
    "    \"perc_infections_detects\": perc_infections_detects / 100.0,\n",
    "    'aware_status': ['i2'], # i1 can be added if there is large scale testing, this is optional\n",
    "}"
   ]
  },
  {
   "cell_type": "markdown",
   "metadata": {},
   "source": [
    "Next, we store these parameters in a .json file."
   ]
  },
  {
   "cell_type": "code",
   "execution_count": 14,
   "metadata": {},
   "outputs": [],
   "source": [
    "with open('parameters/parameters_{}.json'.format(CITY), 'w') as outfile:\n",
    "    json.dump(parameters, outfile)"
   ]
  }
 ],
 "metadata": {
  "kernelspec": {
   "display_name": "Python 3",
   "language": "python",
   "name": "python3"
  },
  "language_info": {
   "codemirror_mode": {
    "name": "ipython",
    "version": 3
   },
   "file_extension": ".py",
   "mimetype": "text/x-python",
   "name": "python",
   "nbconvert_exporter": "python",
   "pygments_lexer": "ipython3",
   "version": "3.6.8"
  }
 },
 "nbformat": 4,
 "nbformat_minor": 2
}
