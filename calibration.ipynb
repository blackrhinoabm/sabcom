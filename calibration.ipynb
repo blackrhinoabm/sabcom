{
 "cells": [
  {
   "cell_type": "code",
   "execution_count": 1,
   "metadata": {},
   "outputs": [],
   "source": [
    "import numpy as np\n",
    "import pandas as pd\n",
    "import matplotlib.pyplot as plt\n",
    "from matplotlib import style\n",
    "import time\n",
    "import ipywidgets as wg\n",
    "from ipywidgets import interact\n",
    "from IPython.display import display\n",
    "import networkx as nx\n",
    "from src.environment import Environment\n",
    "from src.runner import runner\n",
    "from src.helpers import confidence_interval\n",
    "from sklearn import preprocessing\n",
    "import random\n",
    "import json"
   ]
  },
  {
   "cell_type": "markdown",
   "metadata": {},
   "source": [
    "# Calibration\n",
    "\n",
    "## 1 Setting the parameters"
   ]
  },
  {
   "cell_type": "code",
   "execution_count": 2,
   "metadata": {},
   "outputs": [],
   "source": [
    "age_groups = ['age_0_10', 'age_10_20', 'age_20_30', 'age_30_40', 'age_40_50', \n",
    "              'age_50_60', 'age_60_70', 'age_70_80', 'age_80_plus']"
   ]
  },
  {
   "cell_type": "code",
   "execution_count": 3,
   "metadata": {},
   "outputs": [],
   "source": [
    "TIME = 120\n",
    "AGENTS = 1000"
   ]
  },
  {
   "cell_type": "code",
   "execution_count": 4,
   "metadata": {},
   "outputs": [
    {
     "name": "stderr",
     "output_type": "stream",
     "text": [
      "c:\\users\\joeri\\appdata\\local\\programs\\python\\python37\\lib\\site-packages\\IPython\\core\\interactiveshell.py:3049: DtypeWarning: Columns (3) have mixed types. Specify dtype option on import or set low_memory=False.\n",
      "  interactivity=interactivity, compiler=compiler, result=result)\n"
     ]
    }
   ],
   "source": [
    "mobility_data = pd.read_csv('input_data/Global_Mobility_Report.csv')[pd.read_csv('input_data/Global_Mobility_Report.csv')['country_region_code'] == 'ZA']\n",
    "mobility_data = mobility_data[mobility_data['sub_region_1'] == 'Western Cape']\n",
    "mobility_data.index = mobility_data['date']\n",
    "mobility_data = mobility_data[mobility_data.columns[5:]]"
   ]
  },
  {
   "cell_type": "code",
   "execution_count": 12,
   "metadata": {},
   "outputs": [
    {
     "data": {
      "text/plain": [
       "0.45983870967741947"
      ]
     },
     "execution_count": 12,
     "metadata": {},
     "output_type": "execute_result"
    }
   ],
   "source": [
    "1 + mobility_data.mean(axis=1).loc['2020-04-01':'2020-05-01'].mean() /100"
   ]
  },
  {
   "cell_type": "code",
   "execution_count": 9,
   "metadata": {},
   "outputs": [
    {
     "data": {
      "text/plain": [
       "date\n",
       "2020-03-29    0.401667\n",
       "2020-03-30    0.441667\n",
       "2020-03-31    0.450000\n",
       "2020-04-01    0.470000\n",
       "2020-04-02    0.471667\n",
       "2020-04-03    0.463333\n",
       "2020-04-04    0.448333\n",
       "2020-04-05    0.426667\n",
       "2020-04-06    0.445000\n",
       "2020-04-07    0.455000\n",
       "2020-04-08    0.470000\n",
       "2020-04-09    0.495000\n",
       "2020-04-10    0.390000\n",
       "2020-04-11    0.446667\n",
       "2020-04-12    0.416667\n",
       "2020-04-13    0.398333\n",
       "2020-04-14    0.466667\n",
       "2020-04-15    0.475000\n",
       "2020-04-16    0.476667\n",
       "2020-04-17    0.473333\n",
       "2020-04-18    0.453333\n",
       "2020-04-19    0.431667\n",
       "2020-04-20    0.446667\n",
       "2020-04-21    0.456667\n",
       "2020-04-22    0.460000\n",
       "2020-04-23    0.463333\n",
       "2020-04-24    0.481667\n",
       "2020-04-25    0.488333\n",
       "2020-04-26    0.466667\n",
       "2020-04-27    0.425000\n",
       "                ...   \n",
       "2020-05-16    0.576667\n",
       "2020-05-17    0.540000\n",
       "2020-05-18    0.565000\n",
       "2020-05-19    0.565000\n",
       "2020-05-20    0.581667\n",
       "2020-05-21    0.575000\n",
       "2020-05-22    0.576667\n",
       "2020-05-23    0.590000\n",
       "2020-05-24    0.551667\n",
       "2020-05-25    0.545000\n",
       "2020-05-26    0.573333\n",
       "2020-05-27    0.608333\n",
       "2020-05-28    0.588333\n",
       "2020-05-29    0.603333\n",
       "2020-05-30    0.643333\n",
       "2020-05-31    0.613333\n",
       "2020-06-01    0.696667\n",
       "2020-06-02    0.665000\n",
       "2020-06-03    0.678333\n",
       "2020-06-04    0.698333\n",
       "2020-06-05    0.666667\n",
       "2020-06-06    0.696667\n",
       "2020-06-07    0.660000\n",
       "2020-06-08    0.671667\n",
       "2020-06-09    0.668333\n",
       "2020-06-10    0.606667\n",
       "2020-06-11    0.623333\n",
       "2020-06-12    0.651667\n",
       "2020-06-13    0.685000\n",
       "2020-06-14    0.628333\n",
       "Length: 78, dtype: float64"
      ]
     },
     "execution_count": 9,
     "metadata": {},
     "output_type": "execute_result"
    }
   ],
   "source": [
    "1 + mobility_data.mean(axis=1).loc['2020-03-29':'2020-06-14']/ 100"
   ]
  },
  {
   "cell_type": "code",
   "execution_count": 34,
   "metadata": {},
   "outputs": [
    {
     "data": {
      "text/plain": [
       "0.45983870967741947"
      ]
     },
     "execution_count": 34,
     "metadata": {},
     "output_type": "execute_result"
    }
   ],
   "source": [
    "travel_multiplier = 1 + mobility_data.mean(axis=1).loc['2020-04-01':'2020-05-01'].mean() /100# month of april\n",
    "travel_multiplier"
   ]
  },
  {
   "cell_type": "code",
   "execution_count": 35,
   "metadata": {},
   "outputs": [
    {
     "data": {
      "text/plain": [
       "12"
      ]
     },
     "execution_count": 35,
     "metadata": {},
     "output_type": "execute_result"
    }
   ],
   "source": [
    "gathering_max_contacts = int(round((15 * 0.7 + 1))) # based on the maximum amount of people that are allowed in a mini bus taxi\n",
    "gathering_max_contacts"
   ]
  },
  {
   "cell_type": "code",
   "execution_count": 36,
   "metadata": {},
   "outputs": [
    {
     "data": {
      "text/plain": [
       "20"
      ]
     },
     "execution_count": 36,
     "metadata": {},
     "output_type": "execute_result"
    }
   ],
   "source": [
    "initial_agents = max(round((310 / (3740026 / AGENTS) * 100/14)), 20) # 310 cases / (population / agent) * 1 / 14% detected cases\n",
    "initial_agents"
   ]
  },
  {
   "cell_type": "code",
   "execution_count": 37,
   "metadata": {},
   "outputs": [],
   "source": [
    "parameters = {\n",
    "    # 1 general simulation parameters\n",
    "    \"time\": TIME, \n",
    "    \"number_of_agents\": AGENTS,\n",
    "    \"monte_carlo_runs\": 1,\n",
    "    \n",
    "    # 2 COVID-19 parameters\n",
    "    \"exposed_days\": 4, # average number of days without symptoms and being able to infect others\n",
    "    \"asymptom_days\": 10, # average number of days agents are infected but do not have symptoms\n",
    "    \"symptom_days\": 10,# average number of days agents have mild symptoms\n",
    "    \"critical_days\": 8, # average number of days agents are in critical condition\n",
    "    \"probability_symptomatic\": 0.6165, # determines whether an agent will become asymptomatic or asymptomatic spreader\n",
    "    \"no_hospital_multiplier\": 1.79, # the increase in probability if a critical agent cannot go to the hospital SOURCE: Zhou et al. 2020\n",
    "    \"probability_transmission\": 0.00335, # should be estimated to replicate realistic R0 number.\n",
    "    \n",
    "    \"probability_critical\": {key:value for key, value in zip(age_groups, [0.001, 0.003, 0.012, 0.032, 0.049, 0.102, 0.166, 0.244, 0.273])}, # probability that an agent enters a critical stage of the disease SOURCE: Verity et al.\n",
    "    \"probability_to_die\": {key:value for key, value in zip(age_groups, [0.005, 0.021, 0.053, 0.126, 0.221, 0.303, 0.565, 0.653, 0.765])}, # probability to die per age group in critical stage SOURCE: Verity et al.\n",
    "    \n",
    "    # Cape Town specific parameters\n",
    "    \"total_initial_infections\": [x for x in range(0, initial_agents)], # total agents infected in CT\n",
    "    \"health_system_capacity\": 0.0009179, # 3433 acute beds in CT / 3740026 population\n",
    "    \n",
    "    # Policy parameters\n",
    "    # general\n",
    "    \"lockdown_days\" : [None for x in range(0, TIME)], # in the baseline this is 0, 5 march was the first reported case, 27 march was the start of the lockdown 35 days \n",
    "    \n",
    "    # Specific policy parameters\n",
    "    # (1) physical distancing measures such as increased hygiëne & face mask adoption \n",
    "    \"physical_distancing_multiplier\": 0.31, # based on a study of face mask on hamsters by Yuen et al. (2020)\n",
    "    # (2) reducing travel e.g. by reducing it for work, school or all\n",
    "    \"visiting_recurring_contacts_multiplier\": travel_multiplier, # based on travel data\n",
    "    # (3) Testing and general awareness\n",
    "    'likelihood_awareness': 0.54, # li2020early this will be increased through testing, track & trace and coviid\n",
    "    # (4) limiting mass contact e.g. forbidding large events, outside household. \n",
    "    \"gathering_max_contacts\": gathering_max_contacts, # based on the regulations for mini bus taxis --> (15 * 0.7) + driver\n",
    "    \n",
    "    # additional parameter used to switch of informal districts\n",
    "    \"informality_dummy\": 1.0, # setting this parameter at 0 will mean the lockdown is equally effective anywhere, alternative = 1\n",
    "    \n",
    "    # additional parameter that can later be used to test large scale testing \n",
    "    'aware_status': ['i2'], # i1 can be added if there is large scale testing, this is optional\n",
    "    \n",
    "    # Technical parameters\n",
    "    'init_infected_agent': 0, # to calculate R0\n",
    "    \"data_output\": 'csv', # 'csv' or 'network', or 'False'\n",
    "    \n",
    "    # Depreciated paramters (can be used later)\n",
    "    \"probability_susceptible\": 0.000, # probability that the agent will again be susceptible after having recovered\n",
    "}"
   ]
  },
  {
   "cell_type": "markdown",
   "metadata": {},
   "source": [
    "Next, we store these parameters in a .json file."
   ]
  },
  {
   "cell_type": "code",
   "execution_count": 38,
   "metadata": {},
   "outputs": [],
   "source": [
    "with open('parameters/parameters.json', 'w') as outfile:\n",
    "    json.dump(parameters, outfile)"
   ]
  },
  {
   "cell_type": "markdown",
   "metadata": {},
   "source": [
    "## 2 Generate input data files\n",
    "\n",
    "Then, we generate a file that add per Ward (district) data on: \n",
    "\n",
    "- informality of the Ward,\n",
    "- initial cases per ward.\n",
    "\n",
    "to the already existing features in the population csv that has \n",
    "\n",
    "- distribution of population size across wards,\n",
    "- the age distribution within wards."
   ]
  },
  {
   "cell_type": "code",
   "execution_count": 24,
   "metadata": {},
   "outputs": [],
   "source": [
    "informal_residential = pd.read_csv('input_data/Informal_Residential.csv').iloc[:-1]\n",
    "inital_infections = pd.read_csv('input_data/Cases_With_Subdistricts.csv', index_col=0)\n",
    "population = pd.read_csv('input_data/population.csv')"
   ]
  },
  {
   "cell_type": "markdown",
   "metadata": {},
   "source": [
    "The informality score of the Wards is then normalized to make be able to compare them in the model and added to the population DataFrame."
   ]
  },
  {
   "cell_type": "code",
   "execution_count": 25,
   "metadata": {},
   "outputs": [],
   "source": [
    "x = informal_residential[['Informal_residential']].values.astype(float)\n",
    "min_max_scaler = preprocessing.MinMaxScaler()\n",
    "x_scaled = min_max_scaler.fit_transform(x)\n",
    "informal_residential['Informal_residential'] = pd.DataFrame(x_scaled)\n",
    "\n",
    "population['Informal_residential'] = informal_residential['Informal_residential']"
   ]
  },
  {
   "cell_type": "markdown",
   "metadata": {},
   "source": [
    "Because the amount of agents are less than in the actual population of Cape Town, we filter some wards so that all of them are at least populated with an agent. Therefore, we calculate the smallest size of a neighbourhood should have as follows."
   ]
  },
  {
   "cell_type": "code",
   "execution_count": 87,
   "metadata": {},
   "outputs": [],
   "source": [
    "smallest_size = population['Population'].sum() / parameters['number_of_agents']"
   ]
  },
  {
   "cell_type": "markdown",
   "metadata": {},
   "source": [
    "We then combine this data into one neighbourhood data set,"
   ]
  },
  {
   "cell_type": "code",
   "execution_count": 88,
   "metadata": {},
   "outputs": [],
   "source": [
    "districts_data = []\n",
    "for i in range(len(population)):\n",
    "    if population['Population'].iloc[i] > smallest_size:\n",
    "        districts_data.append(\n",
    "            [int(population['WardID'].iloc[i]), {'Population': population['Population'].iloc[i],\n",
    "                                                 'Density': population['Density'].iloc[i],\n",
    "                                                 'lon': population['lon'].iloc[i],\n",
    "                                                 'lat': population['lat'].iloc[i],\n",
    "                                                 'Informal_residential': population['Informal_residential'].iloc[i],\n",
    "                                                 'Cases_With_Subdistricts': inital_infections.loc[population['WardID'].iloc[i]]['Cases_03292020'],\n",
    "                                                },\n",
    "            ])\n",
    "max_neighbourhoods = len(districts_data)"
   ]
  },
  {
   "cell_type": "markdown",
   "metadata": {},
   "source": [
    "and export it to a json file. "
   ]
  },
  {
   "cell_type": "code",
   "execution_count": 89,
   "metadata": {},
   "outputs": [],
   "source": [
    "max_districts = len(districts_data) # this can be manually shortened to study dynamics in some districts\n",
    "with open('parameters/district_data.json', 'w') as outfile:\n",
    "    json.dump(districts_data[:max_districts], outfile)"
   ]
  }
 ],
 "metadata": {
  "kernelspec": {
   "display_name": "Python 3",
   "language": "python",
   "name": "python3"
  },
  "language_info": {
   "codemirror_mode": {
    "name": "ipython",
    "version": 3
   },
   "file_extension": ".py",
   "mimetype": "text/x-python",
   "name": "python",
   "nbconvert_exporter": "python",
   "pygments_lexer": "ipython3",
   "version": "3.7.3"
  }
 },
 "nbformat": 4,
 "nbformat_minor": 2
}
