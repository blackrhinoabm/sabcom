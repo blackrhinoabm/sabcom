{
 "cells": [
  {
   "cell_type": "code",
   "execution_count": 1,
   "metadata": {},
   "outputs": [],
   "source": [
    "import numpy as np\n",
    "import pandas as pd\n",
    "import matplotlib.pyplot as plt\n",
    "from matplotlib import style\n",
    "import time\n",
    "import ipywidgets as wg\n",
    "from ipywidgets import interact\n",
    "from IPython.display import display\n",
    "import networkx as nx\n",
    "from src.environment import Environment\n",
    "from src.runner import runner\n",
    "from src.helpers import confidence_interval\n",
    "from sklearn import preprocessing\n",
    "import random\n",
    "import json"
   ]
  },
  {
   "cell_type": "markdown",
   "metadata": {},
   "source": [
    "# Calibration\n",
    "\n",
    "## 1 Setting the parameters"
   ]
  },
  {
   "cell_type": "code",
   "execution_count": 2,
   "metadata": {},
   "outputs": [],
   "source": [
    "age_groups = ['age_0_10', 'age_10_20', 'age_20_30', 'age_30_40', 'age_40_50', \n",
    "              'age_50_60', 'age_60_70', 'age_70_80', 'age_80_plus']"
   ]
  },
  {
   "cell_type": "code",
   "execution_count": 3,
   "metadata": {},
   "outputs": [],
   "source": [
    "TIME = 120"
   ]
  },
  {
   "cell_type": "code",
   "execution_count": 4,
   "metadata": {},
   "outputs": [],
   "source": [
    "parameters = {\n",
    "    # general simulation parameters\n",
    "    \"time\": TIME,\n",
    "    \"number_of_agents\": 5000,\n",
    "    \"monte_carlo_runs\": 1,\n",
    "    \n",
    "    # Cape Town specific parameters\n",
    "    \"total_initial_infections\": [x for x in range(0, 19)], # total agents infected in CT\n",
    "    \"health_system_capacity\": 0.0021, # relative (in terms of population) capacity of the hospitals\n",
    "    \n",
    "    # COVID-19 parameters\n",
    "    \"exposed_days\": 4, # average number of days without symptoms and being able to infect others\n",
    "    \"asymptom_days\": 10, # average number of days agents are infected but do not have symptoms\n",
    "    \"symptom_days\": 10,# average number of days agents have mild symptoms\n",
    "    \"critical_days\": 8, # average number of days agents are in critical condition\n",
    "    \"probability_symptomatic\": 0.6165, # determines whether an agent will become asymptomatic or asymptomatic spreader\n",
    "    \"no_hospital_multiplier\": 1.79, # the increase in probability if a critical agent cannot go to the hospital SOURCE: Zhou et al. 2020\n",
    "    \"probability_transmission\": 0.05, # should be estimated to replicate realistic R0 number.\n",
    "    \n",
    "    \"probability_critical\": {key:value for key, value in zip(age_groups, [0.001, 0.003, 0.012, 0.032, 0.049, 0.102, 0.166, 0.244, 0.273])}, # probability that an agent enters a critical stage of the disease SOURCE: Verity et al.\n",
    "    \"probability_to_die\": {key:value for key, value in zip(age_groups, [0.005, 0.021, 0.053, 0.126, 0.221, 0.303, 0.565, 0.653, 0.765])}, # probability to die per age group in critical stage SOURCE: Verity et al.\n",
    "    \n",
    "    # Policy parameters\n",
    "    \"lockdown_days\" : [None for x in range(0, TIME)], # in the baseline this is 0, 5 march was the first reported case, 27 march was the start of the lockdown 35 days \n",
    "    \"informality_dummy\": 1.0, # setting this parameter at 0 will mean the lockdown is equally effective anywhere, alternative = 1\n",
    "    \n",
    "    # Specific policy parameters\n",
    "    # (1) physical distancing measures such as increased hygiëne & face mask adoption \n",
    "    \"physical_distancing_multiplier\": 0.27, # Jarvis et al. 2020,\n",
    "    # (2) reducing travel e.g. by reducing it for work, school or all\n",
    "    \"visiting_recurring_contacts_multiplier\": 0.6, # depending on how strict the lockdown is at keeping you put.\n",
    "    # (3) Testing and general awareness\n",
    "    'likelihood_awareness': 0.6, # this will be increased through track & trace and coviid\n",
    "    'self_isolation_multiplier': 0.4, # determines the percentage of connections cut thanks to self-isoluation can go up with coviid\n",
    "    'aware_status': ['i2'], # i1 can be added if there is large scale testing \n",
    "    # (4) limiting mass contact e.g. forbidding large events\n",
    "    \"gathering_max_contacts\": 6,\n",
    "    \n",
    "    # Technical parameters\n",
    "    'init_infected_agent': 0, # to calculate R0\n",
    "    \"data_output\": 'csv', # 'csv' or 'network', or 'False'\n",
    "    \n",
    "    # Depreciated paramters (can be used later)\n",
    "    \"probability_susceptible\": 0.000, # probability that the agent will again be susceptible after having recovered\n",
    "    \n",
    "}"
   ]
  },
  {
   "cell_type": "markdown",
   "metadata": {},
   "source": [
    "Next, we store these parameters in a .json file."
   ]
  },
  {
   "cell_type": "code",
   "execution_count": 5,
   "metadata": {},
   "outputs": [],
   "source": [
    "with open('parameters/parameters.json', 'w') as outfile:\n",
    "    json.dump(parameters, outfile)"
   ]
  },
  {
   "cell_type": "markdown",
   "metadata": {},
   "source": [
    "## 2 Generate input data files\n",
    "\n",
    "Then, we generate a file that add per Ward (district) data on: \n",
    "\n",
    "- informality of the Ward,\n",
    "- initial cases per ward.\n",
    "\n",
    "to the already existing features in the population csv that has \n",
    "\n",
    "- distribution of population size across wards,\n",
    "- the age distribution within wards."
   ]
  },
  {
   "cell_type": "code",
   "execution_count": 6,
   "metadata": {},
   "outputs": [],
   "source": [
    "informal_residential = pd.read_csv('input_data/Informal_Residential.csv').iloc[:-1]\n",
    "inital_infections = pd.read_csv('input_data/Cases_With_Subdistricts.csv', index_col=0)\n",
    "population = pd.read_csv('input_data/population.csv')"
   ]
  },
  {
   "cell_type": "markdown",
   "metadata": {},
   "source": [
    "The informality score of the Wards is then normalized to make be able to compare them in the model and added to the population DataFrame."
   ]
  },
  {
   "cell_type": "code",
   "execution_count": 7,
   "metadata": {},
   "outputs": [],
   "source": [
    "x = informal_residential[['Informal_residential']].values.astype(float)\n",
    "min_max_scaler = preprocessing.MinMaxScaler()\n",
    "x_scaled = min_max_scaler.fit_transform(x)\n",
    "informal_residential['Informal_residential'] = pd.DataFrame(x_scaled)\n",
    "\n",
    "population['Informal_residential'] = informal_residential['Informal_residential']"
   ]
  },
  {
   "cell_type": "markdown",
   "metadata": {},
   "source": [
    "Because the amount of agents are less than in the actual population of Cape Town, we filter some wards so that all of them are at least populated with an agent. Therefore, we calculate the smallest size of a neighbourhood should have as follows."
   ]
  },
  {
   "cell_type": "code",
   "execution_count": 8,
   "metadata": {},
   "outputs": [],
   "source": [
    "smallest_size = population['Population'].sum() / parameters['number_of_agents']"
   ]
  },
  {
   "cell_type": "markdown",
   "metadata": {},
   "source": [
    "We then combine this data into one neighbourhood data set,"
   ]
  },
  {
   "cell_type": "code",
   "execution_count": 9,
   "metadata": {},
   "outputs": [],
   "source": [
    "districts_data = []\n",
    "for i in range(len(population)):\n",
    "    if population['Population'].iloc[i] > smallest_size:\n",
    "        districts_data.append(\n",
    "            [int(population['WardID'].iloc[i]), {'Population': population['Population'].iloc[i],\n",
    "                                                 'Density': population['Density'].iloc[i],\n",
    "                                                 'lon': population['lon'].iloc[i],\n",
    "                                                 'lat': population['lat'].iloc[i],\n",
    "                                                 'Informal_residential': population['Informal_residential'].iloc[i],\n",
    "                                                 'Cases_With_Subdistricts': inital_infections.loc[population['WardID'].iloc[i]]['Cases_03292020'],\n",
    "                                                },\n",
    "            ])\n",
    "max_neighbourhoods = len(districts_data)"
   ]
  },
  {
   "cell_type": "markdown",
   "metadata": {},
   "source": [
    "and export it to a json file. "
   ]
  },
  {
   "cell_type": "code",
   "execution_count": 10,
   "metadata": {},
   "outputs": [],
   "source": [
    "max_districts = len(districts_data) # this can be manually shortened to study dynamics in some districts\n",
    "with open('parameters/district_data.json', 'w') as outfile:\n",
    "    json.dump(districts_data[:max_districts], outfile)"
   ]
  }
 ],
 "metadata": {
  "kernelspec": {
   "display_name": "Python 3",
   "language": "python",
   "name": "python3"
  },
  "language_info": {
   "codemirror_mode": {
    "name": "ipython",
    "version": 3
   },
   "file_extension": ".py",
   "mimetype": "text/x-python",
   "name": "python",
   "nbconvert_exporter": "python",
   "pygments_lexer": "ipython3",
   "version": "3.7.3"
  }
 },
 "nbformat": 4,
 "nbformat_minor": 2
}
